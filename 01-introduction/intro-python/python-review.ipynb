{
 "cells": [
  {
   "cell_type": "markdown",
   "metadata": {},
   "source": [
    "# Introducción al \n",
    "## Comprobar versión de Python de nuestro entorno"
   ]
  },
  {
   "cell_type": "markdown",
   "metadata": {},
   "source": [
    "Para comprobar la versión del intérprete de python que estamos usando en el entorno de `conda` activo, simplemente tenemos que ejecutar la siguiente \"celda\":"
   ]
  },
  {
   "cell_type": "code",
   "execution_count": 1,
   "metadata": {},
   "outputs": [
    {
     "data": {
      "text/plain": [
       "'3.8.12 (default, Oct 12 2021, 06:23:56) \\n[Clang 10.0.0 ]'"
      ]
     },
     "execution_count": 1,
     "metadata": {},
     "output_type": "execute_result"
    }
   ],
   "source": [
    "import sys\n",
    "sys.version"
   ]
  },
  {
   "cell_type": "markdown",
   "metadata": {},
   "source": [
    "💡**Nota**: El módulo `sys` es uno de los múltiples módulos nativos (conocidos como *built-in*'s) de `Python`. Este módulo brinda acceso a algunas variables utilizadas o mantenidas por el intérprete, y a funciones que interactúan con el intérprete."
   ]
  },
  {
   "cell_type": "markdown",
   "metadata": {},
   "source": [
    "## Revisión de Python\n",
    "\n",
    "En primer lugar, tal y como indica el título de la sección, debemos aclarar que este breve documento introductorio (o más bien de revisión) de `Python` no pretende ser una guía exhaustiva del lenguaje en sí mismo. El presente documento únicamente pretende revisar los conceptos que consideramos importantes para el desarrollo de la asignatura. Podemos asegurar de antemano que lo que a continuación se muestra no es más que una pequeña exposición introductoria (un pequeño subconjunto selecto de una inmensidad de contenidos posibles que sólo podrían verse con la atención necesaria en un curso específico del lenguaje). Para las mentes más inquietas que quieran sacar el máximo partido del [lenguaje más popular en la actualidad](https://linuxiac.com/python-the-most-popular-programming-language/), recomendamos la lectura las referencias *de facto*: \n",
    "\n",
    "- [Learning Python](https://www.oreilly.com/library/view/learning-python-5th/9781449355722/): Una introducción completa y detallada al lenguaje de Python. Basado en el popular curso de capacitación del autor Mark Lutz, este libro provee una inmersión total en el lenguaje, con el objetivo último de enseñar a escribir código eficiente y de alta calidad con Python. Es una guía de mucho detalle, y por tanto apta para gente que quiera ganar un conocimiento muy profundo del lenguaje. No obstante, es un libro apto para novatos y expertos, sea nuevo en la programación o un desarrollador profesional versado en otros lenguajes.\n",
    "\n",
    "- [Python in a Nutshell](https://www.oreilly.com/library/view/python-in-a/9781491913833/): Libro práctico que proporciona una referencia rápida al lenguaje, incluidos Python 3.5, 2.7 y aspectos destacados de 3.6, áreas de uso común de su amplia biblioteca estándar y algunos de los módulos y paquetes de terceros más útiles.\n",
    "\n",
    "No obstante, queremos hacer notar que dicha lectura es algo opcional, y que el material estrictamente necesario para entender el desarrollo de la asignatura debería estar contenido en este documento."
   ]
  },
  {
   "cell_type": "markdown",
   "metadata": {},
   "source": [
    "### Tipos, variables, operadores, listas, diccionarios, control de flujo y funciones"
   ]
  },
  {
   "cell_type": "markdown",
   "metadata": {},
   "source": [
    "### Programación orientada a objetos (OOP): Clases, métodos especiales y decoradores"
   ]
  },
  {
   "cell_type": "markdown",
   "metadata": {},
   "source": [
    "### Trabajando con ficheros: Módulos io, json y pickle"
   ]
  },
  {
   "cell_type": "markdown",
   "metadata": {},
   "source": [
    "### Librerías útiles para la analítica: Pandas, matplotlib, plotly, etc."
   ]
  },
  {
   "cell_type": "code",
   "execution_count": null,
   "metadata": {
    "pycharm": {
     "name": "#%%\n"
    }
   },
   "outputs": [],
   "source": []
  }
 ],
 "metadata": {
  "kernelspec": {
   "display_name": "Python 3",
   "language": "python",
   "name": "python3"
  },
  "language_info": {
   "codemirror_mode": {
    "name": "ipython",
    "version": 3
   },
   "file_extension": ".py",
   "mimetype": "text/x-python",
   "name": "python",
   "nbconvert_exporter": "python",
   "pygments_lexer": "ipython3",
   "version": "3.7.6"
  }
 },
 "nbformat": 4,
 "nbformat_minor": 2
}