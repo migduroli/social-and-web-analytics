{
 "cells": [
  {
   "cell_type": "markdown",
   "metadata": {},
   "source": [
    "# Introducción\n",
    "\n",
    "## Comprobar versión de Python de nuestro entorno"
   ]
  },
  {
   "cell_type": "markdown",
   "metadata": {},
   "source": [
    "Para comprobar la versión del intérprete de python que estamos usando en el entorno de `conda` activo, simplemente tenemos que ejecutar la siguiente \"celda\":"
   ]
  },
  {
   "cell_type": "code",
   "execution_count": 1,
   "metadata": {},
   "outputs": [
    {
     "data": {
      "text/plain": [
       "'3.7.6 (default, Jan  8 2020, 13:42:34) \\n[Clang 4.0.1 (tags/RELEASE_401/final)]'"
      ]
     },
     "execution_count": 1,
     "metadata": {},
     "output_type": "execute_result"
    }
   ],
   "source": [
    "import sys\n",
    "sys.version"
   ]
  },
  {
   "cell_type": "markdown",
   "metadata": {},
   "source": [
    "💡**Nota**: El módulo `sys` es uno de los múltiples módulos nativos (conocidos como *built-in*'s) de `Python`. Este módulo brinda acceso a algunas variables utilizadas o mantenidas por el intérprete, y a funciones que interactúan con el intérprete."
   ]
  },
  {
   "cell_type": "markdown",
   "metadata": {},
   "source": [
    "## Revisión de Python\n",
    "\n",
    "En primer lugar, tal y como indica el título de la sección, debemos aclarar que este breve documento introductorio (o más bien de revisión) de `Python` no pretende ser una guía exhaustiva del lenguaje en sí mismo. El presente documento únicamente pretende revisar los conceptos que consideramos importantes para el desarrollo de la asignatura. Podemos asegurar de antemano que lo que a continuación se muestra no es más que una pequeña exposición introductoria (un pequeño subconjunto selecto de una inmensidad de contenidos posibles que sólo podrían verse con la atención necesaria en un curso específico del lenguaje). Para las mentes más inquietas que quieran sacar el máximo partido del [lenguaje más popular en la actualidad](https://linuxiac.com/python-the-most-popular-programming-language/), recomendamos la lectura las referencias *de facto*: \n",
    "\n",
    "- [Learning Python](https://www.oreilly.com/library/view/learning-python-5th/9781449355722/): Una introducción completa y detallada al lenguaje de Python. Basado en el popular curso de capacitación del autor Mark Lutz, este libro provee una inmersión total en el lenguaje, con el objetivo último de enseñar a escribir código eficiente y de alta calidad con Python. Es una guía de mucho detalle, y por tanto apta para gente que quiera ganar un conocimiento muy profundo del lenguaje. No obstante, es un libro apto para novatos y expertos, sea nuevo en la programación o un desarrollador profesional versado en otros lenguajes.\n",
    "\n",
    "- [Python in a Nutshell](https://www.oreilly.com/library/view/python-in-a/9781491913833/): Libro práctico que proporciona una referencia rápida al lenguaje, incluidos Python 3.5, 2.7 y aspectos destacados de 3.6, áreas de uso común de su amplia biblioteca estándar y algunos de los módulos y paquetes de terceros más útiles.\n",
    "\n",
    "No obstante, queremos hacer notar que dicha lectura es algo opcional, y que el material necesario para entender el desarrollo de la asignatura debería estar contenido en este documento. Ésto no significa que \"todo\" lo que vayamos a utilizar en lo referente a `Python` esté contenido en este documento (pues esto conllevaría una extensión inncesaria del documento). Por contra, lo que queremos decir con *material necesario para entender el desarrollo de la asignatura* es precísamente *el material fundamental para entender y desarrollar otros conceptos más complejos*. Así, entederemos esta guía como un punto de partida, y nunca como un punto final."
   ]
  },
  {
   "cell_type": "markdown",
   "metadata": {},
   "source": [
    "### Tipos, variables, operadores, listas, diccionarios, control de flujo y funciones\n",
    "\n",
    "Cualquier curso de programación tiene como punto de partida la introducción de los diferentes `tipos` inherentes del lenguaje. El paso lógico a posteriori es continuar con la definición de  `variables`, siguiendo con `operadores` que nos permiten trabajar con dichas variables, siguiendo con colecciones de variables (`listas` y `diccionarios`), para posteriormente ver `controles de flujo`  y definición de `funciones`.\n",
    "\n",
    "\n",
    "#### Tipos de datos (Data Types)\n",
    "\n",
    "En este pequeño curso exprés de `Python` seguiremos el esquema mencionado, empezando por los tipos de datos con los que podemos trabajar (por defecto) en `Python`.\n",
    "\n",
    "Todo dato en `Python` es representado por un `objeto`, cuyo valor (`value`) en cuestión es el dato en sí mismo (y que se suele confundir con el objeto), y cuyo tipo (`type`). El tipo de un objeto determina las operaciones que soporta el objeto en cuestión, más específicamente el valor del objeto. Además, el tipo también determina si el objeto puede ser modificado, siendo un objeto `mutable` en caso afirmativo, o `inmutable` en el caso contrario.\n",
    "\n",
    "Para conocer el tipo de un objeto, podemos hacer uso de una función/método nativo (built-in) de `Python`, el llamado `type`. A continuación exploramos con `type` los tipos de datos nativos de `Python`:\n",
    "\n",
    "##### Numéricos"
   ]
  },
  {
   "cell_type": "code",
   "execution_count": 2,
   "metadata": {},
   "outputs": [
    {
     "name": "stdout",
     "output_type": "stream",
     "text": [
      "<class 'int'>\n",
      "<class 'int'>\n",
      "<class 'int'>\n",
      "<class 'int'>\n",
      "<class 'int'>\n"
     ]
    }
   ],
   "source": [
    "# decimal integer literal:\n",
    "print(type(123))\n",
    "print(type(1_000_000))\n",
    "\n",
    "# binary integer literal:\n",
    "print(type(0b010101))\n",
    "\n",
    "# octal integer literal:\n",
    "print(type(0o6645))\n",
    "\n",
    "# hexadecimal integer literal:\n",
    "print(type(0xDA5))"
   ]
  },
  {
   "cell_type": "code",
   "execution_count": 3,
   "metadata": {},
   "outputs": [
    {
     "name": "stdout",
     "output_type": "stream",
     "text": [
      "<class 'float'>\n",
      "<class 'float'>\n",
      "<class 'float'>\n",
      "<class 'float'>\n"
     ]
    }
   ],
   "source": [
    "# floating-point literals:\n",
    "print(type(1.))\n",
    "print(type(.1))\n",
    "print(type(1e5))\n",
    "print(type(1_000.000_000_123))"
   ]
  },
  {
   "cell_type": "code",
   "execution_count": 4,
   "metadata": {},
   "outputs": [
    {
     "name": "stdout",
     "output_type": "stream",
     "text": [
      "<class 'complex'>\n",
      "<class 'complex'>\n"
     ]
    }
   ],
   "source": [
    "# complex-number literals:\n",
    "print(type(0j))\n",
    "print(type(1+1j))"
   ]
  },
  {
   "cell_type": "markdown",
   "metadata": {},
   "source": [
    "##### Secuencias\n",
    "\n",
    "Una secuencia no es más que un contenedor (finito, ésta es la diferencia con un `iterador`) de elementos que mantienen un órden (de indexado). Tenemos:\n",
    "\n",
    "- Cadenas de caracteres (`str`): **Inmutables**\n",
    "- Tuplas (`tuples`): **Inmutables**\n",
    "- Listas (`list`): **Mutables**"
   ]
  },
  {
   "cell_type": "code",
   "execution_count": 5,
   "metadata": {},
   "outputs": [
    {
     "name": "stdout",
     "output_type": "stream",
     "text": [
      "<class 'str'>\n",
      "<class 'str'>\n"
     ]
    }
   ],
   "source": [
    "# Strings\n",
    "print(type(\"hello world!\"))\n",
    "print(type(\"\"\"This is a formatted string with several lines\n",
    "without the need of adding special characters to break line.\"\"\"))"
   ]
  },
  {
   "cell_type": "code",
   "execution_count": 6,
   "metadata": {},
   "outputs": [
    {
     "name": "stdout",
     "output_type": "stream",
     "text": [
      "<class 'tuple'>\n"
     ]
    }
   ],
   "source": [
    "# Tuples:\n",
    "print(type( (1,2,3,4) ))\n",
    "\n",
    "# NOT! print(type(1,2,3,4))"
   ]
  },
  {
   "cell_type": "markdown",
   "metadata": {},
   "source": [
    "##### Conjuntos y Diccionarios\n",
    "\n",
    "Los conjuntos y diccionarios son *built-in's* de `Python` que permiten el almacenamiento no ordenado de objetos (no tienen por qué ser del mismo tipo):\n",
    "\n",
    "- Conjuntos (`set`): **Mutables**\n",
    "- Diccionarios (`dict`): **Mutables**"
   ]
  },
  {
   "cell_type": "code",
   "execution_count": 7,
   "metadata": {},
   "outputs": [
    {
     "name": "stdout",
     "output_type": "stream",
     "text": [
      "{1, '1', 1.1}\n",
      "<class 'set'>\n",
      "{'1', 2}\n",
      "<class 'set'>\n"
     ]
    }
   ],
   "source": [
    "# Set:\n",
    "print({\"1\", 1, 1.1, 1, \"1\"})\n",
    "print(type({\"1\", 1, 1.1, 1, \"1\"}))\n",
    "\n",
    "print(set([\"1\",2]))\n",
    "print(type(set([\"1\",2])))"
   ]
  },
  {
   "cell_type": "code",
   "execution_count": 8,
   "metadata": {},
   "outputs": [
    {
     "name": "stdout",
     "output_type": "stream",
     "text": [
      "{'key_1': 'value', 'key_2': 1231}\n",
      "<class 'dict'>\n",
      "{'key_1': 'value', 'key_2': 1231}\n"
     ]
    }
   ],
   "source": [
    "# Dict:\n",
    "\n",
    "print({\"key_1\": \"value\", \"key_2\": 1231})\n",
    "print(type({\"key_1\": \"value\", \"key_2\": 1231}))\n",
    "print(dict(key_1=\"value\", key_2=1231))"
   ]
  },
  {
   "cell_type": "markdown",
   "metadata": {},
   "source": [
    "##### Boleanos\n",
    "\n",
    "Cualquier valor en Python se puede usar como un valor de verdad: verdadero o falso. Cualquier número distinto de cero o no vacío (`not None`) (por ejemplo, cadena, tupla, lista, conjunto o diccionario) equivale a verdadero (`True`). El valor `0` (de cualquier tipo numérico), `None` y cualquier contenedor vacío equivalen a falso (`False`). "
   ]
  },
  {
   "cell_type": "markdown",
   "metadata": {},
   "source": [
    "##### None\n",
    "\n",
    "Existe un tipo especial en `Python` que es usado para expresar la ausencia de datos, `None`."
   ]
  },
  {
   "cell_type": "code",
   "execution_count": 9,
   "metadata": {},
   "outputs": [
    {
     "name": "stdout",
     "output_type": "stream",
     "text": [
      "<class 'NoneType'>\n"
     ]
    }
   ],
   "source": [
    "print(type(None))\n",
    "None"
   ]
  },
  {
   "cell_type": "markdown",
   "metadata": {},
   "source": [
    "##### Callables\n",
    "\n",
    "Un último tipo que es importante tener en consideración es el de `callable`, que no es más que un objeto que tiene \"propiedad\" de pode ser *llamado*. Uno de los ejemplos más fácil de entender de este tipo es el de `función`. Toda función es un `callable`, aunque no son los únicos. Si queremos explorar qué es o no un `callable`, podemos usar la función *built-in* con el mismo nombre sobre un objeto, lo que retornará `True` en caso verdadero y `False` en el caso contrario:"
   ]
  },
  {
   "cell_type": "code",
   "execution_count": 7,
   "metadata": {},
   "outputs": [
    {
     "data": {
      "text/plain": [
       "True"
      ]
     },
     "execution_count": 7,
     "metadata": {},
     "output_type": "execute_result"
    }
   ],
   "source": [
    "callable(print)"
   ]
  },
  {
   "cell_type": "code",
   "execution_count": 8,
   "metadata": {},
   "outputs": [
    {
     "data": {
      "text/plain": [
       "False"
      ]
     },
     "execution_count": 8,
     "metadata": {},
     "output_type": "execute_result"
    }
   ],
   "source": [
    "callable(123)"
   ]
  },
  {
   "cell_type": "markdown",
   "metadata": {},
   "source": [
    "#### Variables y referencias\n",
    "\n",
    "Un programa `Python` accede a cualquier dato a través de una **referencia**. Es importante que entendamos éste concepto, a pesar de que pueda parecer algo abstracto, dado que es una característica fundamental del lenguaje, y que determina la forma de programación y el funcionamiento de los programas (en ocasiones llamados *scripts*). \n",
    "\n",
    "Una referencia no es más que un *nombre* que \"apunta\" a un valor, más específicamente a un objeto que tiene ese valor. ¿Dónde encontramos referencias? Como vamos a ver a continuación, una referencia puede ser: una `variable` (e.g. `x = 1.123`), un `atributo`, propiedades de un objeto (instancia de una clase, e.g. `obj.x` donde `x` sería el atributo del objeto `obj`), o un `elemento`, i.e. un componente de un contenedor (e.g., `[x, y, z]` siendo `x`, `y`, `z` elementos de la lista `[...]`). \n",
    "\n",
    "Lo más característico de `Python`, sobre todo para programadores que vienen de lenguajes fuertemente tipados, como puede ser `C/C++` o `Java`, es que las variables, u otras referencias, no tienen un tipo intrínseco. Esto se debe a que en python la declaración es dinámica. De esta forma, la referencia `x = 1`, puede ser primeramente una referencia a un `int`, y posteriormente cambiar a ser `x = \"hola\"` referencia a `str`. Es decir, en `Python` no tenemos que malgastar tiempo en \"declaraciones\". ¿Cómo definimos entonces una variable? Tan sencillo como asignarle (*binding*) un valor con el operador `=`:"
   ]
  },
  {
   "cell_type": "code",
   "execution_count": 26,
   "metadata": {},
   "outputs": [],
   "source": [
    "my_var = 1.123"
   ]
  },
  {
   "cell_type": "code",
   "execution_count": 27,
   "metadata": {},
   "outputs": [
    {
     "data": {
      "text/plain": [
       "float"
      ]
     },
     "execution_count": 27,
     "metadata": {},
     "output_type": "execute_result"
    }
   ],
   "source": [
    "type(my_var)"
   ]
  },
  {
   "cell_type": "code",
   "execution_count": 28,
   "metadata": {},
   "outputs": [
    {
     "data": {
      "text/plain": [
       "'0x7fa439db48f0'"
      ]
     },
     "execution_count": 28,
     "metadata": {},
     "output_type": "execute_result"
    }
   ],
   "source": [
    "# Posición de memoria:\n",
    "hex(id(my_var))"
   ]
  },
  {
   "cell_type": "markdown",
   "metadata": {},
   "source": [
    "De esta forma, `my_var` es una variable que referencia al objeto tipo `float` con valor `1.123`. Sin embargo, `my_var` puede cambiar en cualquier momento a qué dato/objeto referencia. Para ello solo tenemos que cambiar su valor (*unbinding*):"
   ]
  },
  {
   "cell_type": "code",
   "execution_count": 29,
   "metadata": {},
   "outputs": [],
   "source": [
    "my_var = \"hola!\""
   ]
  },
  {
   "cell_type": "code",
   "execution_count": 30,
   "metadata": {},
   "outputs": [
    {
     "data": {
      "text/plain": [
       "str"
      ]
     },
     "execution_count": 30,
     "metadata": {},
     "output_type": "execute_result"
    }
   ],
   "source": [
    "type(my_var)"
   ]
  },
  {
   "cell_type": "code",
   "execution_count": 31,
   "metadata": {},
   "outputs": [
    {
     "data": {
      "text/plain": [
       "'0x7fa439f93cf0'"
      ]
     },
     "execution_count": 31,
     "metadata": {},
     "output_type": "execute_result"
    }
   ],
   "source": [
    "hex(id(my_var))"
   ]
  },
  {
   "cell_type": "markdown",
   "metadata": {},
   "source": [
    "Lo interesante de lo que acabamos de ver es que `my_var` es en sí mismo un objeto que tiene una ocupa una determinada posición de memoria, sin embargo el tipo de su contenido ha cambiado dinámicamente sin mayor esfuerzo. Esto se conoce como **tipado dinámico**.\n",
    "\n",
    "El *tipado dinámico* (*dynamic typing*) obviamente representa una gran ventaja a la hora de escribir/prototipar código de manera rápida. Sin embargo, también puede darnos algún que otro dolor de cabeza cuando algo no funciona como esperamos y tenemos que destripar (*debugging*) el código. Es por ello que a día de hoy se recomienda anotar el tipo de las variables (*type hinting*) en ciertas ocasiones, como veremos a posteriori. Los *consejos* a los que nos refereriremos en éste curso siempre serán aquellos dados por la comunidad como PEP's ([Python Enhancement Proposals](https://www.python.org/dev/peps/)). "
   ]
  },
  {
   "cell_type": "markdown",
   "metadata": {},
   "source": [
    "Para poder explorar todos los tipos de variable que hemos comentado, vamos a utilizar una definición de una clase (`class`) antes de haber visto lo que ésto significa. Por el momento, recomendamos hacer uso del siguiente bloque de código sin mayor detalle de la definición de la clase, a lo que volveremos posteriormente con mayor atención en la sección sobre [OOP](https://en.wikipedia.org/wiki/Object-oriented_programming)."
   ]
  },
  {
   "cell_type": "code",
   "execution_count": 51,
   "metadata": {},
   "outputs": [],
   "source": [
    "class Student:\n",
    "    \"\"\"Class defining a student\n",
    "    \n",
    "    The object student will contain (by default) the \n",
    "    name, surname and age of the student we are considering. \n",
    "    \"\"\"\n",
    "    def __init__(self, name: str, surname: str, age: float):\n",
    "        \"\"\"Instantiates a student object\n",
    "        \n",
    "        :param name: The name of the student (str)\n",
    "        :param surname: The surname of the stududent (str)\n",
    "        :param age: The age of the student (float)\n",
    "        \"\"\"\n",
    "        self.name = name\n",
    "        self.surname = surname\n",
    "        self.age = age"
   ]
  },
  {
   "cell_type": "code",
   "execution_count": 52,
   "metadata": {},
   "outputs": [],
   "source": [
    "# ref: Variable\n",
    "my_hi = \"hello!\"\n",
    "my_student = Student(\n",
    "    name=\"John\",\n",
    "    surname=\"Doe\",\n",
    "    age=35,\n",
    ")\n",
    "\n",
    "my_tuple = (my_hi, my_student)\n",
    "my_list = [my_hi, my_student]"
   ]
  },
  {
   "cell_type": "code",
   "execution_count": 53,
   "metadata": {},
   "outputs": [
    {
     "data": {
      "text/plain": [
       "'hello!'"
      ]
     },
     "execution_count": 53,
     "metadata": {},
     "output_type": "execute_result"
    }
   ],
   "source": [
    "my_hi"
   ]
  },
  {
   "cell_type": "code",
   "execution_count": 54,
   "metadata": {},
   "outputs": [
    {
     "data": {
      "text/plain": [
       "<__main__.Student at 0x7fa43a2f0d50>"
      ]
     },
     "execution_count": 54,
     "metadata": {},
     "output_type": "execute_result"
    }
   ],
   "source": [
    "my_student"
   ]
  },
  {
   "cell_type": "code",
   "execution_count": 46,
   "metadata": {},
   "outputs": [
    {
     "data": {
      "text/plain": [
       "35"
      ]
     },
     "execution_count": 46,
     "metadata": {},
     "output_type": "execute_result"
    }
   ],
   "source": [
    "# ref: Attribute\n",
    "my_student.age"
   ]
  },
  {
   "cell_type": "code",
   "execution_count": 36,
   "metadata": {},
   "outputs": [
    {
     "data": {
      "text/plain": [
       "'hello!'"
      ]
     },
     "execution_count": 36,
     "metadata": {},
     "output_type": "execute_result"
    }
   ],
   "source": [
    "# ref: Item (first element)\n",
    "my_tuple[0]"
   ]
  },
  {
   "cell_type": "code",
   "execution_count": 38,
   "metadata": {},
   "outputs": [
    {
     "data": {
      "text/plain": [
       "<__main__.Student at 0x7fa43a11ba90>"
      ]
     },
     "execution_count": 38,
     "metadata": {},
     "output_type": "execute_result"
    }
   ],
   "source": [
    "# last element:\n",
    "my_tuple[-1]"
   ]
  },
  {
   "cell_type": "code",
   "execution_count": 40,
   "metadata": {},
   "outputs": [
    {
     "data": {
      "text/plain": [
       "['hello!', <__main__.Student at 0x7fa43a11ba90>]"
      ]
     },
     "execution_count": 40,
     "metadata": {},
     "output_type": "execute_result"
    }
   ],
   "source": [
    "# slicing: selección de un intervalo semiabierto de índices [0,2)\n",
    "my_list[0:2]"
   ]
  },
  {
   "cell_type": "markdown",
   "metadata": {},
   "source": [
    "Nada nos impide poder hacer un *rebinding* de la edad de nuestro estudiante:"
   ]
  },
  {
   "cell_type": "code",
   "execution_count": 55,
   "metadata": {},
   "outputs": [],
   "source": [
    "my_student.age = \"35\""
   ]
  },
  {
   "cell_type": "markdown",
   "metadata": {},
   "source": [
    "#### Operadores\n",
    "\n",
    "Para una discusión exhaustiva sobre los operadores nativos de `Python` podemos acudir a una de las referencias mencionadas más arriba, o a éste [link](https://realpython.com/python-operators-expressions/#arithmetic-operators).\n",
    "\n",
    "En nuestro caso vamos a presentar los operadores que serán de mayor utilidada en éste curso, sin descartar la necesidad futura de alguno no mencionado en los siguientes ejemplos:"
   ]
  },
  {
   "cell_type": "markdown",
   "metadata": {},
   "source": [
    "##### Comparadores: `==`, `!=`, `<`, `>`, `<=`, `>=`, ..."
   ]
  },
  {
   "cell_type": "code",
   "execution_count": 81,
   "metadata": {},
   "outputs": [
    {
     "data": {
      "text/plain": [
       "False"
      ]
     },
     "execution_count": 81,
     "metadata": {},
     "output_type": "execute_result"
    }
   ],
   "source": [
    "my_hi == \"hola\""
   ]
  },
  {
   "cell_type": "code",
   "execution_count": 82,
   "metadata": {},
   "outputs": [
    {
     "data": {
      "text/plain": [
       "True"
      ]
     },
     "execution_count": 82,
     "metadata": {},
     "output_type": "execute_result"
    }
   ],
   "source": [
    "my_hi <= \"hello!\""
   ]
  },
  {
   "cell_type": "code",
   "execution_count": 83,
   "metadata": {},
   "outputs": [
    {
     "data": {
      "text/plain": [
       "True"
      ]
     },
     "execution_count": 83,
     "metadata": {},
     "output_type": "execute_result"
    }
   ],
   "source": [
    "1 < 12.123"
   ]
  },
  {
   "cell_type": "code",
   "execution_count": 84,
   "metadata": {},
   "outputs": [
    {
     "data": {
      "text/plain": [
       "True"
      ]
     },
     "execution_count": 84,
     "metadata": {},
     "output_type": "execute_result"
    }
   ],
   "source": [
    "# Cadenas (Equivalente: 1 < 2 and 2 < 3 and 3 < 4)\n",
    "1 < 2 < 3 < 4"
   ]
  },
  {
   "cell_type": "code",
   "execution_count": 85,
   "metadata": {},
   "outputs": [
    {
     "data": {
      "text/plain": [
       "False"
      ]
     },
     "execution_count": 85,
     "metadata": {},
     "output_type": "execute_result"
    }
   ],
   "source": [
    "# Cuidado con los paréntesis!\n",
    "((my_hi == \"hello!\") or (1 < 2)) and (4 < 3) "
   ]
  },
  {
   "cell_type": "code",
   "execution_count": 75,
   "metadata": {},
   "outputs": [
    {
     "data": {
      "text/plain": [
       "True"
      ]
     },
     "execution_count": 75,
     "metadata": {},
     "output_type": "execute_result"
    }
   ],
   "source": [
    "(my_hi == \"hello!\") or (1 < 2) and (4 < 3)"
   ]
  },
  {
   "cell_type": "code",
   "execution_count": 91,
   "metadata": {},
   "outputs": [
    {
     "data": {
      "text/plain": [
       "False"
      ]
     },
     "execution_count": 91,
     "metadata": {},
     "output_type": "execute_result"
    }
   ],
   "source": [
    "st_1 = Student(\"John\", \"Doe\", 35)\n",
    "st_2 = Student(\"John\", \"Doe\", 35)\n",
    "\n",
    "# Cuidado con la comparación de objetos propios: \n",
    "st_1 == st_2"
   ]
  },
  {
   "cell_type": "code",
   "execution_count": 95,
   "metadata": {},
   "outputs": [
    {
     "data": {
      "text/plain": [
       "True"
      ]
     },
     "execution_count": 95,
     "metadata": {},
     "output_type": "execute_result"
    }
   ],
   "source": [
    "st_1.name == st_2.name and \\\n",
    "st_1.surname == st_2.surname and \\\n",
    "st_1.age == st_2.age"
   ]
  },
  {
   "cell_type": "code",
   "execution_count": 113,
   "metadata": {},
   "outputs": [],
   "source": [
    "# Ternary operator: when_true if condition else when_false\n",
    "\n",
    "## Built-in module for dealing with dates:\n",
    "from datetime import datetime\n",
    "\n",
    "is_friday = True if datetime.now().weekday() == 4 else False"
   ]
  },
  {
   "cell_type": "code",
   "execution_count": 114,
   "metadata": {},
   "outputs": [
    {
     "data": {
      "text/plain": [
       "False"
      ]
     },
     "execution_count": 114,
     "metadata": {},
     "output_type": "execute_result"
    }
   ],
   "source": [
    "is_friday"
   ]
  },
  {
   "cell_type": "markdown",
   "metadata": {},
   "source": [
    "### Programación orientada a objetos (OOP): Clases, métodos especiales y decoradores"
   ]
  },
  {
   "cell_type": "markdown",
   "metadata": {},
   "source": [
    "### Trabajando con ficheros: Módulos io, json y pickle"
   ]
  },
  {
   "cell_type": "markdown",
   "metadata": {},
   "source": [
    "### Librerías útiles para la analítica: Pandas, matplotlib, plotly, etc."
   ]
  }
 ],
 "metadata": {
  "kernelspec": {
   "display_name": "Python 3",
   "language": "python",
   "name": "python3"
  },
  "language_info": {
   "codemirror_mode": {
    "name": "ipython",
    "version": 3
   },
   "file_extension": ".py",
   "mimetype": "text/x-python",
   "name": "python",
   "nbconvert_exporter": "python",
   "pygments_lexer": "ipython3",
   "version": "3.7.6"
  }
 },
 "nbformat": 4,
 "nbformat_minor": 2
}
