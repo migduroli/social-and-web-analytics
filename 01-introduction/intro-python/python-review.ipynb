{
 "cells": [
  {
   "cell_type": "markdown",
   "metadata": {},
   "source": [
    "# Introducción al \n",
    "## Comprobar versión de Python de nuestro entorno"
   ]
  },
  {
   "cell_type": "markdown",
   "metadata": {},
   "source": [
    "Para comprobar la versión del intérprete de python que estamos usando en el entorno de `conda` activo, simplemente tenemos que ejecutar la siguiente \"celda\":"
   ]
  },
  {
   "cell_type": "code",
   "execution_count": 1,
   "metadata": {},
   "outputs": [
    {
     "data": {
      "text/plain": [
       "'3.8.12 (default, Oct 12 2021, 06:23:56) \\n[Clang 10.0.0 ]'"
      ]
     },
     "execution_count": 1,
     "metadata": {},
     "output_type": "execute_result"
    }
   ],
   "source": [
    "import sys\n",
    "sys.version"
   ]
  },
  {
   "cell_type": "markdown",
   "metadata": {},
   "source": [
    "💡**Nota**: El módulo `sys` es uno de los múltiples módulos nativos (conocidos como *built-in*'s) de `Python`. Este módulo brinda acceso a algunas variables utilizadas o mantenidas por el intérprete, y a funciones que interactúan con el intérprete."
   ]
  },
  {
   "cell_type": "markdown",
   "metadata": {},
   "source": [
    "## Revisión de Python\n",
    "\n",
    "En primer lugar, tal y como indica el título de la sección, debemos aclarar que este breve documento introductorio (o más bien de revisión) de `Python` no pretende ser una guía exhaustiva del lenguaje en sí mismo. El presente documento únicamente pretende revisar los conceptos que consideramos importantes para el desarrollo de la asignatura. Podemos asegurar de antemano que lo que a continuación se muestra no es más que una pequeña exposición introductoria (un pequeño subconjunto selecto de una inmensidad de contenidos posibles que sólo podrían verse con la atención necesaria en un curso específico del lenguaje). Para las mentes más inquietas que quieran sacar el máximo partido del [lenguaje más popular en la actualidad](https://linuxiac.com/python-the-most-popular-programming-language/), recomendamos la lectura las referencias *de facto*: \n",
    "\n",
    "- [Learning Python](https://www.oreilly.com/library/view/learning-python-5th/9781449355722/): Una introducción completa y detallada al lenguaje de Python. Basado en el popular curso de capacitación del autor Mark Lutz, este libro provee una inmersión total en el lenguaje, con el objetivo último de enseñar a escribir código eficiente y de alta calidad con Python. Es una guía de mucho detalle, y por tanto apta para gente que quiera ganar un conocimiento muy profundo del lenguaje. No obstante, es un libro apto para novatos y expertos, sea nuevo en la programación o un desarrollador profesional versado en otros lenguajes.\n",
    "\n",
    "- [Python in a Nutshell](https://www.oreilly.com/library/view/python-in-a/9781491913833/): Libro práctico que proporciona una referencia rápida al lenguaje, incluidos Python 3.5, 2.7 y aspectos destacados de 3.6, áreas de uso común de su amplia biblioteca estándar y algunos de los módulos y paquetes de terceros más útiles.\n",
    "\n",
    "No obstante, queremos hacer notar que dicha lectura es algo opcional, y que el material necesario para entender el desarrollo de la asignatura debería estar contenido en este documento. Ésto no significa que \"todo\" lo que vayamos a utilizar en lo referente a `Python` esté contenido en este documento (pues esto conllevaría una extensión inncesaria del documento). Por contra, lo que queremos decir con *material necesario para entender el desarrollo de la asignatura* es precísamente *el material fundamental para entender y desarrollar otros conceptos más complejos*. Así, entederemos esta guía como un punto de partida, y nunca como un punto final."
   ]
  },
  {
   "cell_type": "markdown",
   "metadata": {},
   "source": [
    "### Tipos, variables, operadores, listas, diccionarios, control de flujo y funciones\n",
    "\n",
    "Cualquier curso de programación tiene como punto de partida la introducción de los diferentes `tipos` inherentes del lenguaje. El paso lógico a posteriori es continuar con la definición de  `variables`, siguiendo con `operadores` que nos permiten trabajar con dichas variables, siguiendo con colecciones de variables (`listas` y `diccionarios`), para posteriormente ver `controles de flujo`  y definición de `funciones`.\n",
    "\n",
    "\n",
    "#### Tipos de datos (Data Types)\n",
    "\n",
    "En este pequeño curso exprés de `Python` seguiremos el esquema mencionado, empezando por los tipos de datos con los que podemos trabajar (por defecto) en `Python`.\n",
    "\n",
    "Todo dato en `Python` es representado por un `objeto`, cuyo valor (`value`) en cuestión es el dato en sí mismo (y que se suele confundir con el objeto), y cuyo tipo (`type`). El tipo de un objeto determina las operaciones que soporta el objeto en cuestión, más específicamente el valor del objeto. Además, el tipo también determina si el objeto puede ser modificado, siendo un objeto `mutable` en caso afirmativo, o `inmutable` en el caso contrario.\n",
    "\n",
    "Para conocer el tipo de un objeto, podemos hacer uso de una función/método nativo (built-in) de `Python`, el llamado `type`. A continuación exploramos con `type` los tipos de datos nativos de `Python`:\n",
    "\n",
    "##### Numéricos"
   ]
  },
  {
   "cell_type": "code",
   "execution_count": 17,
   "metadata": {},
   "outputs": [
    {
     "name": "stdout",
     "output_type": "stream",
     "text": [
      "<class 'int'>\n",
      "<class 'int'>\n",
      "<class 'int'>\n",
      "<class 'int'>\n",
      "<class 'int'>\n"
     ]
    }
   ],
   "source": [
    "# decimal integer literal:\n",
    "print(type(123))\n",
    "print(type(1_000_000))\n",
    "\n",
    "# binary integer literal:\n",
    "print(type(0b010101))\n",
    "\n",
    "# octal integer literal:\n",
    "print(type(0o6645))\n",
    "\n",
    "# hexadecimal integer literal:\n",
    "print(type(0xDA5))"
   ]
  },
  {
   "cell_type": "code",
   "execution_count": 19,
   "metadata": {},
   "outputs": [
    {
     "name": "stdout",
     "output_type": "stream",
     "text": [
      "<class 'float'>\n",
      "<class 'float'>\n",
      "<class 'float'>\n",
      "<class 'float'>\n"
     ]
    }
   ],
   "source": [
    "# floating-point literals:\n",
    "print(type(1.))\n",
    "print(type(.1))\n",
    "print(type(1e5))\n",
    "print(type(1_000.000_000_123))"
   ]
  },
  {
   "cell_type": "code",
   "execution_count": 16,
   "metadata": {},
   "outputs": [
    {
     "name": "stdout",
     "output_type": "stream",
     "text": [
      "<class 'complex'>\n",
      "<class 'complex'>\n"
     ]
    }
   ],
   "source": [
    "# complex-number literals:\n",
    "print(type(0j))\n",
    "print(type(1+1j))"
   ]
  },
  {
   "cell_type": "markdown",
   "metadata": {},
   "source": [
    "##### Secuencias\n",
    "\n",
    "Una secuencia no es más que un contenedor (finito, ésta es la diferencia con un `iterador`) de elementos que mantienen un órden (de indexado). Tenemos:\n",
    "\n",
    "- Cadenas de caracteres (`str`): **Inmutables**\n",
    "- Tuplas (`tuples`): **Inmutables**\n",
    "- Listas (`list`): **Mutables**"
   ]
  },
  {
   "cell_type": "code",
   "execution_count": 27,
   "metadata": {},
   "outputs": [
    {
     "name": "stdout",
     "output_type": "stream",
     "text": [
      "<class 'str'>\n",
      "<class 'str'>\n"
     ]
    }
   ],
   "source": [
    "# Strings\n",
    "print(type(\"hello world!\"))\n",
    "print(type(\"\"\"This is a formatted string with several lines\n",
    "without the need of adding special characters to break line.\"\"\"))"
   ]
  },
  {
   "cell_type": "code",
   "execution_count": 28,
   "metadata": {},
   "outputs": [
    {
     "name": "stdout",
     "output_type": "stream",
     "text": [
      "<class 'tuple'>\n"
     ]
    }
   ],
   "source": [
    "# Tuples:\n",
    "print(type( (1,2,3,4) ))\n",
    "\n",
    "# NOT! print(type(1,2,3,4))"
   ]
  },
  {
   "cell_type": "markdown",
   "metadata": {},
   "source": [
    "##### Conjuntos y Diccionarios\n",
    "\n",
    "Los conjuntos y diccionarios son *built-in's* de `Python` que permiten el almacenamiento no ordenado de objetos (no tienen por qué ser del mismo tipo):\n",
    "\n",
    "- Conjuntos (`set`): **Mutables**\n",
    "- Diccionarios (`dict`): **Mutables**"
   ]
  },
  {
   "cell_type": "code",
   "execution_count": 51,
   "metadata": {},
   "outputs": [
    {
     "name": "stdout",
     "output_type": "stream",
     "text": [
      "{'1', 1, 1.1}\n",
      "<class 'set'>\n",
      "{'1', 2}\n",
      "<class 'set'>\n"
     ]
    }
   ],
   "source": [
    "# Set:\n",
    "print({\"1\", 1, 1.1, 1, \"1\"})\n",
    "print(type({\"1\", 1, 1.1, 1, \"1\"}))\n",
    "\n",
    "print(set([\"1\",2]))\n",
    "print(type(set([\"1\",2])))"
   ]
  },
  {
   "cell_type": "code",
   "execution_count": 50,
   "metadata": {},
   "outputs": [
    {
     "name": "stdout",
     "output_type": "stream",
     "text": [
      "{'key_1': 'value', 'key_2': 1231}\n",
      "<class 'dict'>\n",
      "{'key_1': 'value', 'key_2': 1231}\n"
     ]
    }
   ],
   "source": [
    "# Dict:\n",
    "\n",
    "print({\"key_1\": \"value\", \"key_2\": 1231})\n",
    "print(type({\"key_1\": \"value\", \"key_2\": 1231}))\n",
    "print(dict(key_1=\"value\", key_2=1231))"
   ]
  },
  {
   "cell_type": "markdown",
   "metadata": {},
   "source": [
    "##### Boleanos\n",
    "\n",
    "Cualquier valor en Python se puede usar como un valor de verdad: verdadero o falso. Cualquier número distinto de cero o no vacío (`not None`) (por ejemplo, cadena, tupla, lista, conjunto o diccionario) equivale a verdadero (`True`). El valor `0` (de cualquier tipo numérico), `None` y cualquier contenedor vacío equivalen a falso (`False`). "
   ]
  },
  {
   "cell_type": "markdown",
   "metadata": {},
   "source": [
    "##### None\n",
    "\n",
    "Existe un tipo especial en `Python` que es usado para expresar la ausencia de datos, `None`."
   ]
  },
  {
   "cell_type": "code",
   "execution_count": 57,
   "metadata": {},
   "outputs": [
    {
     "name": "stdout",
     "output_type": "stream",
     "text": [
      "<class 'NoneType'>\n"
     ]
    }
   ],
   "source": [
    "print(type(None))\n",
    "None"
   ]
  },
  {
   "cell_type": "markdown",
   "metadata": {},
   "source": [
    "### Programación orientada a objetos (OOP): Clases, métodos especiales y decoradores"
   ]
  },
  {
   "cell_type": "markdown",
   "metadata": {},
   "source": [
    "### Trabajando con ficheros: Módulos io, json y pickle"
   ]
  },
  {
   "cell_type": "markdown",
   "metadata": {},
   "source": [
    "### Librerías útiles para la analítica: Pandas, matplotlib, plotly, etc."
   ]
  },
  {
   "cell_type": "code",
   "execution_count": 29,
   "metadata": {
    "pycharm": {
     "name": "#%%\n"
    }
   },
   "outputs": [],
   "source": [
    "my_tuple = (1,2,3)"
   ]
  },
  {
   "cell_type": "code",
   "execution_count": 31,
   "metadata": {},
   "outputs": [
    {
     "ename": "TypeError",
     "evalue": "'tuple' object does not support item assignment",
     "output_type": "error",
     "traceback": [
      "\u001B[0;31m---------------------------------------------------------------------------\u001B[0m",
      "\u001B[0;31mTypeError\u001B[0m                                 Traceback (most recent call last)",
      "\u001B[0;32m<ipython-input-31-9011b862ad92>\u001B[0m in \u001B[0;36m<module>\u001B[0;34m\u001B[0m\n\u001B[0;32m----> 1\u001B[0;31m \u001B[0mmy_tuple\u001B[0m\u001B[0;34m[\u001B[0m\u001B[0;36m0\u001B[0m\u001B[0;34m]\u001B[0m \u001B[0;34m=\u001B[0m \u001B[0;36m1231\u001B[0m\u001B[0;34m\u001B[0m\u001B[0;34m\u001B[0m\u001B[0m\n\u001B[0m",
      "\u001B[0;31mTypeError\u001B[0m: 'tuple' object does not support item assignment"
     ]
    }
   ],
   "source": [
    "my_tuple[0] = 1231"
   ]
  },
  {
   "cell_type": "code",
   "execution_count": 36,
   "metadata": {},
   "outputs": [],
   "source": [
    "my_dict = {\"1\": \"aasfasd\"}"
   ]
  },
  {
   "cell_type": "code",
   "execution_count": 38,
   "metadata": {},
   "outputs": [],
   "source": [
    "my_dict[\"1\"] = \"231\""
   ]
  },
  {
   "cell_type": "code",
   "execution_count": 39,
   "metadata": {},
   "outputs": [
    {
     "data": {
      "text/plain": [
       "{'1': '231'}"
      ]
     },
     "execution_count": 39,
     "metadata": {},
     "output_type": "execute_result"
    }
   ],
   "source": [
    "my_dict"
   ]
  },
  {
   "cell_type": "code",
   "execution_count": null,
   "metadata": {},
   "outputs": [],
   "source": []
  }
 ],
 "metadata": {
  "kernelspec": {
   "display_name": "Python 3",
   "language": "python",
   "name": "python3"
  },
  "language_info": {
   "codemirror_mode": {
    "name": "ipython",
    "version": 3
   },
   "file_extension": ".py",
   "mimetype": "text/x-python",
   "name": "python",
   "nbconvert_exporter": "python",
   "pygments_lexer": "ipython3",
   "version": "3.7.6"
  }
 },
 "nbformat": 4,
 "nbformat_minor": 2
}