{
 "cells": [
  {
   "cell_type": "markdown",
   "metadata": {},
   "source": [
    "# Introducción\n",
    "\n",
    "## Comprobar versión de Python de nuestro entorno"
   ]
  },
  {
   "cell_type": "markdown",
   "metadata": {},
   "source": [
    "Para comprobar la versión del intérprete de python que estamos usando en el entorno de `conda` activo, simplemente tenemos que ejecutar la siguiente \"celda\":"
   ]
  },
  {
   "cell_type": "code",
   "execution_count": 1,
   "metadata": {},
   "outputs": [
    {
     "data": {
      "text/plain": [
       "'3.8.12 (default, Oct 12 2021, 06:23:56) \\n[Clang 10.0.0 ]'"
      ]
     },
     "execution_count": 1,
     "metadata": {},
     "output_type": "execute_result"
    }
   ],
   "source": [
    "import sys\n",
    "sys.version"
   ]
  },
  {
   "cell_type": "markdown",
   "metadata": {},
   "source": [
    "💡**Nota**: El módulo `sys` es uno de los múltiples módulos nativos (conocidos como *built-in*'s) de `Python`. Este módulo brinda acceso a algunas variables utilizadas o mantenidas por el intérprete, y a funciones que interactúan con el intérprete."
   ]
  },
  {
   "cell_type": "markdown",
   "metadata": {},
   "source": [
    "## Revisión de Python\n",
    "\n",
    "En primer lugar, tal y como indica el título de la sección, debemos aclarar que este breve documento introductorio (o más bien de revisión) de `Python` no pretende ser una guía exhaustiva del lenguaje en sí mismo. El presente documento únicamente pretende revisar los conceptos que consideramos importantes para el desarrollo de la asignatura. Podemos asegurar de antemano que lo que a continuación se muestra no es más que una pequeña exposición introductoria (un pequeño subconjunto selecto de una inmensidad de contenidos posibles que sólo podrían verse con la atención necesaria en un curso específico del lenguaje). Para las mentes más inquietas que quieran sacar el máximo partido del [lenguaje más popular en la actualidad](https://linuxiac.com/python-the-most-popular-programming-language/), recomendamos la lectura las referencias *de facto*: \n",
    "\n",
    "- [Learning Python](https://www.oreilly.com/library/view/learning-python-5th/9781449355722/): Una introducción completa y detallada al lenguaje de Python. Basado en el popular curso de capacitación del autor Mark Lutz, este libro provee una inmersión total en el lenguaje, con el objetivo último de enseñar a escribir código eficiente y de alta calidad con Python. Es una guía de mucho detalle, y por tanto apta para gente que quiera ganar un conocimiento muy profundo del lenguaje. No obstante, es un libro apto para novatos y expertos, sea nuevo en la programación o un desarrollador profesional versado en otros lenguajes.\n",
    "\n",
    "- [Python in a Nutshell](https://www.oreilly.com/library/view/python-in-a/9781491913833/): Libro práctico que proporciona una referencia rápida al lenguaje, incluidos Python 3.5, 2.7 y aspectos destacados de 3.6, áreas de uso común de su amplia biblioteca estándar y algunos de los módulos y paquetes de terceros más útiles.\n",
    "\n",
    "No obstante, queremos hacer notar que dicha lectura es algo opcional, y que el material necesario para entender el desarrollo de la asignatura debería estar contenido en este documento. Ésto no significa que \"todo\" lo que vayamos a utilizar en lo referente a `Python` esté contenido en este documento (pues esto conllevaría una extensión inncesaria del documento). Por contra, lo que queremos decir con *material necesario para entender el desarrollo de la asignatura* es precísamente *el material fundamental para entender y desarrollar otros conceptos más complejos*. Así, entederemos esta guía como un punto de partida, y nunca como un punto final."
   ]
  },
  {
   "cell_type": "markdown",
   "metadata": {},
   "source": [
    "### Tipos, variables, operadores, listas, diccionarios, control de flujo y funciones\n",
    "\n",
    "Cualquier curso de programación tiene como punto de partida la introducción de los diferentes `tipos` inherentes del lenguaje. El paso lógico a posteriori es continuar con la definición de  `variables`, siguiendo con `operadores` que nos permiten trabajar con dichas variables, siguiendo con colecciones de variables (`listas` y `diccionarios`), para posteriormente ver `controles de flujo`  y definición de `funciones`.\n",
    "\n",
    "\n",
    "#### Tipos de datos (Data Types)\n",
    "\n",
    "En este pequeño curso exprés de `Python` seguiremos el esquema mencionado, empezando por los tipos de datos con los que podemos trabajar (por defecto) en `Python`.\n",
    "\n",
    "Todo dato en `Python` es representado por un `objeto`, cuyo valor (`value`) en cuestión es el dato en sí mismo (y que se suele confundir con el objeto), y cuyo tipo (`type`). El tipo de un objeto determina las operaciones que soporta el objeto en cuestión, más específicamente el valor del objeto. Además, el tipo también determina si el objeto puede ser modificado, siendo un objeto `mutable` en caso afirmativo, o `inmutable` en el caso contrario.\n",
    "\n",
    "Para conocer el tipo de un objeto, podemos hacer uso de una función/método nativo (built-in) de `Python`, el llamado `type`. A continuación exploramos con `type` los tipos de datos nativos de `Python`:\n",
    "\n",
    "##### Numéricos"
   ]
  },
  {
   "cell_type": "code",
   "execution_count": 2,
   "metadata": {},
   "outputs": [
    {
     "name": "stdout",
     "output_type": "stream",
     "text": [
      "<class 'int'>\n",
      "<class 'int'>\n",
      "<class 'int'>\n",
      "<class 'int'>\n",
      "<class 'int'>\n"
     ]
    }
   ],
   "source": [
    "# decimal integer literal:\n",
    "print(type(123))\n",
    "print(type(1_000_000))\n",
    "\n",
    "# binary integer literal:\n",
    "print(type(0b010101))\n",
    "\n",
    "# octal integer literal:\n",
    "print(type(0o6645))\n",
    "\n",
    "# hexadecimal integer literal:\n",
    "print(type(0xDA5))"
   ]
  },
  {
   "cell_type": "code",
   "execution_count": 3,
   "metadata": {},
   "outputs": [
    {
     "name": "stdout",
     "output_type": "stream",
     "text": [
      "<class 'float'>\n",
      "<class 'float'>\n",
      "<class 'float'>\n",
      "<class 'float'>\n"
     ]
    }
   ],
   "source": [
    "# floating-point literals:\n",
    "print(type(1.))\n",
    "print(type(.1))\n",
    "print(type(1e5))\n",
    "print(type(1_000.000_000_123))"
   ]
  },
  {
   "cell_type": "code",
   "execution_count": 4,
   "metadata": {},
   "outputs": [
    {
     "name": "stdout",
     "output_type": "stream",
     "text": [
      "<class 'complex'>\n",
      "<class 'complex'>\n"
     ]
    }
   ],
   "source": [
    "# complex-number literals:\n",
    "print(type(0j))\n",
    "print(type(1+1j))"
   ]
  },
  {
   "cell_type": "markdown",
   "metadata": {},
   "source": [
    "##### Secuencias\n",
    "\n",
    "Una secuencia no es más que un contenedor (finito, ésta es la diferencia con un `iterador`) de elementos que mantienen un órden (de indexado). Tenemos:\n",
    "\n",
    "- Cadenas de caracteres (`str`): **Inmutables**\n",
    "- Tuplas (`tuples`): **Inmutables**\n",
    "- Listas (`list`): **Mutables**"
   ]
  },
  {
   "cell_type": "code",
   "execution_count": 5,
   "metadata": {},
   "outputs": [
    {
     "name": "stdout",
     "output_type": "stream",
     "text": [
      "<class 'str'>\n",
      "<class 'str'>\n"
     ]
    }
   ],
   "source": [
    "# Strings\n",
    "print(type(\"hello world!\"))\n",
    "print(type(\"\"\"This is a formatted string with several lines\n",
    "without the need of adding special characters to break line.\"\"\"))"
   ]
  },
  {
   "cell_type": "code",
   "execution_count": 6,
   "metadata": {},
   "outputs": [
    {
     "name": "stdout",
     "output_type": "stream",
     "text": [
      "<class 'tuple'>\n"
     ]
    }
   ],
   "source": [
    "# Tuples:\n",
    "print(type( (1,2,3,4) ))\n",
    "\n",
    "# NOT! print(type(1,2,3,4))"
   ]
  },
  {
   "cell_type": "markdown",
   "metadata": {},
   "source": [
    "##### Conjuntos y Diccionarios\n",
    "\n",
    "Los conjuntos y diccionarios son *built-in's* de `Python` que permiten el almacenamiento no ordenado de objetos (no tienen por qué ser del mismo tipo):\n",
    "\n",
    "- Conjuntos (`set`): **Mutables**\n",
    "- Diccionarios (`dict`): **Mutables**"
   ]
  },
  {
   "cell_type": "code",
   "execution_count": 7,
   "metadata": {},
   "outputs": [
    {
     "name": "stdout",
     "output_type": "stream",
     "text": [
      "{1, '1', 1.1}\n",
      "<class 'set'>\n",
      "{'1', 2}\n",
      "<class 'set'>\n"
     ]
    }
   ],
   "source": [
    "# Set:\n",
    "print({\"1\", 1, 1.1, 1, \"1\"})\n",
    "print(type({\"1\", 1, 1.1, 1, \"1\"}))\n",
    "\n",
    "print(set([\"1\",2]))\n",
    "print(type(set([\"1\",2])))"
   ]
  },
  {
   "cell_type": "code",
   "execution_count": 8,
   "metadata": {},
   "outputs": [
    {
     "name": "stdout",
     "output_type": "stream",
     "text": [
      "{'key_1': 'value', 'key_2': 1231}\n",
      "<class 'dict'>\n",
      "{'key_1': 'value', 'key_2': 1231}\n"
     ]
    }
   ],
   "source": [
    "# Dict:\n",
    "\n",
    "print({\"key_1\": \"value\", \"key_2\": 1231})\n",
    "print(type({\"key_1\": \"value\", \"key_2\": 1231}))\n",
    "print(dict(key_1=\"value\", key_2=1231))"
   ]
  },
  {
   "cell_type": "markdown",
   "metadata": {},
   "source": [
    "##### Boleanos\n",
    "\n",
    "Cualquier valor en Python se puede usar como un valor de verdad: verdadero o falso. Cualquier número distinto de cero o no vacío (`not None`) (por ejemplo, cadena, tupla, lista, conjunto o diccionario) equivale a verdadero (`True`). El valor `0` (de cualquier tipo numérico), `None` y cualquier contenedor vacío equivalen a falso (`False`). "
   ]
  },
  {
   "cell_type": "markdown",
   "metadata": {},
   "source": [
    "##### None\n",
    "\n",
    "Existe un tipo especial en `Python` que es usado para expresar la ausencia de datos, `None`."
   ]
  },
  {
   "cell_type": "code",
   "execution_count": 9,
   "metadata": {},
   "outputs": [
    {
     "name": "stdout",
     "output_type": "stream",
     "text": [
      "<class 'NoneType'>\n"
     ]
    }
   ],
   "source": [
    "print(type(None))\n",
    "None"
   ]
  },
  {
   "cell_type": "markdown",
   "metadata": {},
   "source": [
    "##### Callables\n",
    "\n",
    "Un último tipo que es importante tener en consideración es el de `callable`, que no es más que un objeto que tiene \"propiedad\" de pode ser *llamado*. Uno de los ejemplos más fácil de entender de este tipo es el de `función`. Toda función es un `callable`, aunque no son los únicos. Si queremos explorar qué es o no un `callable`, podemos usar la función *built-in* con el mismo nombre sobre un objeto, lo que retornará `True` en caso verdadero y `False` en el caso contrario:"
   ]
  },
  {
   "cell_type": "code",
   "execution_count": 10,
   "metadata": {},
   "outputs": [
    {
     "data": {
      "text/plain": [
       "True"
      ]
     },
     "execution_count": 10,
     "metadata": {},
     "output_type": "execute_result"
    }
   ],
   "source": [
    "callable(print)"
   ]
  },
  {
   "cell_type": "code",
   "execution_count": 11,
   "metadata": {},
   "outputs": [
    {
     "data": {
      "text/plain": [
       "False"
      ]
     },
     "execution_count": 11,
     "metadata": {},
     "output_type": "execute_result"
    }
   ],
   "source": [
    "callable(123)"
   ]
  },
  {
   "cell_type": "markdown",
   "metadata": {},
   "source": [
    "#### Variables y referencias\n",
    "\n",
    "Un programa `Python` accede a cualquier dato a través de una **referencia**. Es importante que entendamos éste concepto, a pesar de que pueda parecer algo abstracto, dado que es una característica fundamental del lenguaje, y que determina la forma de programación y el funcionamiento de los programas (en ocasiones llamados *scripts*). \n",
    "\n",
    "Una referencia no es más que un *nombre* que \"apunta\" a un valor, más específicamente a un objeto que tiene ese valor. ¿Dónde encontramos referencias? Como vamos a ver a continuación, una referencia puede ser: una `variable` (e.g. `x = 1.123`), un `atributo`, propiedades de un objeto (instancia de una clase, e.g. `obj.x` donde `x` sería el atributo del objeto `obj`), o un `elemento`, i.e. un componente de un contenedor (e.g., `[x, y, z]` siendo `x`, `y`, `z` elementos de la lista `[...]`). \n",
    "\n",
    "Lo más característico de `Python`, sobre todo para programadores que vienen de lenguajes fuertemente tipados, como puede ser `C/C++` o `Java`, es que las variables, u otras referencias, no tienen un tipo intrínseco. Esto se debe a que en python la declaración es dinámica. De esta forma, la referencia `x = 1`, puede ser primeramente una referencia a un `int`, y posteriormente cambiar a ser `x = \"hola\"` referencia a `str`. Es decir, en `Python` no tenemos que malgastar tiempo en \"declaraciones\". ¿Cómo definimos entonces una variable? Tan sencillo como asignarle (*binding*) un valor con el operador `=`:"
   ]
  },
  {
   "cell_type": "code",
   "execution_count": 12,
   "metadata": {},
   "outputs": [],
   "source": [
    "my_var = 1.123"
   ]
  },
  {
   "cell_type": "code",
   "execution_count": 13,
   "metadata": {},
   "outputs": [
    {
     "data": {
      "text/plain": [
       "float"
      ]
     },
     "execution_count": 13,
     "metadata": {},
     "output_type": "execute_result"
    }
   ],
   "source": [
    "type(my_var)"
   ]
  },
  {
   "cell_type": "code",
   "execution_count": 14,
   "metadata": {},
   "outputs": [
    {
     "data": {
      "text/plain": [
       "'0x7fdde2af2590'"
      ]
     },
     "execution_count": 14,
     "metadata": {},
     "output_type": "execute_result"
    }
   ],
   "source": [
    "# Posición de memoria:\n",
    "hex(id(my_var))"
   ]
  },
  {
   "cell_type": "markdown",
   "metadata": {},
   "source": [
    "De esta forma, `my_var` es una variable que referencia al objeto tipo `float` con valor `1.123`. Sin embargo, `my_var` puede cambiar en cualquier momento a qué dato/objeto referencia. Para ello solo tenemos que cambiar su valor (*unbinding*):"
   ]
  },
  {
   "cell_type": "code",
   "execution_count": 15,
   "metadata": {},
   "outputs": [],
   "source": [
    "my_var = \"hola!\""
   ]
  },
  {
   "cell_type": "code",
   "execution_count": 16,
   "metadata": {},
   "outputs": [
    {
     "data": {
      "text/plain": [
       "str"
      ]
     },
     "execution_count": 16,
     "metadata": {},
     "output_type": "execute_result"
    }
   ],
   "source": [
    "type(my_var)"
   ]
  },
  {
   "cell_type": "code",
   "execution_count": 17,
   "metadata": {},
   "outputs": [
    {
     "data": {
      "text/plain": [
       "'0x7fdde2ada530'"
      ]
     },
     "execution_count": 17,
     "metadata": {},
     "output_type": "execute_result"
    }
   ],
   "source": [
    "hex(id(my_var))"
   ]
  },
  {
   "cell_type": "markdown",
   "metadata": {},
   "source": [
    "Lo interesante de lo que acabamos de ver es que `my_var` es en sí mismo un objeto que tiene una ocupa una determinada posición de memoria, sin embargo el tipo de su contenido ha cambiado dinámicamente sin mayor esfuerzo. Esto se conoce como **tipado dinámico**.\n",
    "\n",
    "El *tipado dinámico* (*dynamic typing*) obviamente representa una gran ventaja a la hora de escribir/prototipar código de manera rápida. Sin embargo, también puede darnos algún que otro dolor de cabeza cuando algo no funciona como esperamos y tenemos que destripar (*debugging*) el código. Es por ello que a día de hoy se recomienda anotar el tipo de las variables (*type hinting*) en ciertas ocasiones, como veremos a posteriori. Los *consejos* a los que nos refereriremos en éste curso siempre serán aquellos dados por la comunidad como PEP's ([Python Enhancement Proposals](https://www.python.org/dev/peps/)). "
   ]
  },
  {
   "cell_type": "markdown",
   "metadata": {},
   "source": [
    "Para poder explorar todos los tipos de variable que hemos comentado, vamos a utilizar una definición de una clase (`class`) antes de haber visto lo que ésto significa. Por el momento, recomendamos hacer uso del siguiente bloque de código sin mayor detalle de la definición de la clase, a lo que volveremos posteriormente con mayor atención en la sección sobre [OOP](https://en.wikipedia.org/wiki/Object-oriented_programming)."
   ]
  },
  {
   "cell_type": "code",
   "execution_count": 18,
   "metadata": {},
   "outputs": [],
   "source": [
    "class Student:\n",
    "    \"\"\"Class defining a student\n",
    "    \n",
    "    The object student will contain (by default) the \n",
    "    name, surname and age of the student we are considering. \n",
    "    \"\"\"\n",
    "    def __init__(self, name: str, surname: str, age: float):\n",
    "        \"\"\"Instantiates a student object\n",
    "        \n",
    "        :param name: The name of the student (str)\n",
    "        :param surname: The surname of the stududent (str)\n",
    "        :param age: The age of the student (float)\n",
    "        \"\"\"\n",
    "        self.name = name\n",
    "        self.surname = surname\n",
    "        self.age = age"
   ]
  },
  {
   "cell_type": "code",
   "execution_count": 19,
   "metadata": {},
   "outputs": [],
   "source": [
    "# ref: Variable\n",
    "my_hi = \"hello!\"\n",
    "my_student = Student(\n",
    "    name=\"John\",\n",
    "    surname=\"Doe\",\n",
    "    age=35,\n",
    ")\n",
    "\n",
    "my_tuple = (my_hi, my_student)\n",
    "my_list = [my_hi, my_student]"
   ]
  },
  {
   "cell_type": "code",
   "execution_count": 20,
   "metadata": {},
   "outputs": [
    {
     "data": {
      "text/plain": [
       "'hello!'"
      ]
     },
     "execution_count": 20,
     "metadata": {},
     "output_type": "execute_result"
    }
   ],
   "source": [
    "my_hi"
   ]
  },
  {
   "cell_type": "code",
   "execution_count": 21,
   "metadata": {},
   "outputs": [
    {
     "data": {
      "text/plain": [
       "<__main__.Student at 0x7fdde2af9220>"
      ]
     },
     "execution_count": 21,
     "metadata": {},
     "output_type": "execute_result"
    }
   ],
   "source": [
    "my_student"
   ]
  },
  {
   "cell_type": "code",
   "execution_count": 22,
   "metadata": {},
   "outputs": [
    {
     "data": {
      "text/plain": [
       "35"
      ]
     },
     "execution_count": 22,
     "metadata": {},
     "output_type": "execute_result"
    }
   ],
   "source": [
    "# ref: Attribute\n",
    "my_student.age"
   ]
  },
  {
   "cell_type": "code",
   "execution_count": 23,
   "metadata": {},
   "outputs": [
    {
     "data": {
      "text/plain": [
       "'hello!'"
      ]
     },
     "execution_count": 23,
     "metadata": {},
     "output_type": "execute_result"
    }
   ],
   "source": [
    "# ref: Item (first element)\n",
    "my_tuple[0]"
   ]
  },
  {
   "cell_type": "code",
   "execution_count": 24,
   "metadata": {},
   "outputs": [
    {
     "data": {
      "text/plain": [
       "<__main__.Student at 0x7fdde2af9220>"
      ]
     },
     "execution_count": 24,
     "metadata": {},
     "output_type": "execute_result"
    }
   ],
   "source": [
    "# last element:\n",
    "my_tuple[-1]"
   ]
  },
  {
   "cell_type": "code",
   "execution_count": 25,
   "metadata": {},
   "outputs": [
    {
     "data": {
      "text/plain": [
       "['hello!', <__main__.Student at 0x7fdde2af9220>]"
      ]
     },
     "execution_count": 25,
     "metadata": {},
     "output_type": "execute_result"
    }
   ],
   "source": [
    "# slicing: selección de un intervalo semiabierto de índices [0,2)\n",
    "my_list[0:2]"
   ]
  },
  {
   "cell_type": "markdown",
   "metadata": {},
   "source": [
    "Nada nos impide poder hacer un *rebinding* de la edad de nuestro estudiante:"
   ]
  },
  {
   "cell_type": "code",
   "execution_count": 26,
   "metadata": {},
   "outputs": [],
   "source": [
    "my_student.age = \"35\""
   ]
  },
  {
   "cell_type": "markdown",
   "metadata": {},
   "source": [
    "#### Operadores\n",
    "\n",
    "Para una discusión exhaustiva sobre los operadores nativos de `Python` podemos acudir a una de las referencias mencionadas más arriba, o a éste [link](https://realpython.com/python-operators-expressions/#arithmetic-operators).\n",
    "\n",
    "En nuestro caso vamos a presentar los operadores que serán de mayor utilidada en éste curso, sin descartar la necesidad futura de alguno no mencionado en los siguientes ejemplos:"
   ]
  },
  {
   "cell_type": "markdown",
   "metadata": {},
   "source": [
    "##### Operadores de comparación: `==`, `!=`, `<`, `>`, `<=`, `>=`, ..."
   ]
  },
  {
   "cell_type": "code",
   "execution_count": 27,
   "metadata": {},
   "outputs": [
    {
     "data": {
      "text/plain": [
       "False"
      ]
     },
     "execution_count": 27,
     "metadata": {},
     "output_type": "execute_result"
    }
   ],
   "source": [
    "my_hi == \"hola\""
   ]
  },
  {
   "cell_type": "code",
   "execution_count": 28,
   "metadata": {},
   "outputs": [
    {
     "data": {
      "text/plain": [
       "True"
      ]
     },
     "execution_count": 28,
     "metadata": {},
     "output_type": "execute_result"
    }
   ],
   "source": [
    "my_hi <= \"hello!\""
   ]
  },
  {
   "cell_type": "code",
   "execution_count": 29,
   "metadata": {},
   "outputs": [
    {
     "data": {
      "text/plain": [
       "True"
      ]
     },
     "execution_count": 29,
     "metadata": {},
     "output_type": "execute_result"
    }
   ],
   "source": [
    "1 < 12.123"
   ]
  },
  {
   "cell_type": "code",
   "execution_count": 30,
   "metadata": {},
   "outputs": [
    {
     "data": {
      "text/plain": [
       "True"
      ]
     },
     "execution_count": 30,
     "metadata": {},
     "output_type": "execute_result"
    }
   ],
   "source": [
    "# Cadenas (Equivalente: 1 < 2 and 2 < 3 and 3 < 4)\n",
    "1 < 2 < 3 < 4"
   ]
  },
  {
   "cell_type": "code",
   "execution_count": 31,
   "metadata": {},
   "outputs": [
    {
     "data": {
      "text/plain": [
       "False"
      ]
     },
     "execution_count": 31,
     "metadata": {},
     "output_type": "execute_result"
    }
   ],
   "source": [
    "# Cuidado con los paréntesis!\n",
    "((my_hi == \"hello!\") or (1 < 2)) and (4 < 3) "
   ]
  },
  {
   "cell_type": "code",
   "execution_count": 32,
   "metadata": {},
   "outputs": [
    {
     "data": {
      "text/plain": [
       "True"
      ]
     },
     "execution_count": 32,
     "metadata": {},
     "output_type": "execute_result"
    }
   ],
   "source": [
    "(my_hi == \"hello!\") or (1 < 2) and (4 < 3)"
   ]
  },
  {
   "cell_type": "code",
   "execution_count": 33,
   "metadata": {},
   "outputs": [
    {
     "data": {
      "text/plain": [
       "False"
      ]
     },
     "execution_count": 33,
     "metadata": {},
     "output_type": "execute_result"
    }
   ],
   "source": [
    "st_1 = Student(\"John\", \"Doe\", 35)\n",
    "st_2 = Student(\"John\", \"Doe\", 35)\n",
    "\n",
    "# Cuidado con la comparación de objetos propios: \n",
    "st_1 == st_2"
   ]
  },
  {
   "cell_type": "code",
   "execution_count": 34,
   "metadata": {},
   "outputs": [
    {
     "data": {
      "text/plain": [
       "True"
      ]
     },
     "execution_count": 34,
     "metadata": {},
     "output_type": "execute_result"
    }
   ],
   "source": [
    "st_1.name == st_2.name and \\\n",
    "st_1.surname == st_2.surname and \\\n",
    "st_1.age == st_2.age"
   ]
  },
  {
   "cell_type": "code",
   "execution_count": 35,
   "metadata": {},
   "outputs": [],
   "source": [
    "# Ternary operator: when_true if condition else when_false\n",
    "\n",
    "## Built-in module for dealing with dates:\n",
    "from datetime import datetime\n",
    "\n",
    "is_friday = True if datetime.now().weekday() == 4 else False"
   ]
  },
  {
   "cell_type": "code",
   "execution_count": 36,
   "metadata": {},
   "outputs": [
    {
     "data": {
      "text/plain": [
       "False"
      ]
     },
     "execution_count": 36,
     "metadata": {},
     "output_type": "execute_result"
    }
   ],
   "source": [
    "is_friday"
   ]
  },
  {
   "cell_type": "markdown",
   "metadata": {},
   "source": [
    "##### Operadores de secuencias:\n",
    "\n",
    "**Indexado**: Para acceder a los elementos de una secuencia usaremos el operador de indexación, que se caracterizad por los corchetes. Por ejemplo:"
   ]
  },
  {
   "cell_type": "code",
   "execution_count": 37,
   "metadata": {},
   "outputs": [
    {
     "data": {
      "text/plain": [
       "'E'"
      ]
     },
     "execution_count": 37,
     "metadata": {},
     "output_type": "execute_result"
    }
   ],
   "source": [
    "# Ejemplo con secuencia string, pero también válido con tuple y list\n",
    "my_seq = \"Ejemplo de secuencia string\"\n",
    "\n",
    "# Primer elemento de la secuencia:\n",
    "my_seq[0] "
   ]
  },
  {
   "cell_type": "code",
   "execution_count": 38,
   "metadata": {},
   "outputs": [
    {
     "data": {
      "text/plain": [
       "'g'"
      ]
     },
     "execution_count": 38,
     "metadata": {},
     "output_type": "execute_result"
    }
   ],
   "source": [
    "# último elemento:\n",
    "my_seq[-1]"
   ]
  },
  {
   "cell_type": "code",
   "execution_count": 39,
   "metadata": {},
   "outputs": [
    {
     "data": {
      "text/plain": [
       "'Eje'"
      ]
     },
     "execution_count": 39,
     "metadata": {},
     "output_type": "execute_result"
    }
   ],
   "source": [
    "# Primeros 3 elementos:\n",
    "my_seq[:3]"
   ]
  },
  {
   "cell_type": "code",
   "execution_count": 40,
   "metadata": {},
   "outputs": [
    {
     "data": {
      "text/plain": [
       "'ing'"
      ]
     },
     "execution_count": 40,
     "metadata": {},
     "output_type": "execute_result"
    }
   ],
   "source": [
    "# Últimos 3 elementos:\n",
    "my_seq[-3:]"
   ]
  },
  {
   "cell_type": "code",
   "execution_count": 41,
   "metadata": {},
   "outputs": [
    {
     "data": {
      "text/plain": [
       "'Eepod euni tig'"
      ]
     },
     "execution_count": 41,
     "metadata": {},
     "output_type": "execute_result"
    }
   ],
   "source": [
    "# Elementos alternos (recorrido directo):\n",
    "my_seq[::2]"
   ]
  },
  {
   "cell_type": "code",
   "execution_count": 42,
   "metadata": {},
   "outputs": [
    {
     "data": {
      "text/plain": [
       "'git inue dopeE'"
      ]
     },
     "execution_count": 42,
     "metadata": {},
     "output_type": "execute_result"
    }
   ],
   "source": [
    "# Elementos alternos (recorrido inverso):\n",
    "my_seq[::-2]"
   ]
  },
  {
   "cell_type": "markdown",
   "metadata": {},
   "source": [
    "Cada secuencia de las mencionadas tiene además métodos característicos que nos serán muy útiles para labores de análisis.\n",
    "Algunos ejemplos de estos métodos:"
   ]
  },
  {
   "cell_type": "code",
   "execution_count": 43,
   "metadata": {},
   "outputs": [
    {
     "data": {
      "text/plain": [
       "'HOLA ME LLAMO JOHN'"
      ]
     },
     "execution_count": 43,
     "metadata": {},
     "output_type": "execute_result"
    }
   ],
   "source": [
    "my_str = \"hola me llamo John\"\n",
    "\n",
    "# Conversión a Mayúsculas:\n",
    "my_str.upper()"
   ]
  },
  {
   "cell_type": "code",
   "execution_count": 44,
   "metadata": {},
   "outputs": [
    {
     "data": {
      "text/plain": [
       "'hola me llamo john'"
      ]
     },
     "execution_count": 44,
     "metadata": {},
     "output_type": "execute_result"
    }
   ],
   "source": [
    "# Conversión a minúsculas:\n",
    "my_str.lower()"
   ]
  },
  {
   "cell_type": "code",
   "execution_count": 45,
   "metadata": {},
   "outputs": [
    {
     "data": {
      "text/plain": [
       "'Hola Me Llamo John'"
      ]
     },
     "execution_count": 45,
     "metadata": {},
     "output_type": "execute_result"
    }
   ],
   "source": [
    "my_str.title()"
   ]
  },
  {
   "cell_type": "code",
   "execution_count": 46,
   "metadata": {},
   "outputs": [
    {
     "data": {
      "text/plain": [
       "['hola', 'me', 'llamo', 'John']"
      ]
     },
     "execution_count": 46,
     "metadata": {},
     "output_type": "execute_result"
    }
   ],
   "source": [
    "my_str.split()"
   ]
  },
  {
   "cell_type": "code",
   "execution_count": 47,
   "metadata": {},
   "outputs": [
    {
     "data": {
      "text/plain": [
       "'llamo'"
      ]
     },
     "execution_count": 47,
     "metadata": {},
     "output_type": "execute_result"
    }
   ],
   "source": [
    "word = \"llamo\"\n",
    "word_idx = my_str.find(word)\n",
    "my_str[word_idx:word_idx+len(word)]"
   ]
  },
  {
   "cell_type": "code",
   "execution_count": 48,
   "metadata": {},
   "outputs": [],
   "source": [
    "my_lst = my_str.split(\" \")"
   ]
  },
  {
   "cell_type": "code",
   "execution_count": 49,
   "metadata": {},
   "outputs": [
    {
     "data": {
      "text/plain": [
       "'llamo'"
      ]
     },
     "execution_count": 49,
     "metadata": {},
     "output_type": "execute_result"
    }
   ],
   "source": [
    "# encuentra el índice en lista:\n",
    "word_idx = my_lst.index(word)\n",
    "my_lst[word_idx]"
   ]
  },
  {
   "cell_type": "code",
   "execution_count": 50,
   "metadata": {},
   "outputs": [
    {
     "data": {
      "text/plain": [
       "1"
      ]
     },
     "execution_count": 50,
     "metadata": {},
     "output_type": "execute_result"
    }
   ],
   "source": [
    "my_lst.count(word)"
   ]
  },
  {
   "cell_type": "code",
   "execution_count": 51,
   "metadata": {},
   "outputs": [],
   "source": [
    "my_lst.remove(\"John\")"
   ]
  },
  {
   "cell_type": "code",
   "execution_count": 52,
   "metadata": {},
   "outputs": [],
   "source": [
    "my_lst.append(\"Dan\")"
   ]
  },
  {
   "cell_type": "code",
   "execution_count": 53,
   "metadata": {},
   "outputs": [
    {
     "data": {
      "text/plain": [
       "['hola', 'me', 'llamo', 'Dan']"
      ]
     },
     "execution_count": 53,
     "metadata": {},
     "output_type": "execute_result"
    }
   ],
   "source": [
    "my_lst"
   ]
  },
  {
   "cell_type": "code",
   "execution_count": 54,
   "metadata": {},
   "outputs": [],
   "source": [
    "my_lst.remove(\"Dan\")\n",
    "\n",
    "my_lst += [\"Jake\"]"
   ]
  },
  {
   "cell_type": "code",
   "execution_count": 55,
   "metadata": {},
   "outputs": [
    {
     "data": {
      "text/plain": [
       "['hola', 'me', 'llamo', 'Jake']"
      ]
     },
     "execution_count": 55,
     "metadata": {},
     "output_type": "execute_result"
    }
   ],
   "source": [
    "my_lst"
   ]
  },
  {
   "cell_type": "code",
   "execution_count": 56,
   "metadata": {},
   "outputs": [
    {
     "data": {
      "text/plain": [
       "['Jake', 'llamo', 'me', 'hola']"
      ]
     },
     "execution_count": 56,
     "metadata": {},
     "output_type": "execute_result"
    }
   ],
   "source": [
    "my_lst.reverse()\n",
    "my_lst"
   ]
  },
  {
   "cell_type": "code",
   "execution_count": 57,
   "metadata": {},
   "outputs": [
    {
     "data": {
      "text/plain": [
       "['Jake', 'hola', 'llamo', 'me']"
      ]
     },
     "execution_count": 57,
     "metadata": {},
     "output_type": "execute_result"
    }
   ],
   "source": [
    "my_lst.sort(key=None)\n",
    "# my_lst.sort(key=str.lower)\n",
    "my_lst"
   ]
  },
  {
   "cell_type": "markdown",
   "metadata": {},
   "source": [
    "**Conversión**: No existe conversión implícita entre secuencias. Sin embargo, podemos llamar a los métodos nativos `list` y `tuple` pasándole como argumento cualquier iterable para obtener una nueva instancia de tipo lista o tupla. Por ejemplo:"
   ]
  },
  {
   "cell_type": "code",
   "execution_count": 58,
   "metadata": {},
   "outputs": [
    {
     "data": {
      "text/plain": [
       "['E', 'j', 'e', 'm', 'p', 'l', 'o']"
      ]
     },
     "execution_count": 58,
     "metadata": {},
     "output_type": "execute_result"
    }
   ],
   "source": [
    "l_string = list(my_seq)\n",
    "l_string[0:7]"
   ]
  },
  {
   "cell_type": "code",
   "execution_count": 59,
   "metadata": {},
   "outputs": [
    {
     "data": {
      "text/plain": [
       "('s', 't', 'r', 'i', 'n', 'g')"
      ]
     },
     "execution_count": 59,
     "metadata": {},
     "output_type": "execute_result"
    }
   ],
   "source": [
    "t_string = tuple(my_seq)\n",
    "t_string[-6:]"
   ]
  },
  {
   "cell_type": "code",
   "execution_count": 60,
   "metadata": {},
   "outputs": [
    {
     "name": "stdout",
     "output_type": "stream",
     "text": [
      "Ha habido un fallo: La tupla no es mutable\n"
     ]
    }
   ],
   "source": [
    "# Mutabilidad: las cláusulas try-and-except serán vistas en controles de flujo con mayor detalle\n",
    "try: \n",
    "    t_string[-6] = \"S\"\n",
    "except: \n",
    "    print(\"Ha habido un fallo: La tupla no es mutable\")"
   ]
  },
  {
   "cell_type": "code",
   "execution_count": 61,
   "metadata": {},
   "outputs": [
    {
     "data": {
      "text/plain": [
       "'Ejemplo de secuencia String'"
      ]
     },
     "execution_count": 61,
     "metadata": {},
     "output_type": "execute_result"
    }
   ],
   "source": [
    "# modificación de la lista:\n",
    "l_string[-6] = \"S\"\n",
    "\n",
    "# Conversión de lista a string:\n",
    "\"\".join(l_string)"
   ]
  },
  {
   "cell_type": "code",
   "execution_count": 62,
   "metadata": {},
   "outputs": [
    {
     "data": {
      "text/plain": [
       "'Ej*mplo d* s*cu*ncia string'"
      ]
     },
     "execution_count": 62,
     "metadata": {},
     "output_type": "execute_result"
    }
   ],
   "source": [
    "# Replace: No modifica el string original, crea uno nuevo:\n",
    "my_seq.replace(\"e\", \"*\")"
   ]
  },
  {
   "cell_type": "code",
   "execution_count": 63,
   "metadata": {},
   "outputs": [
    {
     "data": {
      "text/plain": [
       "'Ejemplo de secuencia string'"
      ]
     },
     "execution_count": 63,
     "metadata": {},
     "output_type": "execute_result"
    }
   ],
   "source": [
    "my_seq"
   ]
  },
  {
   "cell_type": "markdown",
   "metadata": {},
   "source": [
    "**Pertenencia**: Una de las operaciones más frecuentes cuando trabajamos con secuencias de cualquier tipo, es la de testar si un elemento pertence o no a la secuencia. Ejemplos:"
   ]
  },
  {
   "cell_type": "code",
   "execution_count": 64,
   "metadata": {},
   "outputs": [
    {
     "data": {
      "text/plain": [
       "['##',\n",
       " 'Titular',\n",
       " 'Esto',\n",
       " 'simula',\n",
       " 'un',\n",
       " 'texto',\n",
       " 'de',\n",
       " 'contenido',\n",
       " 'en',\n",
       " 'concreto',\n",
       " 'de',\n",
       " 'un',\n",
       " 'Markdown',\n",
       " '###',\n",
       " 'Título',\n",
       " 'de',\n",
       " 'la',\n",
       " 'subsección',\n",
       " 'Aquí',\n",
       " 'tendríamos',\n",
       " 'más',\n",
       " 'contenido',\n",
       " 'para',\n",
       " 'poder',\n",
       " 'leer']"
      ]
     },
     "execution_count": 64,
     "metadata": {},
     "output_type": "execute_result"
    }
   ],
   "source": [
    "my_lst = \"\"\"## Titular\n",
    "Esto simula un texto de contenido (en concreto de un Markdown)\n",
    "\n",
    "### Título de la subsección\n",
    "Aquí tendríamos más contenido para poder leer\n",
    "\"\"\".split()\n",
    "\n",
    "# list comprehension (abundaremos más en el apartado de control de flujo)\n",
    "cleaned_lst = [\n",
    "    e.replace(\")\", \"\").replace(\"(\",\"\") \n",
    "    for e in my_lst\n",
    "]\n",
    "\n",
    "cleaned_lst"
   ]
  },
  {
   "cell_type": "code",
   "execution_count": 65,
   "metadata": {},
   "outputs": [
    {
     "data": {
      "text/plain": [
       "True"
      ]
     },
     "execution_count": 65,
     "metadata": {},
     "output_type": "execute_result"
    }
   ],
   "source": [
    "# Pertenencia a lista/tuple:\n",
    "\"Markdown\" in cleaned_lst"
   ]
  },
  {
   "cell_type": "code",
   "execution_count": 66,
   "metadata": {},
   "outputs": [
    {
     "data": {
      "text/plain": [
       "True"
      ]
     },
     "execution_count": 66,
     "metadata": {},
     "output_type": "execute_result"
    }
   ],
   "source": [
    "# Pertenencia a string:\n",
    "\"i\" in cleaned_lst[1]"
   ]
  },
  {
   "cell_type": "markdown",
   "metadata": {},
   "source": [
    "##### Operadores de diccionarios:\n",
    "\n",
    "`Python` viene por defecto con una variedad amplia de operadores aplicables a diccionarios, i.e. a objetos del tipo `{key: value}`. Por definición, los diccionarios son objetos iterables, luego podemos usarlos en cualquier función o cláusula que tome como entrada un iterable. Un ejemplo de ello es (como veremos en breve) el `for loop`. A continuación exponemos ejemplos de los operadores más usados con diccionarios:"
   ]
  },
  {
   "cell_type": "markdown",
   "metadata": {},
   "source": [
    "**Indexado**: Para acceder a un valor almacenado en un diccionario debemos hacerlo mediante el índice (la clave), con el operador de indexado `[...]`. La única diferencia con las listas es que en este caso no existe orden, y la clave no tiene porqué ser numérica:"
   ]
  },
  {
   "cell_type": "code",
   "execution_count": 67,
   "metadata": {},
   "outputs": [
    {
     "data": {
      "text/plain": [
       "'Ford'"
      ]
     },
     "execution_count": 67,
     "metadata": {},
     "output_type": "execute_result"
    }
   ],
   "source": [
    "my_car = {\"brand\": \"Ford\", \"year\": 1964}\n",
    "\n",
    "my_car[\"brand\"]"
   ]
  },
  {
   "cell_type": "code",
   "execution_count": 68,
   "metadata": {},
   "outputs": [
    {
     "data": {
      "text/plain": [
       "'Unknown'"
      ]
     },
     "execution_count": 68,
     "metadata": {},
     "output_type": "execute_result"
    }
   ],
   "source": [
    "# Con el método get conseguimos lo mismo, pero evitamos la excepción\n",
    "my_car.get(\"color\", \"Unknown\")"
   ]
  },
  {
   "cell_type": "markdown",
   "metadata": {},
   "source": [
    "**Pertenencia**: Al igual que en el caso de las secuencias, los diccionarios admiten el operador `in` para comprobar si un *elemento* en cuestión es parte del mismo. En concreto, en la expresión `k in my_dct`, donde `my_dct` es un diccionario (`dict`), lo que se comprueba es si la clave (`key`) `k` pertence a la lista de claves del diccionario. Veamos ejemplos:"
   ]
  },
  {
   "cell_type": "code",
   "execution_count": 69,
   "metadata": {},
   "outputs": [
    {
     "data": {
      "text/plain": [
       "True"
      ]
     },
     "execution_count": 69,
     "metadata": {},
     "output_type": "execute_result"
    }
   ],
   "source": [
    "my_car = {\n",
    "  \"brand\": \"Ford\",\n",
    "  \"model\": \"Mustang\",\n",
    "  \"year\": 1964\n",
    "}\n",
    "\n",
    "\"brand\" in my_car"
   ]
  },
  {
   "cell_type": "code",
   "execution_count": 70,
   "metadata": {},
   "outputs": [
    {
     "data": {
      "text/plain": [
       "False"
      ]
     },
     "execution_count": 70,
     "metadata": {},
     "output_type": "execute_result"
    }
   ],
   "source": [
    "\"color\" in my_car"
   ]
  },
  {
   "cell_type": "markdown",
   "metadata": {},
   "source": [
    "**Unpacking**: Existe un operador un tanto peculiar que resulta bastante útil cuando queremos extender un diccionario (aunque la forma oficialmente recomendada es usando el operador `|`, tál y como se indica en [PEP 584](https://www.python.org/dev/peps/pep-0584/#d1-d2) con `Python>=3.9`):"
   ]
  },
  {
   "cell_type": "code",
   "execution_count": 71,
   "metadata": {},
   "outputs": [
    {
     "data": {
      "text/plain": [
       "{'brand': 'Ford', 'model': 'Mustang', 'year': 1964, 'color': 'Marengo'}"
      ]
     },
     "execution_count": 71,
     "metadata": {},
     "output_type": "execute_result"
    }
   ],
   "source": [
    "# Extendiendo un diccionario:\n",
    "{**my_car, \"color\": \"Marengo\"}"
   ]
  },
  {
   "cell_type": "code",
   "execution_count": 72,
   "metadata": {},
   "outputs": [],
   "source": [
    "# Extendiendo diccionario siguiendo PEP-584 (Python >= 3.9):\n",
    "## my_car | {\"color\": \"Marengo\"}"
   ]
  },
  {
   "cell_type": "markdown",
   "metadata": {},
   "source": [
    "Y al igual que en el caso de las secuencias, los diccionarios tienen una serie de métodos propios que nos permiten su manipulación de manera eficiente y cómoda. Antes de proceder a programar cualquier función por nuestra cuenta, deberíamos consultar si esta funcionalidad ya es parte de las librerías nativas. Para explorar susodichos métodos con mayor profundidad, se puede consultar este [link](https://docs.python.org/3/tutorial/datastructures.html)."
   ]
  },
  {
   "cell_type": "code",
   "execution_count": 73,
   "metadata": {},
   "outputs": [
    {
     "data": {
      "text/plain": [
       "dict_keys(['brand', 'model', 'year'])"
      ]
     },
     "execution_count": 73,
     "metadata": {},
     "output_type": "execute_result"
    }
   ],
   "source": [
    "# índices del diccionario:\n",
    "my_car.keys()"
   ]
  },
  {
   "cell_type": "code",
   "execution_count": 74,
   "metadata": {},
   "outputs": [
    {
     "data": {
      "text/plain": [
       "dict_values(['Ford', 'Mustang', 1964])"
      ]
     },
     "execution_count": 74,
     "metadata": {},
     "output_type": "execute_result"
    }
   ],
   "source": [
    "# Valores del diccionario:\n",
    "my_car.values()"
   ]
  },
  {
   "cell_type": "code",
   "execution_count": 75,
   "metadata": {},
   "outputs": [
    {
     "data": {
      "text/plain": [
       "dict_items([('brand', 'Ford'), ('model', 'Mustang'), ('year', 1964)])"
      ]
     },
     "execution_count": 75,
     "metadata": {},
     "output_type": "execute_result"
    }
   ],
   "source": [
    "# Lista de elementos (tuplas key-value) del diccionario (útil para el recorrido en loop)\n",
    "my_car.items()"
   ]
  },
  {
   "cell_type": "markdown",
   "metadata": {},
   "source": [
    "El siguiente ejemplo hace uso de `copy` que en realidad es *shallow copy*. Para entender la diferencia entre la copia que podemos tener en mente y la que realmente ocurre, consultar este [link](https://www.geeksforgeeks.org/copy-python-deep-copy-shallow-copy/#:~:text=A%20shallow%20copy%20means%20constructing,is%20copied%20in%20other%20object.)."
   ]
  },
  {
   "cell_type": "code",
   "execution_count": 76,
   "metadata": {},
   "outputs": [
    {
     "data": {
      "text/plain": [
       "{'brand': 'Ford', 'model': 'Mustang', 'year': 1964}"
      ]
     },
     "execution_count": 76,
     "metadata": {},
     "output_type": "execute_result"
    }
   ],
   "source": [
    "# copia ligera (shallow copy) \n",
    "my_car_2 = my_car.copy()\n",
    "my_car_2"
   ]
  },
  {
   "cell_type": "markdown",
   "metadata": {},
   "source": [
    "#### Sentencias de control de flujo (Control Flow Statements)\n",
    "\n",
    "Una sentencia de control de flujo no es más que una expresión donde se toma una decisión que afecta el orden (flujo) de ejecución del código. Así, el control del flujo de un programa puede depender de:\n",
    "\n",
    "- Condicionales `if`-`elif`-`else`\n",
    "- Bucles `while`\n",
    "- Bucles `for`\n",
    "- Cláusulas `break`, `continue`, `else`\n",
    "- Captura de errores: `try`-`except`-`else`-`finally`\n",
    "\n",
    "Además, también consideramos sentencias de control a las *list/dict/set comprehensions*. Veamos algunos ejemplos:"
   ]
  },
  {
   "cell_type": "code",
   "execution_count": 77,
   "metadata": {},
   "outputs": [
    {
     "name": "stdout",
     "output_type": "stream",
     "text": [
      "x is positive and odd\n"
     ]
    }
   ],
   "source": [
    "x = 123 \n",
    "\n",
    "if x < 0: \n",
    "    print(\"x is negative\")\n",
    "elif x % 2:\n",
    "    print(\"x is positive and odd\") \n",
    "else:\n",
    "    print(\"x is even and non-negative\")"
   ]
  },
  {
   "cell_type": "code",
   "execution_count": 78,
   "metadata": {},
   "outputs": [
    {
     "name": "stdout",
     "output_type": "stream",
     "text": [
      "The list contains 4 elements\n"
     ]
    }
   ],
   "source": [
    "example_list = [1,2,3,4]\n",
    "\n",
    "if example_list:\n",
    "    n = len(example_list)\n",
    "    msg = f\"The list contains {n} element\" \\\n",
    "        + (\"s\" if n > 1 else \"\")\n",
    "    print(msg)\n",
    "else: \n",
    "    print(\"The list is empty!\")"
   ]
  },
  {
   "cell_type": "code",
   "execution_count": 79,
   "metadata": {},
   "outputs": [
    {
     "name": "stdout",
     "output_type": "stream",
     "text": [
      "The approximate value of ln(123.123) is 5\n"
     ]
    }
   ],
   "source": [
    "import math\n",
    "\n",
    "count = 0 \n",
    "x = 123.123\n",
    "x0 = x\n",
    "while x > 0:\n",
    "    x //= math.e\n",
    "    count += 1\n",
    "\n",
    "print(f\"The approximate value of ln({x0}) is {count}\")"
   ]
  },
  {
   "cell_type": "code",
   "execution_count": 80,
   "metadata": {},
   "outputs": [
    {
     "name": "stdout",
     "output_type": "stream",
     "text": [
      "Found a car of brand: Ford\n",
      "The car is a ford Mustang (from 1964)\n",
      "\n",
      "Found a car of brand: Volkswagen\n",
      "The car is a volkswagen Beetle (from 1984)\n",
      "\n"
     ]
    }
   ],
   "source": [
    "car_collection = {\n",
    "    \"ford\": {\"name\": \"Mustang\", \"year\": 1964},\n",
    "    \"volkswagen\": {\"name\": \"Beetle\",\"year\": 1984}\n",
    "}\n",
    "\n",
    "for k, v in car_collection.items():\n",
    "    print(f\"Found a car of brand: {k.title()}\")\n",
    "    print(f\"The car is a {k} {v['name']} (from {v['year']})\\n\")"
   ]
  },
  {
   "cell_type": "code",
   "execution_count": 81,
   "metadata": {},
   "outputs": [
    {
     "name": "stdout",
     "output_type": "stream",
     "text": [
      "Counting 1...\n",
      "Counting 2...\n",
      "Counting 3...\n",
      "Counting 4...\n",
      "Counting 5...\n"
     ]
    }
   ],
   "source": [
    "# Use of range:\n",
    "for i in range(5):\n",
    "    print(f\"Counting {i+1}...\")"
   ]
  },
  {
   "cell_type": "code",
   "execution_count": 82,
   "metadata": {},
   "outputs": [
    {
     "name": "stdout",
     "output_type": "stream",
     "text": [
      "[0, 1, 4, 9, 16, 25, 36, 49, 64, 81, 100, 121, 144, 169, 196, 225, 256, 289, 324, 361, 400, 441, 484, 529, 576, 625, 676, 729, 784, 841, 900, 961, 1024, 1089, 1156, 1225, 1296, 1369, 1444, 1521, 1600, 1681, 1764, 1849, 1936, 2025, 2116, 2209, 2304, 2401, 2500, 2601, 2704, 2809, 2916, 3025, 3136, 3249, 3364, 3481, 3600, 3721, 3844, 3969, 4096, 4225, 4356, 4489, 4624, 4761, 4900, 5041, 5184, 5329, 5476, 5625, 5776, 5929, 6084, 6241, 6400, 6561, 6724, 6889, 7056, 7225, 7396, 7569, 7744, 7921, 8100, 8281, 8464, 8649, 8836, 9025, 9216, 9409, 9604, 9801]\n"
     ]
    }
   ],
   "source": [
    "# list comprehensions: [ expression for target in iterable lc-clauses ]\n",
    "squares = [ e*e for e in range(100)]\n",
    "# Más rápido y conveniente que:\n",
    "# squares = []\n",
    "# for e in range(100):\n",
    "#     squares.append(e*e)\n",
    "\n",
    "print(squares)"
   ]
  },
  {
   "cell_type": "code",
   "execution_count": 83,
   "metadata": {},
   "outputs": [
    {
     "data": {
      "text/plain": [
       "{'uuid_0': 0,\n",
       " 'uuid_1': 1,\n",
       " 'uuid_2': 2,\n",
       " 'uuid_3': 3,\n",
       " 'uuid_4': 4,\n",
       " 'uuid_5': 5,\n",
       " 'uuid_6': 6,\n",
       " 'uuid_7': 7,\n",
       " 'uuid_8': 8,\n",
       " 'uuid_9': 9}"
      ]
     },
     "execution_count": 83,
     "metadata": {},
     "output_type": "execute_result"
    }
   ],
   "source": [
    "# dict comprehensions: {key: value for key, value in iterable dc-clauses}\n",
    "user_ids = {f\"uuid_{e}\": e for e in range(10)}\n",
    "user_ids"
   ]
  },
  {
   "cell_type": "code",
   "execution_count": 84,
   "metadata": {},
   "outputs": [
    {
     "name": "stdout",
     "output_type": "stream",
     "text": [
      "Current counter value: 10\n",
      "Current counter value: 9\n",
      "Current counter value: 8\n",
      "Current counter value: 7\n",
      "Current counter value: 6\n",
      "Final counter value: 5\n"
     ]
    }
   ],
   "source": [
    "# break: interrupt\n",
    "counter = 10\n",
    "while counter:\n",
    "    print(f\"Current counter value: {counter}\")\n",
    "    counter -= 1\n",
    "    if counter == 5:\n",
    "        break\n",
    "print(f\"Final counter value: {counter}\")"
   ]
  },
  {
   "cell_type": "code",
   "execution_count": 85,
   "metadata": {},
   "outputs": [
    {
     "name": "stdout",
     "output_type": "stream",
     "text": [
      "Current counter value: 8\n",
      "Current counter value: 6\n",
      "Current counter value: 4\n",
      "Current counter value: 2\n",
      "Current counter value: 0\n",
      "Good bye!\n"
     ]
    }
   ],
   "source": [
    "# continue: only print even values\n",
    "counter = 10\n",
    "while counter:\n",
    "    counter -= 1\n",
    "    if counter%2:\n",
    "        continue\n",
    "    print(f\"Current counter value: {counter}\")\n",
    "print(\"Good bye!\")"
   ]
  },
  {
   "cell_type": "code",
   "execution_count": 86,
   "metadata": {},
   "outputs": [
    {
     "name": "stdout",
     "output_type": "stream",
     "text": [
      "Found a car of brand: Volkswagen\n",
      "The car is a volkswagen Beetle (from 1984)\n",
      "\n",
      "Found a car of brand: Volkswagen\n",
      "The car is a volkswagen Beetle (from 1984)\n",
      "\n",
      "No more cars were found!\n"
     ]
    }
   ],
   "source": [
    "# else clasue in for loops: \n",
    "for e in car_collection.items():\n",
    "    print(f\"Found a car of brand: {k.title()}\")\n",
    "    print(f\"The car is a {k} {v['name']} (from {v['year']})\\n\")\n",
    "else:\n",
    "    print(\"No more cars were found!\")"
   ]
  },
  {
   "cell_type": "code",
   "execution_count": 87,
   "metadata": {},
   "outputs": [
    {
     "name": "stdout",
     "output_type": "stream",
     "text": [
      "Error: No puedes modificar un string!\n",
      "Hello World!\n"
     ]
    }
   ],
   "source": [
    "# exceptions:\n",
    "my_str = \"Hello World!\"\n",
    "\n",
    "try: \n",
    "    my_str[0] = \"h\"\n",
    "except TypeError:\n",
    "    print(\"Error: No puedes modificar un string!\")\n",
    "except Exception:\n",
    "    print(\"En caso que pudieramos esperar otro tipo de error\")\n",
    "else: \n",
    "    print(\"En caso que no hubiera error, se ejecutaría este código\")\n",
    "finally:\n",
    "    print(my_str)"
   ]
  },
  {
   "cell_type": "markdown",
   "metadata": {},
   "source": [
    "#### Funciones\n",
    "\n",
    "Llegados a este punto, es natural introducir la definición de funciones. Aunque seguramente la mayor parte de nuestras taréas las podríamos codificar directamente de manera secuencial en un único archivo (e.g. `main.py`), a medida que cualquier proyecto avanza resulta natural aislar en bloques de código (**funciones**) las funcionalidades que implementamos, por dos razones principales: 1) la reutilización del código, 2) la identificación y separación inequívoca de responsabilidades. En lo que sigue vamos a ver que la definición de una función es exactamente igual cuando se hace de manera aislada en un módulo, o cuando se hace bajo una clase. Sin embargo diferenciaremos estos dos casos con el nombre de función y método, siendo éste último reservado para funciones de clases.\n",
    "A continuación se muestra algún ejemplo ilustrativo:"
   ]
  },
  {
   "cell_type": "code",
   "execution_count": 88,
   "metadata": {},
   "outputs": [
    {
     "name": "stdout",
     "output_type": "stream",
     "text": [
      "Hello John!\n"
     ]
    },
    {
     "data": {
      "text/plain": [
       "'Hello John!'"
      ]
     },
     "execution_count": 88,
     "metadata": {},
     "output_type": "execute_result"
    }
   ],
   "source": [
    "def say_hello_old(name: str = \"wold\") -> str:\n",
    "    msg = f\"Hello {name}!\"\n",
    "    print(msg)\n",
    "    return msg\n",
    "\n",
    "say_hello_old(st_1.name)"
   ]
  },
  {
   "cell_type": "code",
   "execution_count": 89,
   "metadata": {},
   "outputs": [
    {
     "name": "stdout",
     "output_type": "stream",
     "text": [
      "Hello John!\n"
     ]
    }
   ],
   "source": [
    "# Forzando que todos los argumentos sean nombrados\n",
    "def say_hello(*, name: str = \"world\") -> str:\n",
    "    \"\"\"Saludo tipo \"hello {name}!\"\n",
    "    :param name: El nombre a imprimir en el mensaje (default = \"world\")\n",
    "    :returns: Saludo con el nombre de entrada.\n",
    "    \"\"\"\n",
    "    return say_hello_old(name)\n",
    "\n",
    "# say_hello(st_1.name) => TypeError: say_hello() takes 0 positional arguments but 1 was given\n",
    "m = say_hello(name=st_1.name)"
   ]
  },
  {
   "cell_type": "code",
   "execution_count": 90,
   "metadata": {},
   "outputs": [
    {
     "data": {
      "text/plain": [
       "{'name': str, 'return': str}"
      ]
     },
     "execution_count": 90,
     "metadata": {},
     "output_type": "execute_result"
    }
   ],
   "source": [
    "say_hello.__annotations__"
   ]
  },
  {
   "cell_type": "code",
   "execution_count": 91,
   "metadata": {},
   "outputs": [
    {
     "name": "stdout",
     "output_type": "stream",
     "text": [
      "4\n"
     ]
    }
   ],
   "source": [
    "# lambdas: funciones anónimas\n",
    "f = lambda x: x**2\n",
    "print(f(2))"
   ]
  },
  {
   "cell_type": "code",
   "execution_count": 92,
   "metadata": {},
   "outputs": [
    {
     "data": {
      "text/plain": [
       "<generator object up_and_down at 0x7fdde2b71b30>"
      ]
     },
     "execution_count": 92,
     "metadata": {},
     "output_type": "execute_result"
    }
   ],
   "source": [
    "# Generators\n",
    "\n",
    "def up_and_down(n: int):\n",
    "    yield from range(0, n)\n",
    "    yield from range(n, 0, -1)\n",
    "    \n",
    "    \n",
    "updown = up_and_down(1_000_000_000_000)\n",
    "updown"
   ]
  },
  {
   "cell_type": "code",
   "execution_count": 93,
   "metadata": {},
   "outputs": [
    {
     "name": "stdout",
     "output_type": "stream",
     "text": [
      "element: 0\n",
      "element: 1\n",
      "element: 2\n",
      "element: 3\n",
      "element: 4\n",
      "element: 5\n",
      "element: 6\n",
      "element: 7\n",
      "element: 8\n",
      "element: 9\n",
      "element: 11\n"
     ]
    }
   ],
   "source": [
    "for e in updown:\n",
    "    if e >= 10:\n",
    "        break\n",
    "    print(f\"element: {e}\")\n",
    "print(f\"element: {next(updown)}\")"
   ]
  },
  {
   "cell_type": "markdown",
   "metadata": {},
   "source": [
    "### Programación orientada a objetos (OOP): Clases, métodos especiales y decoradores\n",
    "\n",
    "A día de hoy, no podemos decir que OOP sea un paradigma de programación, porque de hecho es uno de los paradigmas más utilizados en la progrmación. La OOP comprende una parte tan fundamental del desarrollo de software, tanto que es se hace difícil recordadr un momento en la historia en el que se utilizase como buena práctica cualquier otro enfoque. Su primera aparición fue en la década de 1980s, y, en ese entonces sí, supuso un salto radical respecto al método tradicional (de procedimiento). "
   ]
  },
  {
   "cell_type": "markdown",
   "metadata": {},
   "source": [
    "¿Qué es, y para qué sirve? La OOP consiste en escribir `classes` en lugar de `procedimientos`. Una clase contiene datos y funciones. Cuando se desea crear algo en la memoria, se crea un objeto, que es una instancia de esa clase. Así, por ejemplo, podríamos declarar una clase `Student`, que contiene datos y funciones relacionadas con los estudiantes de una universidad. Si luego queremos que nuestro programa cree un estudiante en memoria, llamaremos al constructor de la clase y se creará un nuevo objeto de la clase `Student`. Esto precisamente es lo que hicimos en el ejemplo de más arriba, sin meternos en tanto detalle de la explicación.\n",
    "\n",
    "Las ventajas de la programación orientada a objetos residen en este tipo de encapsulación. Algunos de los principales beneficios de la OOP:\n",
    "\n",
    "1. Modularidad para facilitar la resolución de problemas\n",
    "2. Reutilización de código mediante herencia de clases\n",
    "3. Flexibilidad a través del polimorfismo\n",
    "4. Resolución efectiva de problemas mediante la filosofía *divide y vencerás*\n",
    "\n",
    "A continuación vamos a ver como definir nuestras propias clases para aislar modularmente la lógica de nuestro programa, usar la herencia de clases para hacer reutilización de código, utilizar el polimorfismo, y ver un ejemplo de como atacar un problema por partes, remarcando la utilidad de hacer frente al mismo con clases."
   ]
  },
  {
   "cell_type": "markdown",
   "metadata": {},
   "source": [
    "#### Definición de una clase\n",
    "\n",
    "Imaginemos que tenemos que hacer un programa que registre un número arbitrario de estudiantes y profesores de una universidad. Cada estudiante y profesor tendrá asociado un nombre y apellidos, además de su identificador único. Los estudiantes tendrán que tener a su vez un curso asociado (primero, segundo, tercero o cuarto), mientras que los profesores tendrán que tener una lista de materias en las que imparten clases.\n",
    "\n",
    "Comencemos atacando el problema con la definición de las clases `Student` y `Lecturer`:"
   ]
  },
  {
   "cell_type": "code",
   "execution_count": 94,
   "metadata": {},
   "outputs": [
    {
     "data": {
      "text/plain": [
       "<Student email=j.doe.39faf@alumni.myuni.edu id=39faf...>"
      ]
     },
     "execution_count": 94,
     "metadata": {},
     "output_type": "execute_result"
    }
   ],
   "source": [
    "# hashlib para la creación de un hash unico\n",
    "import hashlib\n",
    "from datetime import datetime \n",
    "\n",
    "class Student:\n",
    "    domain = \"alumni.myuni.edu\"\n",
    "    \n",
    "    # Primer método especial (dunder: double-underscore): El consturctor\n",
    "    def __init__(self, name: str, surname: str, course: int = 1):\n",
    "        self.name = name.title()\n",
    "        self.surname = surname.title()\n",
    "        full_name = f\"{name.title()} {surname.title()}\"\n",
    "        self.full_name = full_name\n",
    "        \n",
    "        self.id = hashlib.md5(\n",
    "            (full_name + datetime.now().strftime(\"%y%m%d%H%M%S\"))\\\n",
    "                .encode(\"UTF-8\")\n",
    "        ).hexdigest()\n",
    "        \n",
    "        self.email = (\n",
    "            f\"{self.name[0:1].lower()}\"\n",
    "            f\".{self.surname.lower()}\"\n",
    "            f\".{self.id[0:5]}\"\n",
    "            f\"@{Student.domain}\"\n",
    "        )\n",
    "    \n",
    "        self.course = course\n",
    "\n",
    "    def __str__(self):\n",
    "        return str({\"Student\": self.id,\n",
    "                \"Name\": self.name,\n",
    "                \"Surname\": self.surname,\n",
    "                \"Course\": self.course})\n",
    "    \n",
    "    def __repr__(self):\n",
    "        return f\"<Student email={self.email} id={self.id[0:5]}...>\"\n",
    "\n",
    "st1 = Student(name=\"John\", surname=\"Doe\")\n",
    "st1"
   ]
  },
  {
   "cell_type": "code",
   "execution_count": 95,
   "metadata": {},
   "outputs": [
    {
     "data": {
      "text/plain": [
       "<Lecturer email=j.doe.39faf@staff.myuni.edu id=39faf...>"
      ]
     },
     "execution_count": 95,
     "metadata": {},
     "output_type": "execute_result"
    }
   ],
   "source": [
    "class Lecturer:\n",
    "    domain = \"staff.myuni.edu\"\n",
    "    \n",
    "    def __init__(self, name: str, surname: str, subjects: list = None):\n",
    "        self.name = name.title()\n",
    "        self.surname = surname.title()\n",
    "        full_name = f\"{name.title()} {surname.title()}\"\n",
    "        self.full_name = full_name\n",
    "\n",
    "        self.id = hashlib.md5(\n",
    "            (full_name + datetime.now().strftime(\"%y%m%d%H%M%S\"))\\\n",
    "                .encode(\"UTF-8\")\n",
    "        ).hexdigest()\n",
    "        \n",
    "        self.email = (\n",
    "            f\"{self.name[0:1].lower()}\"\n",
    "            f\".{self.surname.lower()}\"\n",
    "            f\".{self.id[0:5]}\"\n",
    "            f\"@{Lecturer.domain}\"\n",
    "        )\n",
    "        \n",
    "        self.subjects = subjects\n",
    "    \n",
    "    def __str__(self):\n",
    "        return str({\"Lecturer\": self.id,\n",
    "                \"Name\": self.name,\n",
    "                \"Surname\": self.surname,\n",
    "                \"Subjects\": str(self.subjects)})\n",
    "    \n",
    "    def __repr__(self):\n",
    "        return f\"<Lecturer email={self.email} id={self.id[0:5]}...>\"\n",
    "    \n",
    "lct1 = Lecturer(name=\"John\", surname=\"Doe\", subjects=[\"SWA\", \"ML4Engs\"])\n",
    "lct1"
   ]
  },
  {
   "cell_type": "markdown",
   "metadata": {},
   "source": [
    "#### Herencia de clases\n",
    "\n",
    "El primer paso está dado. Con esto acabamos de ver algunos de los ingredientes más importantes a la hora de codificar y encapsular lógica de especificación en clases. Ahora tenemos una clase que nos permite crear estudiante y otra que nos permite crear profesores. Pero...¿No vemos algo peculiar?\n",
    "\n",
    "- Primero, hay funcionalidad que hemos implementado en el constructor y que no está aislada como método, lo que hará engorroso el mantenimiento y testéo aislado de dicha funcionalidad (e.g., la de crear el ID)\n",
    "- Segundo, sí...eso es, hay código duplicado. Pero...¿Qué importa, si funciona? La respuesta es sencilla, la duplicidad de código no es solo un fallo estético, representa un fallo de escalado. Tener multiples copias de un trozo de código en diferentes partes es premonitorio de incoherencias en el futuro, porque hemos cambiado algo en uno de los sitios donde copiamos, pero no en el resto, etc. \n",
    "\n",
    "¿Qué podemos hacer al respecto? Vamos a intentar encapsular los elementos comunes en una clase \"madre\". Posteriormente, implementaremos las clases `Student` y `Lecturer` como derivadas de esta clase madre. Analizando el problema, no resulta difícil ver que, los factores comunes que tenemos en ambas clases son las características de un usuario, por lo que podemos empezar por ahí, definiendo la clase `User`:"
   ]
  },
  {
   "cell_type": "code",
   "execution_count": 96,
   "metadata": {},
   "outputs": [],
   "source": [
    "class User:\n",
    "    \n",
    "    def _build_email(self, domain: str) -> str:\n",
    "        user = (\n",
    "            f\"{self.name[0:1].lower()}\"\n",
    "            f\".{self.surname.lower()}\"\n",
    "            f\".{self.id[0:5]}\"\n",
    "        )\n",
    "        return f\"{user}@{domain}\"\n",
    "    \n",
    "    def _build_uuid(self):\n",
    "        return hashlib.md5(\n",
    "            (self.full_name + datetime.now().strftime(\"%y%m%d%H%M%S\"))\\\n",
    "                .encode(\"UTF-8\")\n",
    "        ).hexdigest()\n",
    "    \n",
    "    def _build_full_name(self):\n",
    "        return f\"{self.name.title()} {self.surname.title()}\"\n",
    "    \n",
    "    def __init__(self, name: str, surname: str, user_type: str):\n",
    "        self.name = name.title()\n",
    "        self.surname = surname.title()\n",
    "        self.full_name = self._build_full_name()        \n",
    "        self.id = self._build_uuid()\n",
    "        self.type = user_type\n",
    "        self.email = self._build_email(domain=\"[...].edu\")\n",
    "        \n",
    "    def __repr__(self):\n",
    "        return f\"<{self.type.title()} email={self.email} id='{self.id[0:5]}...'>\"\n",
    "    \n",
    "    def to_dict(self):\n",
    "        return {\n",
    "            f\"{self.type.title()}\": self.id,\n",
    "            \"Name\": self.name,\n",
    "            \"Surname\": self.surname\n",
    "        }\n",
    "    \n",
    "    def __str__(self):\n",
    "        return str(self.to_dict())"
   ]
  },
  {
   "cell_type": "markdown",
   "metadata": {},
   "source": [
    "Con esto, podemos comprobar fácilmente que las clases mencionadas anteriormente se pueden reescribir de manera muy compacta:"
   ]
  },
  {
   "cell_type": "code",
   "execution_count": 97,
   "metadata": {},
   "outputs": [
    {
     "name": "stdout",
     "output_type": "stream",
     "text": [
      "repr: <Student email=j.doe.39faf@alumni.myuni.edu id='39faf...'>\n",
      "str: {'Student': '39faf041252919d51754180680688769', 'Name': 'John', 'Surname': 'Doe', 'Course': 1}\n",
      "\n",
      "repr: <Lecturer email=j.doe.39faf@staff.myuni.edu id='39faf...'>\n",
      "str: {'Lecturer': '39faf041252919d51754180680688769', 'Name': 'John', 'Surname': 'Doe', 'Subjects': \"['SWA', 'ML4Engs']\"}\n",
      "\n"
     ]
    }
   ],
   "source": [
    "class Student(User):\n",
    "    domain = \"alumni.myuni.edu\"\n",
    "    \n",
    "    def __init__(self, name: str, surname: str, course: int = 1):\n",
    "        super().__init__(name=name, surname=surname, user_type=\"Student\")\n",
    "        self.email = self._build_email(domain=Student.domain)\n",
    "        self.course = course\n",
    "    \n",
    "    def to_dict(self):\n",
    "        return {**super().to_dict(), \"Course\": self.course}\n",
    "\n",
    "    def __str__(self):\n",
    "        return str(self.to_dict())\n",
    "\n",
    "class Lecturer(User):\n",
    "    domain = \"staff.myuni.edu\"\n",
    "    \n",
    "    def __init__(self, name: str, surname: str, subjects: list = []):\n",
    "        super().__init__(name=name, surname=surname, user_type=\"Lecturer\")\n",
    "        self.email = self._build_email(domain=Lecturer.domain)\n",
    "        self.subjects = subjects\n",
    "    \n",
    "    def to_dict(self):\n",
    "        return {**super().to_dict(), \"Subjects\": str(self.subjects)}\n",
    "        \n",
    "    def __str__(self):\n",
    "        return str(self.to_dict())\n",
    "    \n",
    "st1 = Student(name=\"John\", surname=\"Doe\")\n",
    "lct1 = Lecturer(name=\"John\", surname=\"Doe\", subjects=[\"SWA\", \"ML4Engs\"])\n",
    "\n",
    "for e in [st1, lct1]:\n",
    "    print(f\"repr: {repr(e)}\")\n",
    "    print(f\"str: {e}\\n\")"
   ]
  },
  {
   "cell_type": "markdown",
   "metadata": {},
   "source": [
    "En nuestra reescritura de las clases `Student` y `Lecturer` no solo hemos ganado robustez, sino que ahora, gracias a la herencia de clases, podremos definir más roles que compartan las características básicas de un usuario de una forma sencilla. Por ejemplo, si tuvieramos que evolucionar nuestra especificación anterior del problema para poder también registrar personal (no lectivo), podríamos simplemente hacer una clase `Staff` que derivase de `User` de la misma forma. Es evidente que la abstracción en una clase madre ha hecho posible la generalización de nuestro programa."
   ]
  },
  {
   "cell_type": "markdown",
   "metadata": {},
   "source": [
    "En el ejemplo anterior, además, también hemos visto en acción (sin darnos cuenta) el concepto de polimorfismo. Formalmente, el *polimorfismo* es la capacidad de representar con una misma \"interfaz\" a entidades de diferentes tipos, o el uso del mismo símbolo para representar diferentes tipos. En otras palabras, el polimorfismo nos permite realizar una misma acción de maneras diferentes dependiendo del tipo.\n",
    "\n",
    "Como ejemplo, en el caso de los estudiantes y profesores, en ambas clases estamos derivando un método (`.to_dict()`) que a posteriori cada subclase ha sobre-escrito, manteniendo la misma interfaz, pero aumentando la definición original. Es por ello que cuando recorremos una lista con estudiantes y profesores, podemos usar el método `obj.to_dict()` y cada uno hace lo que debe. Esto es polimorfismo. Veámoslo de nuevo:"
   ]
  },
  {
   "cell_type": "code",
   "execution_count": 98,
   "metadata": {},
   "outputs": [
    {
     "name": "stdout",
     "output_type": "stream",
     "text": [
      "{'Lecturer': '92953159374f1ea48098ff3b072b6735', 'Name': 'Jessica', 'Surname': 'Lee', 'Subjects': \"['Topology', 'Analysis', 'Programming']\"}\n",
      "{'Lecturer': '9201d577c31e1d8b167c8b123068098e', 'Name': 'Noah', 'Surname': 'Smith', 'Subjects': \"['Programming', 'Topology', 'Analysis']\"}\n",
      "{'Lecturer': '693698043a882166fe612bdb04bb77b2', 'Name': 'Dan', 'Surname': 'Miller', 'Subjects': \"['Programming', 'Topology', 'Algebra']\"}\n",
      "{'Student': '2eb7461d35daa7741daca787239b1413', 'Name': 'Liam', 'Surname': 'Miller', 'Course': 3}\n",
      "{'Student': 'b2e6cdfa9f5d1cd3272ec9322caf2358', 'Name': 'Dan', 'Surname': 'Smith', 'Course': 4}\n",
      "{'Student': '6449bb7d5e39cb1d003b0b98a96d6539', 'Name': 'Noah', 'Surname': 'Lee', 'Course': 2}\n",
      "{'Lecturer': '634d647791e2922a2d1e0f2d876b2646', 'Name': 'Jessica', 'Surname': 'Miller', 'Subjects': \"['Topology', 'Geometry', 'Algebra']\"}\n",
      "{'Student': '74340b94993f4e0d6af2091b61009425', 'Name': 'John', 'Surname': 'Williams', 'Course': 2}\n",
      "{'Lecturer': '9201d577c31e1d8b167c8b123068098e', 'Name': 'Noah', 'Surname': 'Smith', 'Subjects': \"['Topology', 'Algebra', 'Analysis']\"}\n",
      "{'Student': 'a6f654e826cab93ecba57955faeaba4a', 'Name': 'Liam', 'Surname': 'Lee', 'Course': 1}\n"
     ]
    }
   ],
   "source": [
    "import random\n",
    "\n",
    "names = [\"John\", \"Jessica\", \"Dan\", \"Liam\", \"Noah\"]\n",
    "surnames = [\"Smith\", \"Jonhnson\", \"Williams\", \"Miller\", \"Lee\"]\n",
    "subjects = [\"Analysis\", \"Algebra\", \"Geometry\", \"Topology\", \"Programming\"]\n",
    "courses = [1, 2, 3, 4]\n",
    "\n",
    "students = [\n",
    "    Student(\n",
    "        name=random.choice(names),\n",
    "        surname=random.choice(surnames),\n",
    "        course=random.choice(courses)) \n",
    "    for k in range(5)\n",
    "]\n",
    "\n",
    "lecturers = [\n",
    "    Lecturer(\n",
    "        name=random.choice(names),\n",
    "        surname=random.choice(surnames),\n",
    "        subjects=random.sample(subjects, 3)) \n",
    "    for k in range(5)\n",
    "]\n",
    "\n",
    "users = students + lecturers\n",
    "random.shuffle(users)\n",
    "\n",
    "for u in users:\n",
    "    print(u.to_dict())"
   ]
  },
  {
   "cell_type": "markdown",
   "metadata": {},
   "source": [
    "Así, el programa que hace lo que se nos ha pedido, podría ser escrito como sigue:"
   ]
  },
  {
   "cell_type": "code",
   "execution_count": 99,
   "metadata": {},
   "outputs": [
    {
     "data": {
      "text/plain": [
       "[<Student email=n.smith.9201d@alumni.myuni.edu id='9201d...'>,\n",
       " <Lecturer email=l.lee.a6f65@staff.myuni.edu id='a6f65...'>,\n",
       " <Student email=j.miller.b1482@alumni.myuni.edu id='b1482...'>,\n",
       " <Lecturer email=j.miller.634d6@staff.myuni.edu id='634d6...'>,\n",
       " <Student email=j.williams.831bd@alumni.myuni.edu id='831bd...'>,\n",
       " <Student email=n.jonhnson.976e2@alumni.myuni.edu id='976e2...'>,\n",
       " <Student email=j.miller.b1482@alumni.myuni.edu id='b1482...'>]"
      ]
     },
     "execution_count": 99,
     "metadata": {},
     "output_type": "execute_result"
    }
   ],
   "source": [
    "import random\n",
    "from enum import Enum\n",
    "\n",
    "NAMES = [\"John\", \"Jessica\", \"Dan\", \"Liam\", \"Noah\"]\n",
    "SURNAMES = [\"Smith\", \"Jonhnson\", \"Williams\", \"Miller\", \"Lee\"]\n",
    "SUBJECTS = [\"Analysis\", \"Algebra\", \"Geometry\", \"Topology\", \"Programming\"]\n",
    "YEARS = [1, 2, 3, 4]\n",
    "\n",
    "\n",
    "class UserType(Enum):\n",
    "    Student = 1\n",
    "    Lecturer = 2\n",
    "\n",
    "\n",
    "def get_user_cttor(user_type: UserType) -> User:\n",
    "    cttor = None\n",
    "    if user_type == UserType.Student:\n",
    "        cttor = Student\n",
    "    elif user_type == UserType.Lecturer:\n",
    "        cttor = Lecturer\n",
    "    else:\n",
    "        raise Exception(f\"User type: {user_type} not defined.\")\n",
    "    return cttor\n",
    "\n",
    "def generate_user_args(user_type: UserType) -> dict:\n",
    "    args = {\n",
    "        \"name\": random.choice(NAMES),\n",
    "        \"surname\": random.choice(SURNAMES),\n",
    "    }\n",
    "    if user_type == UserType.Student:\n",
    "        args = {\n",
    "            **args,\n",
    "            \"course\": random.choice(YEARS)\n",
    "        }\n",
    "    elif user_type == UserType.Lecturer:\n",
    "        args = {\n",
    "            **args,\n",
    "            \"subjects\": random.sample(SUBJECTS, \n",
    "                                    random.choice(YEARS))\n",
    "        }\n",
    "    else:\n",
    "        pass\n",
    "    return args\n",
    "\n",
    "def generate_users(user_type: UserType, n_users = 1) -> list:\n",
    "    if n<0: return []\n",
    "\n",
    "    cttor = get_user_cttor(user_type)\n",
    "    users = [\n",
    "        cttor(**generate_user_args(user_type))\n",
    "        for k in range(n_users)\n",
    "    ]\n",
    "    return users\n",
    "\n",
    "def generate_people(n_students: int, n_lecturers: int) -> list:\n",
    "    students = generate_users(\n",
    "        user_type=UserType.Student,\n",
    "        n_users=n_students,\n",
    "    )\n",
    "    \n",
    "    lecturers = generate_users(\n",
    "        user_type=UserType.Lecturer,\n",
    "        n_users=n_lecturers,\n",
    "    )\n",
    "    \n",
    "    people = lecturers + students\n",
    "    random.shuffle(people)\n",
    "    return people\n",
    "\n",
    "people = generate_people(n_students=5, n_lecturers=2)\n",
    "people"
   ]
  },
  {
   "cell_type": "markdown",
   "metadata": {},
   "source": [
    "Para finalizar esta revisión rápida de OOP, vamos a ver un par de *decoradores* que son bastante utilizados cuando implementamos clases, para proteger algún atributo (esto se debe a que en `Python` por defecto no existe el concepto de atributos protegidos o privados). ¿Qué es un decorador? Pues básicamente *callables* que aceptan funciones como argumento. Veámos un ejemplo sencillo:"
   ]
  },
  {
   "cell_type": "code",
   "execution_count": 100,
   "metadata": {},
   "outputs": [
    {
     "name": "stdout",
     "output_type": "stream",
     "text": [
      "Processing the data...⚙️\n",
      "Processing has finished successfully 🥳\n"
     ]
    }
   ],
   "source": [
    "import time \n",
    "\n",
    "def cleansing(func):\n",
    "    def wrapper():\n",
    "        print(\"Processing the data...⚙️\")\n",
    "        func()\n",
    "        print(\"Processing has finished successfully 🥳\")\n",
    "    return wrapper\n",
    "\n",
    "def my_process():\n",
    "    time.sleep(2)\n",
    "\n",
    "data_cleansing = cleansing(my_process)\n",
    "data_cleansing()"
   ]
  },
  {
   "cell_type": "code",
   "execution_count": 101,
   "metadata": {},
   "outputs": [
    {
     "name": "stdout",
     "output_type": "stream",
     "text": [
      "Processing the data...⚙️\n",
      "Processing has finished successfully 🥳\n"
     ]
    }
   ],
   "source": [
    "# The syntatic sugar!\n",
    "@cleansing\n",
    "def cleaning_function():\n",
    "    time.sleep(2)\n",
    "\n",
    "cleaning_function()"
   ]
  },
  {
   "cell_type": "markdown",
   "metadata": {},
   "source": [
    "En el caso de clases, simplemente vamos a repasar el decorador `property`:"
   ]
  },
  {
   "cell_type": "code",
   "execution_count": 102,
   "metadata": {},
   "outputs": [
    {
     "data": {
      "text/plain": [
       "150000"
      ]
     },
     "execution_count": 102,
     "metadata": {},
     "output_type": "execute_result"
    }
   ],
   "source": [
    "class House:\n",
    "    def __init__(self, price):\n",
    "        self._price = price\n",
    "\n",
    "    @property\n",
    "    def price(self):\n",
    "        return self._price\n",
    "            \n",
    "my_house = House(price=150_000)\n",
    "my_house.price"
   ]
  },
  {
   "cell_type": "code",
   "execution_count": 103,
   "metadata": {},
   "outputs": [
    {
     "name": "stdout",
     "output_type": "stream",
     "text": [
      "No puedes cambiar el precio!\n"
     ]
    }
   ],
   "source": [
    "try:\n",
    "    my_house.price = 175_000\n",
    "except:\n",
    "    print(\"No puedes cambiar el precio!\")"
   ]
  },
  {
   "cell_type": "code",
   "execution_count": 104,
   "metadata": {},
   "outputs": [
    {
     "data": {
      "text/plain": [
       "175000"
      ]
     },
     "execution_count": 104,
     "metadata": {},
     "output_type": "execute_result"
    }
   ],
   "source": [
    "class House:\n",
    "    def __init__(self, price):\n",
    "        self._price = price\n",
    "\n",
    "    @property\n",
    "    def price(self):\n",
    "        return self._price\n",
    "\n",
    "    @price.setter\n",
    "    def price(self, new_price):\n",
    "        if new_price > 0 and (\n",
    "            isinstance(new_price, float)\n",
    "            or isinstance(new_price, int)\n",
    "        ):\n",
    "            self._price = new_price\n",
    "        else:\n",
    "            print(\"Please enter a valid price\")\n",
    "\n",
    "my_house = House(price=150_000)\n",
    "my_house.price = 175_000\n",
    "my_house.price"
   ]
  },
  {
   "cell_type": "markdown",
   "metadata": {},
   "source": [
    "Como veremos a lo largo de este curso, uno de los objetos con los que vamos a trabajar son con los tweets de [twitter](https://twitter.com/). Mirando la documentación de la [API v1,1](https://developer.twitter.com/en/docs/twitter-api/v1/data-dictionary/object-model/tweet) (veremos que es una API, y exploraremos en concreto como atacarla en el siguiente módulo), podemos hacernos una idea de lo que un *tweet* debe contener. Podemos usar esto como ejemplo de OOP, y definir nosotros mismos como un tweet puede ser representado como una calse:"
   ]
  },
  {
   "cell_type": "code",
   "execution_count": 105,
   "metadata": {},
   "outputs": [
    {
     "data": {
      "text/plain": [
       "<Tweet: id='123123' text = 'Social and Web Analytics ...' >"
      ]
     },
     "execution_count": 105,
     "metadata": {},
     "output_type": "execute_result"
    }
   ],
   "source": [
    "from datetime import datetime\n",
    "\n",
    "class Tweet:\n",
    "    def __init__(\n",
    "        self,\n",
    "        text: str,\n",
    "        user_id: str,\n",
    "        tweet_id: str = None,\n",
    "        created_at: str = None,\n",
    "        edited: bool = False,\n",
    "    ): \n",
    "        self._text = text\n",
    "        self._id = tweet_id\n",
    "        self._user_id = user_id\n",
    "        self._created_at = datetime.now() \\\n",
    "                if not created_at \\\n",
    "                else datetime.fromisoformat(created_at)\n",
    "        \n",
    "        self._edited = edited\n",
    "        \n",
    "    @property\n",
    "    def text(self):\n",
    "        return self._text\n",
    "\n",
    "    @property\n",
    "    def id(self):\n",
    "        return self._id\n",
    "    \n",
    "    @property\n",
    "    def user_id(self):\n",
    "        return self._user_id\n",
    "    \n",
    "    @property\n",
    "    def created_at(self):\n",
    "        return self._created_at\n",
    "    \n",
    "    @property\n",
    "    def edited(self):\n",
    "        return self._edited\n",
    "    \n",
    "    def edit(self, text: str):\n",
    "        self._text = text\n",
    "        self._edited = True\n",
    "        \n",
    "    def to_dict(self) -> dict:\n",
    "        return {\n",
    "            \"text\": self.text,\n",
    "            \"tweet_id\": self.id,\n",
    "            \"user_id\": self.user_id,\n",
    "            \"created_at\": self.created_at.isoformat(),\n",
    "            \"edited\": self.edited,\n",
    "        }\n",
    "        \n",
    "    def __str__(self):\n",
    "        return str(self.to_dict())\n",
    "    \n",
    "    def __repr__(self):\n",
    "        return (\n",
    "            \"<\"\n",
    "            f\"{Tweet.__name__}: id='{self.id}' \"\n",
    "            f\"text = '{self.text[0:25]}...' \"\n",
    "            \">\"\n",
    "        )\n",
    "\n",
    "\n",
    "my_tweet = Tweet(\n",
    "    text=\"Social and Web Analytics 🚀\",\n",
    "    tweet_id=\"123123\",\n",
    "    user_id=\"123456789\",\n",
    "    created_at=datetime.now().strftime(\"%Y-%m-%d %H:%M:%S\")\n",
    ")\n",
    "\n",
    "my_tweet"
   ]
  },
  {
   "cell_type": "code",
   "execution_count": 106,
   "metadata": {},
   "outputs": [
    {
     "name": "stdout",
     "output_type": "stream",
     "text": [
      "Social and Web Analytics...to the moooon 🚀\n",
      "True\n"
     ]
    }
   ],
   "source": [
    "my_tweet.edit(\"Social and Web Analytics...to the moooon 🚀\")\n",
    "print(my_tweet.text)\n",
    "print(my_tweet.edited)"
   ]
  },
  {
   "cell_type": "markdown",
   "metadata": {},
   "source": [
    "### Trabajando con datos y ficheros: Módulos `json`, `io` y `pickle`"
   ]
  },
  {
   "cell_type": "markdown",
   "metadata": {},
   "source": [
    "Unas de las tareas más comunes en la analítica es la de la colecta y limpieza de datos. Esta colecta de datos suele involucrar estructuras de datos y ficheros. En particular, veremos que los estándares más usados hoy día son los objetos (o ficheros) `JSON`, los `CSV`, y en el universo `Python` tenmos `pickles`.\n",
    "\n",
    "**JSON** = **J**ava**S**cript **O**bject **N**otation es un estándar de intercambio de información, el cual tuvo su inspiración en un subcojunto de JavaScript. Si quieres conocer toda su historia y detalles, [aquí](https://www.json.org/json-en.html) tienes la página oficial.\n",
    "\n",
    "**CSV** = **C**omma **S**eparated **V**alues es un tipo de documento en formato abierto sencillo que representa datos en forma de tabla, en las que las columnas se separan por comas (o punto y coma en donde la coma es el separador decimal como en Chile, Perú, Argentina, España, Brasil, entre otros) y las filas por saltos de línea. Puedes ir [aquí](https://en.wikipedia.org/wiki/Comma-separated_values) una descripción más detallada.\n",
    "\n",
    "**Pickle** = Librería nativa de Python para la \"serialización\" (representación en forma de cadena de bytes) de un objeto. Un pickle (la representación del objeto) puede ser almacenarlo en un archivo, o en base de datos, o transferirlos a través de una red. Convertir un objeto en su representación se suele denominar \"pickelizar\" (*pickling*), y el inverso (i.e. convertir una cadena de bytes en un objeto) se suele denotar como *unpickling*.\n",
    "\n",
    "A continuación procedemos a dar ejemplos de cada uno de estos formatos y de como tratarlos."
   ]
  },
  {
   "cell_type": "markdown",
   "metadata": {},
   "source": [
    "##### JSON\n",
    "\n",
    "`Python` soporta nativamente mediante el módulo *built-in* `json`. Por ejemplo, el siguiente bloque representa el contenido de un JSON:\n"
   ]
  },
  {
   "cell_type": "markdown",
   "metadata": {},
   "source": [
    "```javascript\n",
    "tweet_data = {\n",
    "    \"text\": \"Social and Web Analytics 🚀\",\n",
    "    \"created_at\": \"2022-01-20 13:03:54.388977\"\n",
    "    \"tweet_id\": 123456789,\n",
    "    \"user_id\": 123123123,\n",
    "}\n",
    "```"
   ]
  },
  {
   "cell_type": "code",
   "execution_count": 107,
   "metadata": {},
   "outputs": [
    {
     "data": {
      "text/plain": [
       "'{\"text\": \"Social and Web Analytics...to the moooon \\\\ud83d\\\\ude80\", \"tweet_id\": \"123123\", \"user_id\": \"123456789\", \"created_at\": \"2022-01-20T15:51:50\", \"edited\": true}'"
      ]
     },
     "execution_count": 107,
     "metadata": {},
     "output_type": "execute_result"
    }
   ],
   "source": [
    "import json\n",
    "\n",
    "tweet_data = my_tweet.to_dict()\n",
    "tweet_json = json.dumps(tweet_data)\n",
    "\n",
    "# JSON\n",
    "tweet_json"
   ]
  },
  {
   "cell_type": "code",
   "execution_count": 108,
   "metadata": {},
   "outputs": [],
   "source": [
    "retweet = Tweet(\n",
    "    **{**my_tweet.to_dict(),\n",
    "       \"tweet_id\": \"98765432\",\n",
    "       \"user_id\": \"987654321\"}\n",
    ")"
   ]
  },
  {
   "cell_type": "code",
   "execution_count": 109,
   "metadata": {},
   "outputs": [
    {
     "data": {
      "text/plain": [
       "0"
      ]
     },
     "execution_count": 109,
     "metadata": {},
     "output_type": "execute_result"
    }
   ],
   "source": [
    "[1,2].index(1)"
   ]
  },
  {
   "cell_type": "code",
   "execution_count": 110,
   "metadata": {},
   "outputs": [
    {
     "name": "stdout",
     "output_type": "stream",
     "text": [
      "[!] Tweet not found: No tweet with id='7233629'\n",
      "[!] Tweet not found: No tweet with id='5889889'\n",
      "[!] Tweet not found: No tweet with id='413232'\n",
      "[!] Tweet not found: No tweet with id='1852904'\n",
      "[!] Tweet not found: No tweet with id='7160441'\n",
      "[!] Tweet not found: No tweet with id='5111497'\n",
      "[!] Tweet not found: No tweet with id='5316809'\n",
      "[!] Tweet not found: No tweet with id='3713715'\n",
      "[!] Tweet not found: No tweet with id='1692991'\n",
      "[!] Tweet not found: No tweet with id='7569886'\n"
     ]
    },
    {
     "data": {
      "text/plain": [
       "['{\"text\": \"Social and Web Analytics...to the moooon \\\\ud83d\\\\ude80\", \"tweet_id\": \"98765432\", \"user_id\": \"987654321\", \"created_at\": \"2022-01-20T15:51:50\", \"edited\": true}',\n",
       " '{\"text\": \"Social and Web Analytics...to the moooon \\\\ud83d\\\\ude80\", \"tweet_id\": \"123123\", \"user_id\": \"123456789\", \"created_at\": \"2022-01-20T15:51:50\", \"edited\": true}']"
      ]
     },
     "execution_count": 110,
     "metadata": {},
     "output_type": "execute_result"
    }
   ],
   "source": [
    "def request_tweet(tweet_id: int):\n",
    "    \"\"\"Simulates a requests to Twitter DB\n",
    "    \"\"\"\n",
    "    tweets = [my_tweet, retweet]\n",
    "    tweets_ids = [t.id for t in tweets]\n",
    "    if tweet_id not in tweets_ids:\n",
    "        raise FileNotFoundError(f\"[!] Tweet not found: No tweet with id='{tweet_id}'\")\n",
    "    \n",
    "    t_idx = tweets_ids.index(tweet_id)\n",
    "    return json.dumps(tweets[t_idx].to_dict())\n",
    "    \n",
    "# Simulates a bunch of tweet ids we want to search:\n",
    "tweet_ids = [my_tweet.id, retweet.id] \\\n",
    "            + random.sample(range(1_000, 10_000_000), 10)\n",
    "random.shuffle(tweet_ids)\n",
    "\n",
    "tweets_json = []\n",
    "tweets = []\n",
    "for t_id in tweet_ids:\n",
    "    try:\n",
    "        response = request_tweet(tweet_id=t_id)\n",
    "        data = json.loads(response)\n",
    "        tweet = Tweet(**data)\n",
    "\n",
    "        tweets_json.append(response)\n",
    "        tweets.append(tweet)\n",
    "    except FileNotFoundError as err:\n",
    "        print(err)\n",
    "\n",
    "tweets\n",
    "tweets_json"
   ]
  },
  {
   "cell_type": "markdown",
   "metadata": {},
   "source": [
    "Imaginemos que esta es la respuesta que hemos recibido al buscar unos cuantos de tweets en Twitter. Nos gustaría guardar (de momento en local) toda la información que hemos bajado. Lo más inmediato es guardar un archivo `.json`:"
   ]
  },
  {
   "cell_type": "code",
   "execution_count": 111,
   "metadata": {},
   "outputs": [],
   "source": [
    "json_file_name = \"fake_tweets.json\"\n",
    "with open(json_file_name, \"w\") as tweets_file:\n",
    "    json.dump(tweets_json, tweets_file)"
   ]
  },
  {
   "cell_type": "code",
   "execution_count": 112,
   "metadata": {},
   "outputs": [],
   "source": [
    "with open(json_file_name, \"r\") as tweets_file:\n",
    "    tweets_data = json.load(tweets_file)"
   ]
  },
  {
   "cell_type": "code",
   "execution_count": 113,
   "metadata": {},
   "outputs": [
    {
     "data": {
      "text/plain": [
       "['{\"text\": \"Social and Web Analytics...to the moooon \\\\ud83d\\\\ude80\", \"tweet_id\": \"98765432\", \"user_id\": \"987654321\", \"created_at\": \"2022-01-20T15:51:50\", \"edited\": true}',\n",
       " '{\"text\": \"Social and Web Analytics...to the moooon \\\\ud83d\\\\ude80\", \"tweet_id\": \"123123\", \"user_id\": \"123456789\", \"created_at\": \"2022-01-20T15:51:50\", \"edited\": true}']"
      ]
     },
     "execution_count": 113,
     "metadata": {},
     "output_type": "execute_result"
    }
   ],
   "source": [
    "tweets_data"
   ]
  },
  {
   "cell_type": "markdown",
   "metadata": {},
   "source": [
    "Con esto hemos visto lo fundamental y necesario para tratar con JSONs y hacer las operacione básicas de I/O (input/ouput con `open`). Si quieres aprender más sobre I/O en `Python` puedes ir a este [link](https://docs.python.org/3/library/io.html) para encontrar una documentación más detallada al respecto."
   ]
  },
  {
   "cell_type": "markdown",
   "metadata": {},
   "source": [
    "##### CSV (Comma Separated Values)\n",
    "\n",
    "Como hemo comentado anteriormente, otro de los grandes estándares de intercambio de información es el CSV. En este caso, un fichero CSV suele representar información tabular que ya muestra una estructura clara. Al igual que en el caso de JSON, `Python` soporta el formato CSV de manera nativa [link](https://docs.python.org/3.8/library/csv.html), aunque librerías como `pandas` hayan hecho aún más sencilla su utilización. De momento vamos a ver un ejemplo sencillo con el *built-in* `csv`. El siguiente bloque muestra un ejemplo del contenido en un fichero de este tipo:"
   ]
  },
  {
   "cell_type": "markdown",
   "metadata": {},
   "source": [
    "```csv\n",
    "user_id,user_name,course\n",
    "first row data 1,first row data 2,first row data 3\n",
    "second row data 1,second row data 2,second row data 3\n",
    "```"
   ]
  },
  {
   "cell_type": "code",
   "execution_count": 114,
   "metadata": {},
   "outputs": [
    {
     "name": "stdout",
     "output_type": "stream",
     "text": [
      "user_id,user_name,email,course\n",
      "6449bb7d5e39cb1d003b0b98a96d6539,Noah,n.lee.6449b@alumni.myuni.edu,2\n",
      "2eb7461d35daa7741daca787239b1413,Liam,l.miller.2eb74@alumni.myuni.edu,3\n",
      "74340b94993f4e0d6af2091b61009425,John,j.williams.74340@alumni.myuni.edu,2\n",
      "a6f654e826cab93ecba57955faeaba4a,Liam,l.lee.a6f65@alumni.myuni.edu,1\n",
      "b2e6cdfa9f5d1cd3272ec9322caf2358,Dan,d.smith.b2e6c@alumni.myuni.edu,4\n"
     ]
    }
   ],
   "source": [
    "# Creación del contenido del CSV:\n",
    "\n",
    "students_str = \"\\n\".join([\n",
    "    f\"{s.id},{s.name},{s.email},{s.course}\" for s in students\n",
    "])\n",
    "\n",
    "students_str = \"user_id,user_name,email,course\\n\" + students_str\n",
    "print(students_str)"
   ]
  },
  {
   "cell_type": "code",
   "execution_count": 115,
   "metadata": {},
   "outputs": [],
   "source": [
    "with open(\"fake_students.csv\", \"w\") as file:\n",
    "    file.write(students_str)"
   ]
  },
  {
   "cell_type": "code",
   "execution_count": 116,
   "metadata": {},
   "outputs": [],
   "source": [
    "import csv\n",
    "\n",
    "fieldnames = [\n",
    "    \"user_id\",\n",
    "    \"user_name\",\n",
    "    \"email\",\n",
    "    \"course\"\n",
    "]\n",
    "\n",
    "\n",
    "class Row:\n",
    "    def __init__(self, row_data):\n",
    "        self.keys = [k for k in row_data.keys()]\n",
    "        self.values = [v for v in row_data.values()]\n",
    "\n",
    "    def __repr__(self):\n",
    "        return \"[\" + \", \".join(self.values[0:10]) + \"]\"\n",
    "    \n",
    "    def __str__(self):\n",
    "        return str(self.values)\n",
    "\n",
    "class Table:\n",
    "    \n",
    "    @staticmethod\n",
    "    def read_csv(file_path: str):\n",
    "        csv.register_dialect('unixpwd', delimiter=',', quoting=csv.QUOTE_NONE)\n",
    "        with open(file_path, \"r\", newline=\"\\n\") as csv_file:\n",
    "            reader = csv.DictReader(csv_file, fieldnames=fieldnames)\n",
    "            result_list = [\n",
    "                dict(row) \n",
    "                for row in reader\n",
    "            ]\n",
    "        return result_list\n",
    "            \n",
    "    def __init__(self, data: list = None, file: str = None):\n",
    "        csv_data = data\n",
    "        if file:\n",
    "            csv_data = Table.read_csv(file_path=file)\n",
    "    \n",
    "        self.rows = [Row(d) for d in csv_data]\n",
    "        \n",
    "    def __getitem__(self, idx: int):\n",
    "        return self.rows[idx + 1]\n",
    "    \n",
    "\n",
    "\n",
    "tb = Table(file=\"fake_students.csv\")"
   ]
  },
  {
   "cell_type": "code",
   "execution_count": 119,
   "metadata": {},
   "outputs": [
    {
     "data": {
      "text/plain": [
       "[6449bb7d5e39cb1d003b0b98a96d6539, Noah, n.lee.6449b@alumni.myuni.edu, 2]"
      ]
     },
     "execution_count": 119,
     "metadata": {},
     "output_type": "execute_result"
    }
   ],
   "source": [
    "tb[0]"
   ]
  },
  {
   "cell_type": "markdown",
   "metadata": {},
   "source": [
    "### Librerías útiles para la analítica: Pandas, matplotlib, plotly, etc."
   ]
  },
  {
   "cell_type": "markdown",
   "metadata": {},
   "source": [
    "La comunidad de `Python` es bastante activa en el desarrollo de librerías\n",
    "gratuitas (*open*) de análisis de datos. Las más usadas a día de hoy (`Enero 2022`)\n",
    "y con las que recomendamos cierta familiaridad son:\n",
    "\n",
    "- Pandas: https://pandas.pydata.org/\n",
    "- Matplotlib: https://matplotlib.org/\n",
    "- Plotly: https://plotly.com/\n",
    "\n",
    "En este repaso general de `Python` consideramos que debemos ceñirnos al lenguaje\n",
    "per sé y no a librerías de terceros, a pesar de que las usaremos probablemente en\n",
    "el curso. El motivo es sencillo, creemos que el mejor repaso de susodichas librerías\n",
    "se encuentra en el `Quick Start` que se puede encontrar en los sitios web de cada\n",
    "una de estas. En caso que creamos que fuera necesario alguna funcionalidad específica\n",
    "de alguna librería, la explicaremos con detalle en la sección adecuada."
   ]
  }
 ],
 "metadata": {
  "kernelspec": {
   "display_name": "Python 3 (ipykernel)",
   "language": "python",
   "name": "python3"
  },
  "language_info": {
   "codemirror_mode": {
    "name": "ipython",
    "version": 3
   },
   "file_extension": ".py",
   "mimetype": "text/x-python",
   "name": "python",
   "nbconvert_exporter": "python",
   "pygments_lexer": "ipython3",
   "version": "3.8.12"
  }
 },
 "nbformat": 4,
 "nbformat_minor": 2
}