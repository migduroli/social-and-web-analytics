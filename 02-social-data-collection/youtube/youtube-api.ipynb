{
 "cells": [
  {
   "cell_type": "markdown",
   "id": "4981fc44",
   "metadata": {},
   "source": [
    "## Conexión a YouTube DATA API\n",
    "\n",
    "Para conectarnos a la API de YouTube vamos a utilizar la librería\n",
    "[google-api-python-client](https://github.com/googleapis/google-api-python-client).\n",
    "Con ella vamos a establecer el cliente de conexión a YouTube Data API v3\n",
    "muy fácilmente. La documentación de esta librería, así como la de la API\n",
    "de YouTube se puede encontrar en los siguientes links:\n",
    "\n",
    "- [google-api-python-client](https://googleapis.github.io/google-api-python-client/docs/epy/googleapiclient.discovery-module.html)\n",
    "- [youtube-data-api-v3](https://googleapis.github.io/google-api-python-client/docs/dyn/youtube_v3.html)\n",
    "- [Data API v3](https://developers.google.com/youtube/v3/docs)\n",
    "\n",
    "Sin más, podemos proceder a establecer la conexión (recuerda\n",
    "tener el fichero con los credenciales a mano):"
   ]
  },
  {
   "cell_type": "code",
   "execution_count": 1,
   "id": "612a8f63",
   "metadata": {},
   "outputs": [],
   "source": [
    "import json\n",
    "import googleapiclient.discovery\n",
    "\n",
    "# API information:\n",
    "api_service_name = \"youtube\"\n",
    "api_version = \"v3\"\n",
    "\n",
    "# API key:\n",
    "with open(\"auth/youtube_credentials.json\") as file:\n",
    "    credentials = json.load(file)"
   ]
  },
  {
   "cell_type": "code",
   "source": [
    "# API key:\n",
    "DEVELOPER_KEY = credentials[\"DEVELOPER_KEY\"]\n",
    "\n",
    "# API client\n",
    "youtube = googleapiclient.discovery.build(\n",
    "    serviceName=api_service_name,\n",
    "    version=api_version,\n",
    "    developerKey=DEVELOPER_KEY\n",
    ")"
   ],
   "metadata": {
    "collapsed": false,
    "pycharm": {
     "name": "#%%\n"
    }
   },
   "execution_count": 3,
   "outputs": []
  },
  {
   "cell_type": "markdown",
   "source": [
    "Ahora que ya hemos establecido la conexión, podemos comenzar\n",
    "a experimentar con dicha API, por ejemplo, haciendo una búsqueda\n",
    "sencilla de vídeos que contengan una palabra (en este caso vamos a\n",
    "buscar \"Spider-Man\"):"
   ],
   "metadata": {
    "collapsed": false,
    "pycharm": {
     "name": "#%% md\n"
    }
   }
  },
  {
   "cell_type": "code",
   "execution_count": 12,
   "outputs": [],
   "source": [
    "# Request body:\n",
    "request = youtube.search().list(\n",
    "    part=\"id,snippet\",\n",
    "    type='video',\n",
    "    q=\"Spider-Man\",\n",
    "    videoDuration='short',\n",
    "    videoDefinition='high',\n",
    "    maxResults=10\n",
    ")\n",
    "\n",
    "# Run query:\n",
    "response = request.execute()"
   ],
   "metadata": {
    "collapsed": false,
    "pycharm": {
     "name": "#%%\n"
    }
   }
  },
  {
   "cell_type": "code",
   "execution_count": 13,
   "outputs": [
    {
     "data": {
      "text/plain": "{'kind': 'youtube#searchListResponse',\n 'etag': 'eAAAC4d86AvqoPhDulV-IEJdTRU',\n 'nextPageToken': 'CAoQAA',\n 'regionCode': 'ES',\n 'pageInfo': {'totalResults': 1000000, 'resultsPerPage': 10},\n 'items': [{'kind': 'youtube#searchResult',\n   'etag': 'FgXNnnU4h0h3sjcNo30jwVVXySk',\n   'id': {'kind': 'youtube#video', 'videoId': 'JfVOs4VSpmA'},\n   'snippet': {'publishedAt': '2021-11-17T01:30:05Z',\n    'channelId': 'UCz97F7dMxBNOfGYu3rx8aCw',\n    'title': 'SPIDER-MAN: NO WAY HOME - Official Trailer (HD)',\n    'description': 'We started getting visitors… from every universe. Watch the official trailer for #SpiderManNoWayHome, exclusively in movie ...',\n    'thumbnails': {'default': {'url': 'https://i.ytimg.com/vi/JfVOs4VSpmA/default.jpg',\n      'width': 120,\n      'height': 90},\n     'medium': {'url': 'https://i.ytimg.com/vi/JfVOs4VSpmA/mqdefault.jpg',\n      'width': 320,\n      'height': 180},\n     'high': {'url': 'https://i.ytimg.com/vi/JfVOs4VSpmA/hqdefault.jpg',\n      'width': 480,\n      'height': 360}},\n    'channelTitle': 'Sony Pictures Entertainment',\n    'liveBroadcastContent': 'none',\n    'publishTime': '2021-11-17T01:30:05Z'}},\n  {'kind': 'youtube#searchResult',\n   'etag': 'JxAeDvjyqeDDuaZZycMiaQZrbr0',\n   'id': {'kind': 'youtube#video', 'videoId': 'rt-2cxAiPJk'},\n   'snippet': {'publishedAt': '2021-08-24T01:40:05Z',\n    'channelId': 'UCz97F7dMxBNOfGYu3rx8aCw',\n    'title': 'SPIDER-MAN: NO WAY HOME - Official Teaser Trailer (HD)',\n    'description': 'What just happened? Watch the official teaser trailer for #SpiderManNoWayHome, exclusively in movie theaters December 17.',\n    'thumbnails': {'default': {'url': 'https://i.ytimg.com/vi/rt-2cxAiPJk/default.jpg',\n      'width': 120,\n      'height': 90},\n     'medium': {'url': 'https://i.ytimg.com/vi/rt-2cxAiPJk/mqdefault.jpg',\n      'width': 320,\n      'height': 180},\n     'high': {'url': 'https://i.ytimg.com/vi/rt-2cxAiPJk/hqdefault.jpg',\n      'width': 480,\n      'height': 360}},\n    'channelTitle': 'Sony Pictures Entertainment',\n    'liveBroadcastContent': 'none',\n    'publishTime': '2021-08-24T01:40:05Z'}},\n  {'kind': 'youtube#searchResult',\n   'etag': 'h9NusThdyAys_S1oz356iJL790g',\n   'id': {'kind': 'youtube#video', 'videoId': 'KzAU5X6dMsY'},\n   'snippet': {'publishedAt': '2022-01-31T11:09:25Z',\n    'channelId': 'UCy7yFCYJGZeFctd6_jOifJg',\n    'title': 'DIY lollipop egg Superheroes Spider man, Hulk, Captain America with clay 🧟 Polymer Clay Tutorial',\n    'description': 'DIY lollipop egg Superheroes Spider man, Hulk, Captain America with clay Polymer Clay Tutorial ----------------- 00:00 01.',\n    'thumbnails': {'default': {'url': 'https://i.ytimg.com/vi/KzAU5X6dMsY/default.jpg',\n      'width': 120,\n      'height': 90},\n     'medium': {'url': 'https://i.ytimg.com/vi/KzAU5X6dMsY/mqdefault.jpg',\n      'width': 320,\n      'height': 180},\n     'high': {'url': 'https://i.ytimg.com/vi/KzAU5X6dMsY/hqdefault.jpg',\n      'width': 480,\n      'height': 360}},\n    'channelTitle': 'Sky Clay',\n    'liveBroadcastContent': 'none',\n    'publishTime': '2022-01-31T11:09:25Z'}},\n  {'kind': 'youtube#searchResult',\n   'etag': 'EfsC4dKiCGz-kbSabd7k7vrqVCs',\n   'id': {'kind': 'youtube#video', 'videoId': 'X9k_NN2jffI'},\n   'snippet': {'publishedAt': '2022-02-01T14:00:10Z',\n    'channelId': 'UCdtXPiqI2cLorKaPrfpKc4g',\n    'title': 'Andrew Garfield&#39;s SURPRISING &#39;Spider-Man&#39; Confession',\n    'description': \"During 'Variety's 'Actors on Actors' segment, Andrew Garfield makes a candid confession to 'West Side Story's Rachel Zegler ...\",\n    'thumbnails': {'default': {'url': 'https://i.ytimg.com/vi/X9k_NN2jffI/default.jpg',\n      'width': 120,\n      'height': 90},\n     'medium': {'url': 'https://i.ytimg.com/vi/X9k_NN2jffI/mqdefault.jpg',\n      'width': 320,\n      'height': 180},\n     'high': {'url': 'https://i.ytimg.com/vi/X9k_NN2jffI/hqdefault.jpg',\n      'width': 480,\n      'height': 360}},\n    'channelTitle': 'Entertainment Tonight',\n    'liveBroadcastContent': 'none',\n    'publishTime': '2022-02-01T14:00:10Z'}},\n  {'kind': 'youtube#searchResult',\n   'etag': 'QJ6fSn0rnUXrfCpTKG-Z1GJY8Ls',\n   'id': {'kind': 'youtube#video', 'videoId': 'SrU0YQlHi58'},\n   'snippet': {'publishedAt': '2022-02-01T12:45:01Z',\n    'channelId': 'UCtXXTHvX5FyQkduUTxvOZzw',\n    'title': 'SPIDER-MAN TROLLS BOTH SPIDER-MAN 🤣',\n    'description': 'SPIDER-MAN TROLLS SPIDER-MAN #youtubeshorts #shorts #fortnite #competitivefortnite #chapter3 CREATOR CODE: aid to ...',\n    'thumbnails': {'default': {'url': 'https://i.ytimg.com/vi/SrU0YQlHi58/default.jpg',\n      'width': 120,\n      'height': 90},\n     'medium': {'url': 'https://i.ytimg.com/vi/SrU0YQlHi58/mqdefault.jpg',\n      'width': 320,\n      'height': 180},\n     'high': {'url': 'https://i.ytimg.com/vi/SrU0YQlHi58/hqdefault.jpg',\n      'width': 480,\n      'height': 360}},\n    'channelTitle': 'aid',\n    'liveBroadcastContent': 'none',\n    'publishTime': '2022-02-01T12:45:01Z'}},\n  {'kind': 'youtube#searchResult',\n   'etag': '_xfyHE7Jk-CEb2WOxqB2tutRi_E',\n   'id': {'kind': 'youtube#video', 'videoId': 'EWOwnQRfy7E'},\n   'snippet': {'publishedAt': '2018-09-28T17:31:29Z',\n    'channelId': 'UCD-NZ6Gm9jk1MvjVLRT1NOw',\n    'title': 'SPIDER-MAN RAP - Tu amigo y vecino | Keyblade',\n    'description': 'Escucha este tema y más en Spotify: https://spoti.fi/2JTQXfP Sígueme en Twitter: https://www.twitter.com/KeybladeRap Dale \"Me ...',\n    'thumbnails': {'default': {'url': 'https://i.ytimg.com/vi/EWOwnQRfy7E/default.jpg',\n      'width': 120,\n      'height': 90},\n     'medium': {'url': 'https://i.ytimg.com/vi/EWOwnQRfy7E/mqdefault.jpg',\n      'width': 320,\n      'height': 180},\n     'high': {'url': 'https://i.ytimg.com/vi/EWOwnQRfy7E/hqdefault.jpg',\n      'width': 480,\n      'height': 360}},\n    'channelTitle': 'Keyblade',\n    'liveBroadcastContent': 'none',\n    'publishTime': '2018-09-28T17:31:29Z'}},\n  {'kind': 'youtube#searchResult',\n   'etag': '8D8HPf4NkNi84rTR32LUylKk0X0',\n   'id': {'kind': 'youtube#video', 'videoId': 'SkmRT3M4Vx4'},\n   'snippet': {'publishedAt': '2021-11-17T06:57:36Z',\n    'channelId': 'UCdtdjXU0tf6fcuZhUoKN3Nw',\n    'title': 'SPIDER-MAN: NO WAY HOME. Tráiler Oficial HD en español. Ya en cines.',\n    'description': 'Por primera vez en la historia cinematográfica de Spider-Man, la identidad de nuestro héroe, vecino y amigo es revelada, ...',\n    'thumbnails': {'default': {'url': 'https://i.ytimg.com/vi/SkmRT3M4Vx4/default.jpg',\n      'width': 120,\n      'height': 90},\n     'medium': {'url': 'https://i.ytimg.com/vi/SkmRT3M4Vx4/mqdefault.jpg',\n      'width': 320,\n      'height': 180},\n     'high': {'url': 'https://i.ytimg.com/vi/SkmRT3M4Vx4/hqdefault.jpg',\n      'width': 480,\n      'height': 360}},\n    'channelTitle': 'Sony Pictures España',\n    'liveBroadcastContent': 'none',\n    'publishTime': '2021-11-17T06:57:36Z'}},\n  {'kind': 'youtube#searchResult',\n   'etag': 'mIoZeYyWlpOV9PqtXLIv_2tO_Cw',\n   'id': {'kind': 'youtube#video', 'videoId': 'WgU7P6o-GkM'},\n   'snippet': {'publishedAt': '2021-08-24T01:40:05Z',\n    'channelId': 'UCvC4D8onUfXzvjTOM-dBfEA',\n    'title': 'SPIDER-MAN: NO WAY HOME - Official Teaser Trailer',\n    'description': 'What just happened? Watch the official teaser trailer for #SpiderManNoWayHome, exclusively in movie theaters December 17.',\n    'thumbnails': {'default': {'url': 'https://i.ytimg.com/vi/WgU7P6o-GkM/default.jpg',\n      'width': 120,\n      'height': 90},\n     'medium': {'url': 'https://i.ytimg.com/vi/WgU7P6o-GkM/mqdefault.jpg',\n      'width': 320,\n      'height': 180},\n     'high': {'url': 'https://i.ytimg.com/vi/WgU7P6o-GkM/hqdefault.jpg',\n      'width': 480,\n      'height': 360}},\n    'channelTitle': 'Marvel Entertainment',\n    'liveBroadcastContent': 'none',\n    'publishTime': '2021-08-24T01:40:05Z'}},\n  {'kind': 'youtube#searchResult',\n   'etag': 'Ekf3gXc4b8jESYFO1tlFAi7fx30',\n   'id': {'kind': 'youtube#video', 'videoId': 'szhTAJCKbLw'},\n   'snippet': {'publishedAt': '2022-02-01T16:07:16Z',\n    'channelId': 'UCOL10n-as9dXO2qtjjFUQbQ',\n    'title': 'Peters Identität wird aufgedeckt - SPIDER-MAN: No Way Home Clip &amp; Trailer German Deutsch (2021)',\n    'description': 'Offizieller \"Spider-Man: No Way Home\" Clip & Trailer Deutsch German 2021 | Abonnieren ➤ https://abo.yt/kc | (OT: Spider-Man: No ...',\n    'thumbnails': {'default': {'url': 'https://i.ytimg.com/vi/szhTAJCKbLw/default.jpg',\n      'width': 120,\n      'height': 90},\n     'medium': {'url': 'https://i.ytimg.com/vi/szhTAJCKbLw/mqdefault.jpg',\n      'width': 320,\n      'height': 180},\n     'high': {'url': 'https://i.ytimg.com/vi/szhTAJCKbLw/hqdefault.jpg',\n      'width': 480,\n      'height': 360}},\n    'channelTitle': 'KinoCheck',\n    'liveBroadcastContent': 'none',\n    'publishTime': '2022-02-01T16:07:16Z'}},\n  {'kind': 'youtube#searchResult',\n   'etag': 'gFWGJOkErJz6iwX_XaTUGU3D_TQ',\n   'id': {'kind': 'youtube#video', 'videoId': 'BbXJ3_AQE_o'},\n   'snippet': {'publishedAt': '2021-12-05T00:46:56Z',\n    'channelId': 'UCz97F7dMxBNOfGYu3rx8aCw',\n    'title': 'SPIDER-MAN: ACROSS THE SPIDER-VERSE (PART ONE) – First Look',\n    'description': \"Miles Morales' story and the #SpiderVerse web expands. Take a first look at Spider-Man: Across the Spider-Verse (Part One).\",\n    'thumbnails': {'default': {'url': 'https://i.ytimg.com/vi/BbXJ3_AQE_o/default.jpg',\n      'width': 120,\n      'height': 90},\n     'medium': {'url': 'https://i.ytimg.com/vi/BbXJ3_AQE_o/mqdefault.jpg',\n      'width': 320,\n      'height': 180},\n     'high': {'url': 'https://i.ytimg.com/vi/BbXJ3_AQE_o/hqdefault.jpg',\n      'width': 480,\n      'height': 360}},\n    'channelTitle': 'Sony Pictures Entertainment',\n    'liveBroadcastContent': 'none',\n    'publishTime': '2021-12-05T00:46:56Z'}}]}"
     },
     "execution_count": 13,
     "metadata": {},
     "output_type": "execute_result"
    }
   ],
   "source": [
    "response"
   ],
   "metadata": {
    "collapsed": false,
    "pycharm": {
     "name": "#%%\n"
    }
   }
  },
  {
   "cell_type": "markdown",
   "source": [
    "Como podemos ver, la respuesta es tipo `JSON`,\n",
    "que contiene metadata, además de la lista de resultados\n",
    "que se ajustan a nuestra búsqueda. Dichos resultados están\n",
    "bajo la `key` \"items\", y por tanto podemos consultarlos\n",
    "como sigue:"
   ],
   "metadata": {
    "collapsed": false,
    "pycharm": {
     "name": "#%% md\n"
    }
   }
  },
  {
   "cell_type": "code",
   "execution_count": 16,
   "outputs": [
    {
     "name": "stdout",
     "output_type": "stream",
     "text": [
      "Search results = 10\n",
      "First result = {'kind': 'youtube#searchResult', 'etag': 'FgXNnnU4h0h3sjcNo30jwVVXySk', 'id': {'kind': 'youtube#video', 'videoId': 'JfVOs4VSpmA'}, 'snippet': {'publishedAt': '2021-11-17T01:30:05Z', 'channelId': 'UCz97F7dMxBNOfGYu3rx8aCw', 'title': 'SPIDER-MAN: NO WAY HOME - Official Trailer (HD)', 'description': 'We started getting visitors… from every universe. Watch the official trailer for #SpiderManNoWayHome, exclusively in movie ...', 'thumbnails': {'default': {'url': 'https://i.ytimg.com/vi/JfVOs4VSpmA/default.jpg', 'width': 120, 'height': 90}, 'medium': {'url': 'https://i.ytimg.com/vi/JfVOs4VSpmA/mqdefault.jpg', 'width': 320, 'height': 180}, 'high': {'url': 'https://i.ytimg.com/vi/JfVOs4VSpmA/hqdefault.jpg', 'width': 480, 'height': 360}}, 'channelTitle': 'Sony Pictures Entertainment', 'liveBroadcastContent': 'none', 'publishTime': '2021-11-17T01:30:05Z'}}\n"
     ]
    }
   ],
   "source": [
    "print(f\"Search results = {len(response['items'])}\")\n",
    "print(f\"First result = {response['items'][0]}\")"
   ],
   "metadata": {
    "collapsed": false,
    "pycharm": {
     "name": "#%%\n"
    }
   }
  },
  {
   "cell_type": "markdown",
   "source": [
    "De la inspección del primer resultado vemos que \"snippet\" contiene\n",
    "los datos asociados al vídeo encontrado, como por ejemplo:"
   ],
   "metadata": {
    "collapsed": false,
    "pycharm": {
     "name": "#%% md\n"
    }
   }
  },
  {
   "cell_type": "code",
   "execution_count": 18,
   "outputs": [
    {
     "name": "stdout",
     "output_type": "stream",
     "text": [
      "{'kind': 'youtube#video', 'videoId': 'JfVOs4VSpmA'}\n"
     ]
    },
    {
     "data": {
      "text/plain": "{'publishedAt': '2021-11-17T01:30:05Z',\n 'channelId': 'UCz97F7dMxBNOfGYu3rx8aCw',\n 'title': 'SPIDER-MAN: NO WAY HOME - Official Trailer (HD)',\n 'description': 'We started getting visitors… from every universe. Watch the official trailer for #SpiderManNoWayHome, exclusively in movie ...',\n 'thumbnails': {'default': {'url': 'https://i.ytimg.com/vi/JfVOs4VSpmA/default.jpg',\n   'width': 120,\n   'height': 90},\n  'medium': {'url': 'https://i.ytimg.com/vi/JfVOs4VSpmA/mqdefault.jpg',\n   'width': 320,\n   'height': 180},\n  'high': {'url': 'https://i.ytimg.com/vi/JfVOs4VSpmA/hqdefault.jpg',\n   'width': 480,\n   'height': 360}},\n 'channelTitle': 'Sony Pictures Entertainment',\n 'liveBroadcastContent': 'none',\n 'publishTime': '2021-11-17T01:30:05Z'}"
     },
     "execution_count": 18,
     "metadata": {},
     "output_type": "execute_result"
    }
   ],
   "source": [
    "print(response[\"items\"][0][\"id\"])\n",
    "response[\"items\"][0][\"snippet\"]"
   ],
   "metadata": {
    "collapsed": false,
    "pycharm": {
     "name": "#%%\n"
    }
   }
  },
  {
   "cell_type": "markdown",
   "source": [
    "Ahora que tenemos el ID de los vídeos que hemos buscado\n",
    "y sus características (a partir de la info en \"snippet\")\n",
    "podemos proceder a bajarnos la información referente a un\n",
    "vídeo en particular. Tomando el ID del ejemplo anterior:\n"
   ],
   "metadata": {
    "collapsed": false,
    "pycharm": {
     "name": "#%% md\n"
    }
   }
  },
  {
   "cell_type": "code",
   "execution_count": 19,
   "outputs": [],
   "source": [
    "video_id = response[\"items\"][0][\"id\"][\"videoId\"]"
   ],
   "metadata": {
    "collapsed": false,
    "pycharm": {
     "name": "#%%\n"
    }
   }
  },
  {
   "cell_type": "code",
   "execution_count": 26,
   "outputs": [],
   "source": [
    "request = youtube.videos().list(\n",
    "    id=video_id,\n",
    "    part=\"id,statistics,snippet\",\n",
    ")"
   ],
   "metadata": {
    "collapsed": false,
    "pycharm": {
     "name": "#%%\n"
    }
   }
  },
  {
   "cell_type": "code",
   "execution_count": 27,
   "outputs": [],
   "source": [
    "response = request.execute()"
   ],
   "metadata": {
    "collapsed": false,
    "pycharm": {
     "name": "#%%\n"
    }
   }
  },
  {
   "cell_type": "code",
   "execution_count": 28,
   "outputs": [
    {
     "data": {
      "text/plain": "{'kind': 'youtube#videoListResponse',\n 'etag': 'xbsSwl9oYGzcnW8uYPlG00ikACw',\n 'items': [{'kind': 'youtube#video',\n   'etag': 'lxV_MedoYuDdlwUKBxGZYxPE0Rk',\n   'id': 'JfVOs4VSpmA',\n   'snippet': {'publishedAt': '2021-11-17T01:30:05Z',\n    'channelId': 'UCz97F7dMxBNOfGYu3rx8aCw',\n    'title': 'SPIDER-MAN: NO WAY HOME - Official Trailer (HD)',\n    'description': \"We started getting visitors… from every universe. Watch the official trailer for #SpiderManNoWayHome, exclusively in movie theaters December 17. \\nTickets on sale C̶y̶b̶e̶r̶ Spider-Monday, November 29.\\n\\nSubscribe to the Spider-Man Movie YouTube Channel for more exclusive content: http://bit.ly/SpiderManSubscribe\\n\\nVisit our site: \\nhttps://www.SpiderManNoWayHome.Movie\\n\\nFollow Us on Social:\\nhttps://www.facebook.com/SpiderManMovie\\nhttps://www.instagram.com/SpiderManMovie\\nhttps://www.twitter.com/SpiderManMovie\\nhttps://www.tiktok.com/@SpiderManMovie \\nhttps://www.youtube.com/SpiderMan\\n\\nFor the first time in the cinematic history of Spider-Man, our friendly neighborhood hero's identity is revealed, bringing his Super Hero responsibilities into conflict with his normal life and putting those he cares about most at risk. When he enlists Doctor Strange’s help to restore his secret, the spell tears a hole in their world, releasing the most powerful villains who’ve ever fought a Spider-Man in any universe. Now, Peter will have to overcome his greatest challenge yet, which will not only forever alter his own future but the future of the Multiverse.\\n\\nDirected by: \\nJon Watts\\n\\nWritten by: \\nChris McKenna & Erik Sommers\\n\\nBased on the MARVEL Comic Book by: \\nStan Lee and Steve Ditko\\n\\nProduced by:\\nKevin Feige\\nAmy Pascal\\n\\n\\u200b\\u200bExecutive Producers: \\nLouis D'Esposito\\nVictoria Alonso\\nJoAnn Perritano\\nRachel O’Connor\\nAvi Arad\\nMatt Tolmach\\n \\nCast:\\nTom Holland\\nZendaya\\nBenedict Cumberbatch\\nJacob Batalon\\nJon Favreau\\nwith Marisa Tomei\\n \\n#OfficialTrailer #Sony #Trailer #SonyPictures #SpiderMan #NoWayHome #DoctorStrange #TomHolland #Zendaya #BenedictCumberbatch #JacobBatalon #JonFavreau #MarisaTomei #JonWatts #Marvel #MarvelStudios #GreenGoblin #DocOck #DoctorOctopus #Electro\",\n    'thumbnails': {'default': {'url': 'https://i.ytimg.com/vi/JfVOs4VSpmA/default.jpg',\n      'width': 120,\n      'height': 90},\n     'medium': {'url': 'https://i.ytimg.com/vi/JfVOs4VSpmA/mqdefault.jpg',\n      'width': 320,\n      'height': 180},\n     'high': {'url': 'https://i.ytimg.com/vi/JfVOs4VSpmA/hqdefault.jpg',\n      'width': 480,\n      'height': 360},\n     'standard': {'url': 'https://i.ytimg.com/vi/JfVOs4VSpmA/sddefault.jpg',\n      'width': 640,\n      'height': 480},\n     'maxres': {'url': 'https://i.ytimg.com/vi/JfVOs4VSpmA/maxresdefault.jpg',\n      'width': 1280,\n      'height': 720}},\n    'channelTitle': 'Sony Pictures Entertainment',\n    'tags': ['spider-man',\n     'spider-man no way home',\n     'spider-man no way home hd',\n     'spider-man no way home trailer',\n     'spiderman no way home trailer',\n     'spiderman trailer',\n     'new spiderman trailer',\n     'no way home trailer',\n     'no way home',\n     'spiderman',\n     'spiderman no way home official trailer',\n     'official trailer',\n     'international trailer',\n     'spider-man trailer premiere',\n     'sony',\n     'sony pictures',\n     'tom holland no way home',\n     'zendaya',\n     'zendaya no way home',\n     'tom holland',\n     'doctor strange spiderman',\n     '#nowayhome'],\n    'categoryId': '24',\n    'liveBroadcastContent': 'none',\n    'localized': {'title': 'SPIDER-MAN: NO WAY HOME - Official Trailer (HD)',\n     'description': \"We started getting visitors… from every universe. Watch the official trailer for #SpiderManNoWayHome, exclusively in movie theaters December 17. \\nTickets on sale C̶y̶b̶e̶r̶ Spider-Monday, November 29.\\n\\nSubscribe to the Spider-Man Movie YouTube Channel for more exclusive content: http://bit.ly/SpiderManSubscribe\\n\\nVisit our site: \\nhttps://www.SpiderManNoWayHome.Movie\\n\\nFollow Us on Social:\\nhttps://www.facebook.com/SpiderManMovie\\nhttps://www.instagram.com/SpiderManMovie\\nhttps://www.twitter.com/SpiderManMovie\\nhttps://www.tiktok.com/@SpiderManMovie \\nhttps://www.youtube.com/SpiderMan\\n\\nFor the first time in the cinematic history of Spider-Man, our friendly neighborhood hero's identity is revealed, bringing his Super Hero responsibilities into conflict with his normal life and putting those he cares about most at risk. When he enlists Doctor Strange’s help to restore his secret, the spell tears a hole in their world, releasing the most powerful villains who’ve ever fought a Spider-Man in any universe. Now, Peter will have to overcome his greatest challenge yet, which will not only forever alter his own future but the future of the Multiverse.\\n\\nDirected by: \\nJon Watts\\n\\nWritten by: \\nChris McKenna & Erik Sommers\\n\\nBased on the MARVEL Comic Book by: \\nStan Lee and Steve Ditko\\n\\nProduced by:\\nKevin Feige\\nAmy Pascal\\n\\n\\u200b\\u200bExecutive Producers: \\nLouis D'Esposito\\nVictoria Alonso\\nJoAnn Perritano\\nRachel O’Connor\\nAvi Arad\\nMatt Tolmach\\n \\nCast:\\nTom Holland\\nZendaya\\nBenedict Cumberbatch\\nJacob Batalon\\nJon Favreau\\nwith Marisa Tomei\\n \\n#OfficialTrailer #Sony #Trailer #SonyPictures #SpiderMan #NoWayHome #DoctorStrange #TomHolland #Zendaya #BenedictCumberbatch #JacobBatalon #JonFavreau #MarisaTomei #JonWatts #Marvel #MarvelStudios #GreenGoblin #DocOck #DoctorOctopus #Electro\"},\n    'defaultAudioLanguage': 'en'},\n   'statistics': {'viewCount': '71166552',\n    'likeCount': '2896583',\n    'favoriteCount': '0',\n    'commentCount': '180999'}}],\n 'pageInfo': {'totalResults': 1, 'resultsPerPage': 1}}"
     },
     "execution_count": 28,
     "metadata": {},
     "output_type": "execute_result"
    }
   ],
   "source": [
    "response"
   ],
   "metadata": {
    "collapsed": false,
    "pycharm": {
     "name": "#%%\n"
    }
   }
  },
  {
   "cell_type": "markdown",
   "source": [
    "Explorando la respuesta podemos ver rápiamente\n",
    "sus estadísticas, en cuanto a *likes*, etc:"
   ],
   "metadata": {
    "collapsed": false,
    "pycharm": {
     "name": "#%% md\n"
    }
   }
  },
  {
   "cell_type": "code",
   "execution_count": 34,
   "outputs": [
    {
     "data": {
      "text/plain": "{'viewCount': '71166552',\n 'likeCount': '2896583',\n 'favoriteCount': '0',\n 'commentCount': '180999'}"
     },
     "execution_count": 34,
     "metadata": {},
     "output_type": "execute_result"
    }
   ],
   "source": [
    "video_data = response[\"items\"][0]\n",
    "video_data[\"statistics\"]"
   ],
   "metadata": {
    "collapsed": false,
    "pycharm": {
     "name": "#%%\n"
    }
   }
  },
  {
   "cell_type": "markdown",
   "source": [
    "Además de las estadísticas a nivel genérico, podríamos estar\n",
    "interesados en conocer los comentarios que se están haciendo.\n",
    "Para ello podemos hacer:"
   ],
   "metadata": {
    "collapsed": false,
    "pycharm": {
     "name": "#%% md\n"
    }
   }
  },
  {
   "cell_type": "code",
   "execution_count": 35,
   "outputs": [],
   "source": [
    "token = None\n",
    "comments = []\n",
    "for i in range(1,10):\n",
    "    try:\n",
    "        request = youtube.commentThreads().list(\n",
    "            part=\"snippet\",\n",
    "            videoId=video_id,\n",
    "            order=\"relevance\",\n",
    "            pageToken=token,\n",
    "            maxResults=100,\n",
    "        ).execute()\n",
    "        token = request[\"nextPageToken\"]\n",
    "        comments += request[\"items\"]\n",
    "    except:\n",
    "        print(\"No more comments...\")"
   ],
   "metadata": {
    "collapsed": false,
    "pycharm": {
     "name": "#%%\n"
    }
   }
  },
  {
   "cell_type": "code",
   "execution_count": 37,
   "outputs": [
    {
     "name": "stdout",
     "output_type": "stream",
     "text": [
      "Hemos conseguido: 899 comentarios\n"
     ]
    }
   ],
   "source": [
    "print(f\"Hemos conseguido: {len(comments)} comentarios\")"
   ],
   "metadata": {
    "collapsed": false,
    "pycharm": {
     "name": "#%%\n"
    }
   }
  },
  {
   "cell_type": "markdown",
   "source": [
    "Ejemplo de uno de los comentarios:"
   ],
   "metadata": {
    "collapsed": false,
    "pycharm": {
     "name": "#%% md\n"
    }
   }
  },
  {
   "cell_type": "code",
   "execution_count": 57,
   "outputs": [
    {
     "name": "stdout",
     "output_type": "stream",
     "text": [
      "Comentario:\n",
      "autor -> Holden Hardman\n",
      "autor channel-id -> UCv7Qg64T82OH-EkC8t9FQbA\n",
      "texto -> I haven't been this excited for a movie in such a long time. I'm so ready for this!\n",
      "likes -> 41748\n"
     ]
    }
   ],
   "source": [
    "comment = comments[0][\"snippet\"]\n",
    "\n",
    "print(f'Comentario:\\n'\n",
    "      f'autor -> {comment[\"topLevelComment\"][\"snippet\"][\"authorDisplayName\"]}\\n'\n",
    "      f'autor channel-id -> {comment[\"topLevelComment\"][\"snippet\"][\"authorChannelId\"][\"value\"]}\\n'\n",
    "      f'texto -> {comment[\"topLevelComment\"][\"snippet\"][\"textOriginal\"]}\\n'\n",
    "      f'likes -> {comment[\"topLevelComment\"][\"snippet\"][\"likeCount\"]}')"
   ],
   "metadata": {
    "collapsed": false,
    "pycharm": {
     "name": "#%%\n"
    }
   }
  },
  {
   "cell_type": "markdown",
   "source": [
    "Se puede comprobar fácilmente que no solo tenemos el texto del\n",
    "comentario, sino también métricas sobre cómo éste está siendo recibido\n",
    "por el público. Además, podemos identificar el usuario que ha publicado\n",
    "dicho comentario, así como su canal. Esto nos sirve para hacer un rastreo que\n",
    "nos informe de la popularidad de dicho canal, etc. Para ello, vamos a usar\n",
    "el ejemplo de arriba:"
   ],
   "metadata": {
    "collapsed": false,
    "pycharm": {
     "name": "#%% md\n"
    }
   }
  },
  {
   "cell_type": "code",
   "execution_count": 61,
   "outputs": [],
   "source": [
    "channel_id = comment[\"topLevelComment\"][\"snippet\"][\"authorChannelId\"][\"value\"]\n",
    "request = youtube.channels().list(\n",
    "    id=channel_id,\n",
    "    part=\"id,snippet,statistics\",\n",
    ")\n",
    "\n",
    "response = request.execute()"
   ],
   "metadata": {
    "collapsed": false,
    "pycharm": {
     "name": "#%%\n"
    }
   }
  },
  {
   "cell_type": "code",
   "execution_count": 65,
   "outputs": [
    {
     "data": {
      "text/plain": "{'viewCount': '54981640',\n 'subscriberCount': '228000',\n 'hiddenSubscriberCount': False,\n 'videoCount': '785'}"
     },
     "execution_count": 65,
     "metadata": {},
     "output_type": "execute_result"
    }
   ],
   "source": [
    "response[\"items\"][0][\"statistics\"]"
   ],
   "metadata": {
    "collapsed": false,
    "pycharm": {
     "name": "#%%\n"
    }
   }
  },
  {
   "cell_type": "markdown",
   "source": [
    "O podemos hacer lo mismo, pero para una serie de canales:\n"
   ],
   "metadata": {
    "collapsed": false,
    "pycharm": {
     "name": "#%% md\n"
    }
   }
  },
  {
   "cell_type": "code",
   "execution_count": 66,
   "outputs": [
    {
     "name": "stdout",
     "output_type": "stream",
     "text": [
      "user: elrubiusOMG => subscribers: 40400000\n",
      "user: VEGETTA777 => subscribers: 32900000\n",
      "No data found: Mikecrack\n",
      "user: AuronPlay => subscribers: 28900000\n",
      "user: TheWillyRex => subscribers: 18600000\n",
      "user: Makiman131 => subscribers: 14800000\n"
     ]
    }
   ],
   "source": [
    "YOUTUBERS = [\n",
    "    \"elrubiusOMG\",\n",
    "    \"VEGETTA777\",\n",
    "    \"Mikecrack\",\n",
    "    \"AuronPlay\",\n",
    "    \"TheWillyRex\",\n",
    "    \"Makiman131\",\n",
    "]\n",
    "\n",
    "channel_data = []\n",
    "for user_name in YOUTUBERS:\n",
    "    try:\n",
    "        data = youtube.channels().list(\n",
    "            part=\"id,snippet,statistics\",\n",
    "            forUsername=user_name,\n",
    "        ).execute()[\"items\"]\n",
    "        channel_data += data\n",
    "        print(f\"user: {user_name} => subscribers: {data[0]['statistics']['subscriberCount']}\")\n",
    "    except:\n",
    "        print(f\"No data found: {user_name}\")\n",
    "\n"
   ],
   "metadata": {
    "collapsed": false,
    "pycharm": {
     "name": "#%%\n"
    }
   }
  }
 ],
 "metadata": {
  "kernelspec": {
   "display_name": "Python 3 (ipykernel)",
   "language": "python",
   "name": "python3"
  },
  "language_info": {
   "codemirror_mode": {
    "name": "ipython",
    "version": 3
   },
   "file_extension": ".py",
   "mimetype": "text/x-python",
   "name": "python",
   "nbconvert_exporter": "python",
   "pygments_lexer": "ipython3",
   "version": "3.8.12"
  }
 },
 "nbformat": 4,
 "nbformat_minor": 5
}