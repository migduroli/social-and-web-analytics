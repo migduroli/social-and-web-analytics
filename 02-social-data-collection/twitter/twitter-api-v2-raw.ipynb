{
 "cells": [
  {
   "cell_type": "markdown",
   "id": "4981fc44",
   "metadata": {},
   "source": [
    "## Conexión a la API de Twitter\n",
    "\n",
    "Para la ejecución de este código se requiere tener el fichero `twitter_credentials.json`\n",
    "con los credenciales generados para la aplicación.\n",
    "\n",
    "Comenzaremos importando las librerías que nos harán falta a posteriori.\n",
    "El código aquí recogido en bloques también se puede encontrar como script de\n",
    "`Python` [aquí](_legacy/twitter_raw.py)."
   ]
  },
  {
   "cell_type": "code",
   "execution_count": 3,
   "outputs": [],
   "source": [
    "import json\n",
    "import requests\n",
    "\n",
    "from enum import Enum\n",
    "from typing import Union, Optional\n",
    "\n",
    "from authlib.integrations.requests_client import (\n",
    "    OAuth1Auth,\n",
    "    OAuth2Auth,\n",
    ")\n",
    "\n",
    "from urllib.parse import urlencode"
   ],
   "metadata": {
    "collapsed": false,
    "pycharm": {
     "name": "#%%\n"
    }
   }
  },
  {
   "cell_type": "markdown",
   "source": [
    "Ahora podemos guardat las URLs a las que atacaremos con `requests`, en\n",
    "concreto `https://api.twitter.com/2` es la URL base, a la cual le iremos\n",
    "añadiendo los diferentes *end-points* documentados en la\n",
    "[web oficial](https://developer.twitter.com/en/docs/twitter-api),\n",
    "además creamos una sesión permanente:"
   ],
   "metadata": {
    "collapsed": false,
    "pycharm": {
     "name": "#%% md\n"
    }
   }
  },
  {
   "cell_type": "code",
   "execution_count": 10,
   "outputs": [],
   "source": [
    "base_api_url_v2 = \"https://api.twitter.com/2\"\n",
    "tweets_url_v2 = f\"{base_api_url_v2}/tweets\"\n",
    "session = requests.session()"
   ],
   "metadata": {
    "collapsed": false,
    "pycharm": {
     "name": "#%%\n"
    }
   }
  },
  {
   "cell_type": "markdown",
   "source": [
    "A continuación procedemos con la creación del credencial OAuth que usaremos.\n",
    "Para ello definimos las siguientes funciones:"
   ],
   "metadata": {
    "collapsed": false,
    "pycharm": {
     "name": "#%% md\n"
    }
   }
  },
  {
   "cell_type": "code",
   "execution_count": 6,
   "outputs": [],
   "source": [
    "def load_credentials(file_path: str) -> dict:\n",
    "    \"\"\"Load credentials from json file\n",
    "    :param file_path: path to the JSON file where the credentials are securely stored\n",
    "    :return: Dict with the credential details with the following structure:\n",
    "        {\n",
    "          \"CONSUMER_KEY\": \"YOUR_APP_KEY\",\n",
    "          \"CONSUMER_SECRET\": \"YOUR_APP_SECRET_KEY\",\n",
    "          \"ACCESS_TOKEN\": \"YOUR_ACCESS_TOKEN\",\n",
    "          \"ACCESS_SECRET\": \"YOUR_ACCESS_SECRET_TOKEN\"\n",
    "        }\n",
    "    \"\"\"\n",
    "    with open(file_path, \"r\") as file:\n",
    "        creds = json.load(file)\n",
    "    return creds\n",
    "\n",
    "\n",
    "def get_app_auth(access_token: str) -> OAuth2Auth:\n",
    "    \"\"\"It instantiates an OAuth2Auth object given the credentials passed in `args`\n",
    "\n",
    "    :param access_token: The access token required\n",
    "\n",
    "    :return: OAuth2Auth object\n",
    "    \"\"\"\n",
    "    r = OAuth2Auth(\n",
    "        token={\n",
    "            \"access_token\": access_token,\n",
    "            \"token_type\": \"Bearer\"},\n",
    "    )\n",
    "    return r\n",
    "\n",
    "\n",
    "def get_user_auth(\n",
    "        consumer_key: str,\n",
    "        consumer_secret: str,\n",
    "        access_token: str,\n",
    "        access_secret: str,\n",
    ") -> OAuth1Auth:\n",
    "    \"\"\"It instantiates an OAuth1Auth object given the credentials passed in `args`\n",
    "\n",
    "    :param consumer_key: The API_KEY generated for our twitter app\n",
    "    :param consumer_secret: The API_SECRET generated for our twitter app\n",
    "    :param access_token: The ACCESS_TOKEN generated for our twitter app\n",
    "    :param access_secret: The ACCESS_SECRET generated for our twitter app\n",
    "\n",
    "    :return: OAuth1Auth object\n",
    "    \"\"\"\n",
    "    r = OAuth1Auth(\n",
    "        client_id=consumer_key,\n",
    "        client_secret=consumer_secret,\n",
    "        token=access_token,\n",
    "        token_secret=access_secret,\n",
    "    )\n",
    "    return r"
   ],
   "metadata": {
    "collapsed": false,
    "pycharm": {
     "name": "#%%\n"
    }
   }
  },
  {
   "cell_type": "code",
   "execution_count": 8,
   "outputs": [],
   "source": [
    "# credenciales:\n",
    "credentials = load_credentials(file_path=\"auth/twitter_credentials.json\")\n",
    "\n",
    "# app auth:\n",
    "app_auth = get_app_auth(access_token=credentials[\"BEARER_TOKEN\"])\n",
    "\n",
    "# user auth:\n",
    "user_auth = get_user_auth(\n",
    "    consumer_key=credentials[\"CONSUMER_KEY\"],\n",
    "    consumer_secret=credentials[\"CONSUMER_SECRET\"],\n",
    "    access_token=credentials[\"ACCESS_TOKEN\"],\n",
    "    access_secret=credentials[\"ACCESS_SECRET\"],\n",
    ")"
   ],
   "metadata": {
    "collapsed": false,
    "pycharm": {
     "name": "#%%\n"
    }
   }
  },
  {
   "cell_type": "markdown",
   "source": [
    "Una vez tenemos todos los ingredientes, podemos proceder con nuestra primera\n",
    "consulta. Por ejemplo, podemos pedir nuestro identificador de usuario:"
   ],
   "metadata": {
    "collapsed": false,
    "pycharm": {
     "name": "#%% md\n"
    }
   }
  },
  {
   "cell_type": "code",
   "execution_count": 15,
   "outputs": [
    {
     "name": "stdout",
     "output_type": "stream",
     "text": [
      "status code: 200\n",
      "result = {'data': {'id': '1480491463410700289', 'name': 'Miguel Duran', 'username': 'madolivencia'}}\n"
     ]
    }
   ],
   "source": [
    "user_name = \"madolivencia\"\n",
    "\n",
    "url = f\"{base_api_url_v2}/users/by/username/{user_name}\"\n",
    "\n",
    "result = session.get(\n",
    "    url=url,\n",
    "    auth=user_auth\n",
    ")\n",
    "print(f\"status code: {result.status_code}\")\n",
    "print(f\"result: {result.json()}\")"
   ],
   "metadata": {
    "collapsed": false,
    "pycharm": {
     "name": "#%%\n"
    }
   }
  },
  {
   "cell_type": "markdown",
   "source": [
    "Como puedes observar, el resultado de la petición indica que la petición ha\n",
    "sido procesada correctamente (`status_code = 200`) y que la respuesta correspondiente\n",
    "está encapsulada en un diccionario que contiene el `id`, `nombre` y `username`.\n",
    "Enhorabuena! Ya hemos hecho nuestra primera petición con éxito 🥳\n",
    "\n",
    "Ahora será interesante que te familiarices con algunos el [modelo de datos de\n",
    "Twitter](https://developer.twitter.com/en/docs/twitter-api/data-dictionary/introduction), así como los principales *end points* para extraer información.\n",
    "En el bloque siguiente puedes encontrar algunas definiciones que te pueden ser\n",
    "útil para seguir experimentando (consultar la [documentación](https://developer.twitter.com/en/docs/twitter-api)\n",
    "para entender como acceder a otros datos):"
   ],
   "metadata": {
    "collapsed": false,
    "pycharm": {
     "name": "#%% md\n"
    }
   }
  },
  {
   "cell_type": "code",
   "execution_count": 48,
   "outputs": [],
   "source": [
    "def get_tweets(ids: list, auth: Union[OAuth1Auth, OAuth2Auth]):\n",
    "    \"\"\"Gets tweets by their Ids\n",
    "\n",
    "    :param ids: List of Ids of the tweets to be retrieved\n",
    "    :param auth: OAuth object\n",
    "\n",
    "    :return: Dict with the results\n",
    "    \"\"\"\n",
    "    query = {\"ids\": \",\".join(ids)}\n",
    "    search = session.request(\n",
    "        url=f\"{tweets_url_v2}?{urlencode(query)}\",\n",
    "        method=\"GET\",\n",
    "        auth=auth,\n",
    "    ).json()\n",
    "    return search\n",
    "\n",
    "\n",
    "def search_tweets(query: dict, auth: Union[OAuth1Auth, OAuth2Auth]):\n",
    "    \"\"\"Searches tweets via query (how to: https://developer.twitter.com/en/docs/twitter-api/tweets/search/integrate/build-a-query#build)\n",
    "\n",
    "    :param query: Dict with all the arguments to build the query\n",
    "    :param auth: OAuth object\n",
    "\n",
    "    :return: Dict with the results\n",
    "    \"\"\"\n",
    "    search = session.request(\n",
    "        url=f\"{tweets_url_v2}/search/recent?{urlencode(query)}\",\n",
    "        method=\"GET\",\n",
    "        auth=auth,\n",
    "    ).json()\n",
    "    return search\n",
    "\n",
    "\n",
    "class TweetAction(Enum):\n",
    "    POST = 1\n",
    "    DELETE = 2\n",
    "\n",
    "\n",
    "def tweet(\n",
    "        action: TweetAction,\n",
    "        auth: OAuth1Auth,\n",
    "        id: Optional[str] = None,\n",
    "        data: Optional[dict] = None\n",
    "):\n",
    "    \"\"\"Posts or Deletes Tweet\n",
    "\n",
    "    :param action: TweetAction (either POST, or DELETE)\n",
    "    :param auth: OAuth object (has to be user_auth)\n",
    "    :param id: In case of delete, this is the tweet ID\n",
    "    :param data: In case of post, this is the dictionary {\"text\": \"tweet text\"}\n",
    "\n",
    "    :return: result\n",
    "    \"\"\"\n",
    "    url = f\"{tweets_url_v2}/{id}\" \\\n",
    "        if id and (action == TweetAction.DELETE) \\\n",
    "        else tweets_url_v2\n",
    "\n",
    "    r = session.request(\n",
    "        url=url,\n",
    "        method=action.name,\n",
    "        json=data,\n",
    "        auth=auth,\n",
    "    ).json()\n",
    "    return r\n",
    "\n",
    "\n",
    "def get_user_id(\n",
    "        user_name: str,\n",
    "        user_auth: OAuth1Auth,\n",
    "):\n",
    "    url = f\"{base_api_url_v2}/users/by/username/{user_name}\"\n",
    "    result = session.get(\n",
    "        url=url,\n",
    "        auth=user_auth\n",
    "    )\n",
    "\n",
    "    return result.json()[\"data\"][\"id\"]\n",
    "\n",
    "\n",
    "def get_user_followers(\n",
    "        user_id: str,\n",
    "        user_auth: OAuth1Auth,\n",
    "        max_results: None,\n",
    "):\n",
    "    url = f\"{base_api_url_v2}/users/{user_id}/followers\"\n",
    "\n",
    "    if max_results:\n",
    "        url += f'?{urlencode({\"max_results\": max_results})}'\n",
    "\n",
    "    result = session.get(\n",
    "        url=url,\n",
    "        auth=user_auth\n",
    "    )\n",
    "    return result.json()\n",
    "\n",
    "\n",
    "def get_user_info(query: dict, auth: Union[OAuth1Auth, OAuth2Auth]):\n",
    "    url = f\"{base_api_url_v2}/users?{urlencode(query)}\"\n",
    "    print(url)\n",
    "    search = session.request(\n",
    "        url=url,\n",
    "        method=\"GET\",\n",
    "        auth=auth,\n",
    "    ).json()\n",
    "    return search"
   ],
   "metadata": {
    "collapsed": false,
    "pycharm": {
     "name": "#%%\n"
    }
   }
  },
  {
   "cell_type": "markdown",
   "source": [
    "Ahora podemos, por ejemplo, buscar un Tweet por su ID:"
   ],
   "metadata": {
    "collapsed": false,
    "pycharm": {
     "name": "#%% md\n"
    }
   }
  },
  {
   "cell_type": "code",
   "execution_count": 49,
   "outputs": [
    {
     "data": {
      "text/plain": "{'data': [{'id': '1261326399320715264',\n   'text': 'Tune in to the @MongoDB @Twitch stream featuring our very own @suhemparack to learn about Twitter Developer Labs - starting now! https://t.co/fAWpYi3o5O'}]}"
     },
     "execution_count": 49,
     "metadata": {},
     "output_type": "execute_result"
    }
   ],
   "source": [
    "id_list = [\"1261326399320715264\"]\n",
    "tweets = get_tweets(ids=id_list, auth=app_auth)\n",
    "tweets"
   ],
   "metadata": {
    "collapsed": false,
    "pycharm": {
     "name": "#%%\n"
    }
   }
  },
  {
   "cell_type": "markdown",
   "source": [
    "O hacer búsquedas avanzadas por texto:"
   ],
   "metadata": {
    "collapsed": false,
    "pycharm": {
     "name": "#%% md\n"
    }
   }
  },
  {
   "cell_type": "code",
   "execution_count": 50,
   "outputs": [
    {
     "data": {
      "text/plain": "{'data': [{'public_metrics': {'retweet_count': 0,\n    'reply_count': 0,\n    'like_count': 0,\n    'quote_count': 0},\n   'id': '1488631698602397699',\n   'text': 'How you can learn Python with this 11 part series\\nhttps://t.co/kZSS7KNlYr #Microsoft',\n   'author_id': '1039406095976955905',\n   'lang': 'en'},\n  {'public_metrics': {'retweet_count': 3,\n    'reply_count': 0,\n    'like_count': 0,\n    'quote_count': 0},\n   'id': '1488631178131353602',\n   'text': 'RT @pythonbot_: Learn Python 3 the Hard Way: A Very Simple Introduction to the Terrifyingly Beautiful World of Computers and Code (Zed Shaw…',\n   'author_id': '2149288499',\n   'lang': 'en'},\n  {'public_metrics': {'retweet_count': 1,\n    'reply_count': 0,\n    'like_count': 0,\n    'quote_count': 0},\n   'id': '1488630182256603139',\n   'text': 'RT @EverythingMS: How you can learn Python with this 11 part series https://t.co/w3ZNFHKgRr',\n   'author_id': '1135684047500267520',\n   'lang': 'en'},\n  {'public_metrics': {'retweet_count': 0,\n    'reply_count': 0,\n    'like_count': 0,\n    'quote_count': 0},\n   'id': '1488628994102628355',\n   'text': 'How you can learn Python with this 11 part series https://t.co/RacC9YLjYe',\n   'author_id': '9093242',\n   'lang': 'en'},\n  {'public_metrics': {'retweet_count': 3,\n    'reply_count': 0,\n    'like_count': 0,\n    'quote_count': 0},\n   'id': '1488628885344423940',\n   'text': 'RT @pythonbot_: Learn Python 3 the Hard Way: A Very Simple Introduction to the Terrifyingly Beautiful World of Computers and Code (Zed Shaw…',\n   'author_id': '1283786502502219783',\n   'lang': 'en'},\n  {'public_metrics': {'retweet_count': 3,\n    'reply_count': 0,\n    'like_count': 0,\n    'quote_count': 0},\n   'id': '1488628833817448451',\n   'text': 'RT @pythonbot_: Learn Python 3 the Hard Way: A Very Simple Introduction to the Terrifyingly Beautiful World of Computers and Code (Zed Shaw…',\n   'author_id': '1170223448',\n   'lang': 'en'},\n  {'public_metrics': {'retweet_count': 3,\n    'reply_count': 0,\n    'like_count': 3,\n    'quote_count': 0},\n   'id': '1488628744323538945',\n   'text': \"Learn Python 3 the Hard Way: A Very Simple Introduction to the Terrifyingly Beautiful World of Computers and Code (Zed Shaw's Hard Way Series) https://t.co/4uTnU1S1T2  #Python #ad\",\n   'author_id': '726709023563747328',\n   'lang': 'en'},\n  {'public_metrics': {'retweet_count': 1,\n    'reply_count': 0,\n    'like_count': 1,\n    'quote_count': 0},\n   'id': '1488628357558267905',\n   'text': 'How you can learn Python with this 11 part series https://t.co/w3ZNFHKgRr',\n   'author_id': '20439140',\n   'lang': 'en'},\n  {'public_metrics': {'retweet_count': 512,\n    'reply_count': 0,\n    'like_count': 0,\n    'quote_count': 0},\n   'id': '1488626490623340545',\n   'text': 'RT @Kynsofficial: Easiest Programming languages to learn \\n\\nPython \\nRuby\\nJava\\nJavaScript\\nPHP\\n\\nEssential \\n\\nHTML\\nCSS\\n\\nPick both essential and…',\n   'author_id': '1161302895423315969',\n   'lang': 'en'},\n  {'public_metrics': {'retweet_count': 298,\n    'reply_count': 0,\n    'like_count': 0,\n    'quote_count': 0},\n   'id': '1488626397413199873',\n   'text': 'RT @Eng_khairallah1: Top 10 Github Repositories to Learn Python\\n\\n🧵 Small thread ↓',\n   'author_id': '924948169',\n   'lang': 'en'},\n  {'public_metrics': {'retweet_count': 512,\n    'reply_count': 0,\n    'like_count': 0,\n    'quote_count': 0},\n   'id': '1488625897821421569',\n   'text': 'RT @Kynsofficial: Easiest Programming languages to learn \\n\\nPython \\nRuby\\nJava\\nJavaScript\\nPHP\\n\\nEssential \\n\\nHTML\\nCSS\\n\\nPick both essential and…',\n   'author_id': '1281365658509414400',\n   'lang': 'en'},\n  {'public_metrics': {'retweet_count': 49,\n    'reply_count': 0,\n    'like_count': 0,\n    'quote_count': 0},\n   'id': '1488622337821921290',\n   'text': \"RT @CristiVlad25: 1000 free seats to learn Python from my perspective. I don't need anything in return.\\nCourse: https://t.co/8aysj9IMtJ\\nCod…\",\n   'author_id': '1404915007981248516',\n   'lang': 'en'},\n  {'public_metrics': {'retweet_count': 28,\n    'reply_count': 0,\n    'like_count': 0,\n    'quote_count': 0},\n   'id': '1488620424401498123',\n   'text': \"RT @micahgallen: Friends don't let friends waste time learning to code tasks in eprime or presentation. Just learn python and use psychopy…\",\n   'author_id': '222450055',\n   'lang': 'en'},\n  {'public_metrics': {'retweet_count': 0,\n    'reply_count': 0,\n    'like_count': 1,\n    'quote_count': 0},\n   'id': '1488619454317711362',\n   'text': 'Some good links on how to learn\\xa0Python https://t.co/vsZH8LXkie',\n   'author_id': '4922631',\n   'lang': 'en'},\n  {'public_metrics': {'retweet_count': 1,\n    'reply_count': 0,\n    'like_count': 0,\n    'quote_count': 0},\n   'id': '1488618243187216386',\n   'text': 'RT @DigitalAcademyy: 🐍In this entire Course, You will go through step-by-step Tutorials: Covering your Python Environment Setup, the Basic…',\n   'author_id': '603357971',\n   'lang': 'en'}],\n 'meta': {'newest_id': '1488631698602397699',\n  'oldest_id': '1488618243187216386',\n  'result_count': 15,\n  'next_token': 'b26v89c19zqg8o3fpe48hjo55xzl58tmuj6wgnyalggvx'}}"
     },
     "execution_count": 50,
     "metadata": {},
     "output_type": "execute_result"
    }
   ],
   "source": [
    "# Example of a more complex query:\n",
    "query_text = {\"query\": '\"learn python\" lang:en',\n",
    "              \"tweet.fields\": \"id,author_id,geo,lang,public_metrics\",\n",
    "              \"max_results\": 15}\n",
    "tweets = search_tweets(query=query_text, auth=app_auth)\n",
    "tweets"
   ],
   "metadata": {
    "collapsed": false,
    "pycharm": {
     "name": "#%%\n"
    }
   }
  },
  {
   "cell_type": "markdown",
   "source": [
    "Publicar un Tweet:"
   ],
   "metadata": {
    "collapsed": false,
    "pycharm": {
     "name": "#%% md\n"
    }
   }
  },
  {
   "cell_type": "code",
   "execution_count": 51,
   "outputs": [
    {
     "data": {
      "text/plain": "{'data': {'id': '1488632885364076550', 'text': 'hello world!'}}"
     },
     "execution_count": 51,
     "metadata": {},
     "output_type": "execute_result"
    }
   ],
   "source": [
    "tweet_post = {\"text\": \"hello world!\"}\n",
    "\n",
    "# create tweet:\n",
    "publish_response = tweet(\n",
    "    action=TweetAction.POST,\n",
    "    data=tweet_post,\n",
    "    auth=user_auth,\n",
    ")\n",
    "\n",
    "publish_response"
   ],
   "metadata": {
    "collapsed": false,
    "pycharm": {
     "name": "#%%\n"
    }
   }
  },
  {
   "cell_type": "markdown",
   "source": [
    "O borrarlo:"
   ],
   "metadata": {
    "collapsed": false,
    "pycharm": {
     "name": "#%% md\n"
    }
   }
  },
  {
   "cell_type": "code",
   "execution_count": 52,
   "outputs": [
    {
     "data": {
      "text/plain": "{'data': {'deleted': True}}"
     },
     "execution_count": 52,
     "metadata": {},
     "output_type": "execute_result"
    }
   ],
   "source": [
    "tweet_id = publish_response[\"data\"][\"id\"]\n",
    "delete_response = tweet(\n",
    "    action=TweetAction.DELETE,\n",
    "    id=tweet_id,\n",
    "    auth=user_auth,\n",
    ")\n",
    "delete_response"
   ],
   "metadata": {
    "collapsed": false,
    "pycharm": {
     "name": "#%%\n"
    }
   }
  },
  {
   "cell_type": "markdown",
   "source": [
    "También podemos extraer los *followers*"
   ],
   "metadata": {
    "collapsed": false,
    "pycharm": {
     "name": "#%% md\n"
    }
   }
  },
  {
   "cell_type": "code",
   "execution_count": 53,
   "outputs": [
    {
     "data": {
      "text/plain": "'344634424'"
     },
     "execution_count": 53,
     "metadata": {},
     "output_type": "execute_result"
    }
   ],
   "source": [
    "user_id = get_user_id(user_name=\"RafaelNadal\", user_auth=user_auth)\n",
    "user_id"
   ],
   "metadata": {
    "collapsed": false,
    "pycharm": {
     "name": "#%%\n"
    }
   }
  },
  {
   "cell_type": "code",
   "execution_count": 54,
   "outputs": [
    {
     "data": {
      "text/plain": "{'data': [{'id': '820097564', 'name': 'bethb', 'username': 'ekb979'},\n  {'id': '1488631190621986820', 'name': 'George Pap', 'username': 'papant08'},\n  {'id': '1488628566510215174', 'name': 'María', 'username': 'Mara068732332'},\n  {'id': '1488160200884428811',\n   'name': 'Cameron',\n   'username': 'CameronJames288'},\n  {'id': '1488631077350649861',\n   'name': 'Dragutin Ivančić',\n   'username': 'DragutinIvancic'},\n  {'id': '1403730572', 'name': 'Wes Wiseman', 'username': 'W3isme'},\n  {'id': '367130843', 'name': 'Tobias Mann', 'username': 'tobibrian'},\n  {'id': '1487913964910649347',\n   'name': 'Daniela Torres',\n   'username': 'torresdanielahn'},\n  {'id': '1464328159411720201',\n   'name': 'Jaime Gracia',\n   'username': '2jaimeles'},\n  {'id': '813350528', 'name': 'Mauricio Jacquet', 'username': 'mauricej76'},\n  {'id': '1480219223800659972',\n   'name': 'Ana maria Zambrana Arze',\n   'username': 'Annmary038'},\n  {'id': '1347213191181455365',\n   'name': 'Fernando Bartivas',\n   'username': 'FernandoBartiv1'},\n  {'id': '3370416617', 'name': 'glazeleqq', 'username': 'glazeleqqCSGO'},\n  {'id': '21811471', 'name': 'MG', 'username': 'Sopranos73'},\n  {'id': '1307866394', 'name': 'Tashy Manyere 🟡', 'username': 'TashyManyere'},\n  {'id': '921381596095303680', 'name': '💚', 'username': 'lordpsicologo'},\n  {'id': '358196914', 'name': 'stefan94s', 'username': 'StefanStanca'},\n  {'id': '4861417437', 'name': 'Keklik', 'username': 'kaklik_al'},\n  {'id': '249473750',\n   'name': 'Jesús J Ortega Weffe',\n   'username': 'jjortegaweffe'},\n  {'id': '460912579', 'name': 'Fabio Forti', 'username': 'FortiFabio'}],\n 'meta': {'result_count': 20, 'next_token': '2AU8J91BEJLHEZZZ'}}"
     },
     "execution_count": 54,
     "metadata": {},
     "output_type": "execute_result"
    }
   ],
   "source": [
    "followers = get_user_followers(user_id, user_auth, max_results=20)\n",
    "followers"
   ],
   "metadata": {
    "collapsed": false,
    "pycharm": {
     "name": "#%%\n"
    }
   }
  },
  {
   "cell_type": "code",
   "execution_count": 55,
   "outputs": [
    {
     "name": "stdout",
     "output_type": "stream",
     "text": [
      "https://api.twitter.com/2/users?ids=344634424&user.fields=id%2Cpublic_metrics%2Ccreated_at%2Cdescription%2Centities%2Clocation%2Cname%2Cpinned_tweet_id%2Cprofile_image_url%2Cprotected%2Curl%2Cusername%2Cverified%2Cwithheld\n"
     ]
    },
    {
     "data": {
      "text/plain": "{'data': [{'username': 'RafaelNadal',\n   'pinned_tweet_id': '1469694125238857728',\n   'verified': True,\n   'name': 'Rafa Nadal',\n   'id': '344634424',\n   'profile_image_url': 'https://pbs.twimg.com/profile_images/898280220037443585/mthp5TlW_normal.jpg',\n   'protected': False,\n   'location': 'Manacor',\n   'public_metrics': {'followers_count': 15673388,\n    'following_count': 136,\n    'tweet_count': 3127,\n    'listed_count': 22697},\n   'description': 'Tennis player',\n   'url': '',\n   'created_at': '2011-07-29T10:44:02.000Z'}]}"
     },
     "execution_count": 55,
     "metadata": {},
     "output_type": "execute_result"
    }
   ],
   "source": [
    "query_user = {\n",
    "    \"ids\": user_id,\n",
    "    \"user.fields\": \"id,public_metrics,created_at,description,entities,location,name,pinned_tweet_id,profile_image_url,protected,url,username,verified,withheld\"\n",
    "}\n",
    "\n",
    "user_profile = get_user_info(query_user, user_auth)\n",
    "user_profile\n"
   ],
   "metadata": {
    "collapsed": false,
    "pycharm": {
     "name": "#%%\n"
    }
   }
  }
 ],
 "metadata": {
  "kernelspec": {
   "display_name": "Python 3 (ipykernel)",
   "language": "python",
   "name": "python3"
  },
  "language_info": {
   "codemirror_mode": {
    "name": "ipython",
    "version": 3
   },
   "file_extension": ".py",
   "mimetype": "text/x-python",
   "name": "python",
   "nbconvert_exporter": "python",
   "pygments_lexer": "ipython3",
   "version": "3.8.12"
  }
 },
 "nbformat": 4,
 "nbformat_minor": 5
}