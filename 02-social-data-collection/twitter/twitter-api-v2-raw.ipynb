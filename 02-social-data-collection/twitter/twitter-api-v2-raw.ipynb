{
 "cells": [
  {
   "cell_type": "markdown",
   "id": "4981fc44",
   "metadata": {},
   "source": [
    "## Conexión a la API de Twitter\n",
    "\n",
    "Para la ejecución de este código se requiere tener el fichero con los credenciales\n",
    "generados para la aplicación en el fichero `twitter_credentials.json`.\n",
    "\n",
    "Comenzaremos importando las librerías que nos harán falta a posteriori.\n",
    "El código aquí recogido en bloques también se puede encontrar como script de\n",
    "`Python` [aquí](_legacy/twitter_raw.py)."
   ]
  },
  {
   "cell_type": "code",
   "execution_count": 3,
   "outputs": [],
   "source": [
    "import json\n",
    "import requests\n",
    "\n",
    "from enum import Enum\n",
    "from typing import Union, Optional\n",
    "\n",
    "from authlib.integrations.requests_client import (\n",
    "    OAuth1Auth,\n",
    "    OAuth2Auth,\n",
    ")\n",
    "\n",
    "from urllib.parse import urlencode"
   ],
   "metadata": {
    "collapsed": false,
    "pycharm": {
     "name": "#%%\n"
    }
   }
  },
  {
   "cell_type": "markdown",
   "source": [
    "Ahora podemos guardat las URLs a las que atacaremos con `requests`, en\n",
    "concreto `https://api.twitter.com/2` es la URL base, a la cual le iremos\n",
    "añadiendo los diferentes *end-points* documentados en la\n",
    "[web oficial](https://developer.twitter.com/en/docs/twitter-api),\n",
    "además creamos una sesión permanente:"
   ],
   "metadata": {
    "collapsed": false,
    "pycharm": {
     "name": "#%% md\n"
    }
   }
  },
  {
   "cell_type": "code",
   "execution_count": 10,
   "outputs": [],
   "source": [
    "base_api_url_v2 = \"https://api.twitter.com/2\"\n",
    "tweets_url_v2 = f\"{base_api_url_v2}/tweets\"\n",
    "session = requests.session()"
   ],
   "metadata": {
    "collapsed": false,
    "pycharm": {
     "name": "#%%\n"
    }
   }
  },
  {
   "cell_type": "markdown",
   "source": [
    "A continuación procedemos con la creación del credencial OAuth que usaremos.\n",
    "Para ello definimos las siguientes funciones:"
   ],
   "metadata": {
    "collapsed": false,
    "pycharm": {
     "name": "#%% md\n"
    }
   }
  },
  {
   "cell_type": "code",
   "execution_count": 6,
   "outputs": [],
   "source": [
    "def load_credentials(file_path: str) -> dict:\n",
    "    \"\"\"Load credentials from json file\n",
    "    :param file_path: path to the JSON file where the credentials are securely stored\n",
    "    :return: Dict with the credential details with the following structure:\n",
    "        {\n",
    "          \"CONSUMER_KEY\": \"YOUR_APP_KEY\",\n",
    "          \"CONSUMER_SECRET\": \"YOUR_APP_SECRET_KEY\",\n",
    "          \"ACCESS_TOKEN\": \"YOUR_ACCESS_TOKEN\",\n",
    "          \"ACCESS_SECRET\": \"YOUR_ACCESS_SECRET_TOKEN\"\n",
    "        }\n",
    "    \"\"\"\n",
    "    with open(file_path, \"r\") as file:\n",
    "        creds = json.load(file)\n",
    "    return creds\n",
    "\n",
    "\n",
    "def get_app_auth(access_token: str) -> OAuth2Auth:\n",
    "    \"\"\"It instantiates an OAuth2Auth object given the credentials passed in `args`\n",
    "\n",
    "    :param access_token: The access token required\n",
    "\n",
    "    :return: OAuth2Auth object\n",
    "    \"\"\"\n",
    "    r = OAuth2Auth(\n",
    "        token={\n",
    "            \"access_token\": access_token,\n",
    "            \"token_type\": \"Bearer\"},\n",
    "    )\n",
    "    return r\n",
    "\n",
    "\n",
    "def get_user_auth(\n",
    "        consumer_key: str,\n",
    "        consumer_secret: str,\n",
    "        access_token: str,\n",
    "        access_secret: str,\n",
    ") -> OAuth1Auth:\n",
    "    \"\"\"It instantiates an OAuth1Auth object given the credentials passed in `args`\n",
    "\n",
    "    :param consumer_key: The API_KEY generated for our twitter app\n",
    "    :param consumer_secret: The API_SECRET generated for our twitter app\n",
    "    :param access_token: The ACCESS_TOKEN generated for our twitter app\n",
    "    :param access_secret: The ACCESS_SECRET generated for our twitter app\n",
    "\n",
    "    :return: OAuth1Auth object\n",
    "    \"\"\"\n",
    "    r = OAuth1Auth(\n",
    "        client_id=consumer_key,\n",
    "        client_secret=consumer_secret,\n",
    "        token=access_token,\n",
    "        token_secret=access_secret,\n",
    "    )\n",
    "    return r"
   ],
   "metadata": {
    "collapsed": false,
    "pycharm": {
     "name": "#%%\n"
    }
   }
  },
  {
   "cell_type": "code",
   "execution_count": 8,
   "outputs": [],
   "source": [
    "# credenciales:\n",
    "credentials = load_credentials(file_path=\"auth/twitter_credentials.json\")\n",
    "\n",
    "# app auth:\n",
    "app_auth = get_app_auth(access_token=credentials[\"BEARER_TOKEN\"])\n",
    "\n",
    "# user auth:\n",
    "user_auth = get_user_auth(\n",
    "    consumer_key=credentials[\"CONSUMER_KEY\"],\n",
    "    consumer_secret=credentials[\"CONSUMER_SECRET\"],\n",
    "    access_token=credentials[\"ACCESS_TOKEN\"],\n",
    "    access_secret=credentials[\"ACCESS_SECRET\"],\n",
    ")"
   ],
   "metadata": {
    "collapsed": false,
    "pycharm": {
     "name": "#%%\n"
    }
   }
  },
  {
   "cell_type": "markdown",
   "source": [
    "Una vez tenemos todos los ingredientes, podemos proceder con nuestra primera\n",
    "consulta. Por ejemplo, podemos pedir nuestro identificador de usuario:"
   ],
   "metadata": {
    "collapsed": false,
    "pycharm": {
     "name": "#%% md\n"
    }
   }
  },
  {
   "cell_type": "code",
   "execution_count": 15,
   "outputs": [
    {
     "name": "stdout",
     "output_type": "stream",
     "text": [
      "status code: 200\n",
      "result = {'data': {'id': '1480491463410700289', 'name': 'Miguel Duran', 'username': 'madolivencia'}}\n"
     ]
    }
   ],
   "source": [
    "user_name = \"madolivencia\"\n",
    "\n",
    "url = f\"{base_api_url_v2}/users/by/username/{user_name}\"\n",
    "\n",
    "result = session.get(\n",
    "    url=url,\n",
    "    auth=user_auth\n",
    ")\n",
    "print(f\"status code: {result.status_code}\")\n",
    "print(f\"result: {result.json()}\")"
   ],
   "metadata": {
    "collapsed": false,
    "pycharm": {
     "name": "#%%\n"
    }
   }
  },
  {
   "cell_type": "markdown",
   "source": [
    "Como puedes observar, el resultado de la petición indica que la petición ha\n",
    "sido procesada correctamente (`status_code = 200`) y que la respuesta correspondiente\n",
    "está encapsulada en un diccionario que contiene el `id`, `nombre` y `username`.\n",
    "Enhorabuena! Ya hemos hecho nuestra primera petición con éxito 🥳\n",
    "\n",
    "Ahora será interesante que te familiarices con algunos el [modelo de datos de\n",
    "Twitter](https://developer.twitter.com/en/docs/twitter-api/data-dictionary/introduction), así como los principales *end points* para extraer información.\n",
    "En el bloque siguiente puedes encontrar algunas definiciones que te pueden ser\n",
    "útil para seguir experimentando (consultar la [documentación](https://developer.twitter.com/en/docs/twitter-api)\n",
    "para entender como acceder a otros datos):"
   ],
   "metadata": {
    "collapsed": false,
    "pycharm": {
     "name": "#%% md\n"
    }
   }
  },
  {
   "cell_type": "code",
   "execution_count": 17,
   "outputs": [],
   "source": [
    "def get_tweets(ids: list, auth: Union[OAuth1Auth, OAuth2Auth]):\n",
    "    \"\"\"Gets tweets by their Ids\n",
    "\n",
    "    :param ids: List of Ids of the tweets to be retrieved\n",
    "    :param auth: OAuth object\n",
    "\n",
    "    :return: Dict with the results\n",
    "    \"\"\"\n",
    "    query = {\"ids\": \",\".join(ids)}\n",
    "    search = session.request(\n",
    "        url=f\"{tweets_url_v2}?{urlencode(query)}\",\n",
    "        method=\"GET\",\n",
    "        auth=auth,\n",
    "    ).json()\n",
    "    return search\n",
    "\n",
    "\n",
    "def search_tweets(query: dict, auth: Union[OAuth1Auth, OAuth2Auth]):\n",
    "    \"\"\"Searches tweets via query (how to: https://developer.twitter.com/en/docs/twitter-api/tweets/search/integrate/build-a-query#build)\n",
    "\n",
    "    :param query: Dict with all the arguments to build the query\n",
    "    :param auth: OAuth object\n",
    "\n",
    "    :return: Dict with the results\n",
    "    \"\"\"\n",
    "    search = session.request(\n",
    "        url=f\"{tweets_url_v2}/search/recent?{urlencode(query)}\",\n",
    "        method=\"GET\",\n",
    "        auth=auth,\n",
    "    ).json()\n",
    "    return search\n",
    "\n",
    "\n",
    "class TweetAction(Enum):\n",
    "    POST = 1\n",
    "    DELETE = 2\n",
    "\n",
    "\n",
    "def tweet(\n",
    "        action: TweetAction,\n",
    "        auth: OAuth1Auth,\n",
    "        id: Optional[str] = None,\n",
    "        data: Optional[dict] = None\n",
    "):\n",
    "    \"\"\"Posts or Deletes Tweet\n",
    "\n",
    "    :param action: TweetAction (either POST, or DELETE)\n",
    "    :param auth: OAuth object (has to be user_auth)\n",
    "    :param id: In case of delete, this is the tweet ID\n",
    "    :param data: In case of post, this is the dictionary {\"text\": \"tweet text\"}\n",
    "\n",
    "    :return: result\n",
    "    \"\"\"\n",
    "    url = f\"{tweets_url_v2}/{id}\" \\\n",
    "        if id and (action == TweetAction.DELETE) \\\n",
    "        else tweets_url_v2\n",
    "\n",
    "    r = session.request(\n",
    "        url=url,\n",
    "        method=action.name,\n",
    "        json=data,\n",
    "        auth=auth,\n",
    "    ).json()\n",
    "    return r"
   ],
   "metadata": {
    "collapsed": false,
    "pycharm": {
     "name": "#%%\n"
    }
   }
  },
  {
   "cell_type": "markdown",
   "source": [
    "Ahora podemos, por ejemplo, buscar un Tweet por su ID:"
   ],
   "metadata": {
    "collapsed": false,
    "pycharm": {
     "name": "#%% md\n"
    }
   }
  },
  {
   "cell_type": "code",
   "execution_count": 19,
   "outputs": [
    {
     "data": {
      "text/plain": "{'data': [{'id': '1261326399320715264',\n   'text': 'Tune in to the @MongoDB @Twitch stream featuring our very own @suhemparack to learn about Twitter Developer Labs - starting now! https://t.co/fAWpYi3o5O'}]}"
     },
     "execution_count": 19,
     "metadata": {},
     "output_type": "execute_result"
    }
   ],
   "source": [
    "id_list = [\"1261326399320715264\"]\n",
    "tweets = get_tweets(ids=id_list, auth=app_auth)\n",
    "tweets"
   ],
   "metadata": {
    "collapsed": false,
    "pycharm": {
     "name": "#%%\n"
    }
   }
  },
  {
   "cell_type": "markdown",
   "source": [
    "O hacer búsquedas avanzadas por texto:"
   ],
   "metadata": {
    "collapsed": false,
    "pycharm": {
     "name": "#%% md\n"
    }
   }
  },
  {
   "cell_type": "code",
   "execution_count": 23,
   "outputs": [
    {
     "data": {
      "text/plain": "{'data': [{'public_metrics': {'retweet_count': 49,\n    'reply_count': 0,\n    'like_count': 0,\n    'quote_count': 0},\n   'id': '1488622337821921290',\n   'lang': 'en',\n   'author_id': '1404915007981248516',\n   'text': \"RT @CristiVlad25: 1000 free seats to learn Python from my perspective. I don't need anything in return.\\nCourse: https://t.co/8aysj9IMtJ\\nCod…\"},\n  {'public_metrics': {'retweet_count': 28,\n    'reply_count': 0,\n    'like_count': 0,\n    'quote_count': 0},\n   'id': '1488620424401498123',\n   'lang': 'en',\n   'author_id': '222450055',\n   'text': \"RT @micahgallen: Friends don't let friends waste time learning to code tasks in eprime or presentation. Just learn python and use psychopy…\"},\n  {'public_metrics': {'retweet_count': 0,\n    'reply_count': 0,\n    'like_count': 1,\n    'quote_count': 0},\n   'id': '1488619454317711362',\n   'lang': 'en',\n   'author_id': '4922631',\n   'text': 'Some good links on how to learn\\xa0Python https://t.co/vsZH8LXkie'},\n  {'public_metrics': {'retweet_count': 1,\n    'reply_count': 0,\n    'like_count': 0,\n    'quote_count': 0},\n   'id': '1488618243187216386',\n   'lang': 'en',\n   'author_id': '603357971',\n   'text': 'RT @DigitalAcademyy: 🐍In this entire Course, You will go through step-by-step Tutorials: Covering your Python Environment Setup, the Basic…'},\n  {'public_metrics': {'retweet_count': 1,\n    'reply_count': 0,\n    'like_count': 1,\n    'quote_count': 0},\n   'id': '1488618221338972161',\n   'lang': 'en',\n   'author_id': '1221171513250013184',\n   'text': '🐍In this entire Course, You will go through step-by-step Tutorials: Covering your Python Environment Setup, the Basic Concepts and Features of Python, with Real-Life Projects to become a #Python #Developer\\n\\nhttps://t.co/iZ7rmZHyvQ'},\n  {'public_metrics': {'retweet_count': 2,\n    'reply_count': 0,\n    'like_count': 0,\n    'quote_count': 0},\n   'id': '1488617445460000775',\n   'lang': 'en',\n   'author_id': '2531006329',\n   'text': 'RT @Ashot_: https://t.co/rh5IfoirL6\\n\\nThis 58-part tutorial will teach you Python through a mix between tutorials and interactive coding cha…'},\n  {'public_metrics': {'retweet_count': 0,\n    'reply_count': 1,\n    'like_count': 5,\n    'quote_count': 0},\n   'id': '1488613025401737222',\n   'lang': 'en',\n   'author_id': '850377892659941376',\n   'text': 'bro i wanted to learn python and now i look at this 😭 tf is going on\\nSTREAMER SMART IG'},\n  {'public_metrics': {'retweet_count': 0,\n    'reply_count': 0,\n    'like_count': 0,\n    'quote_count': 0},\n   'id': '1488612432180551680',\n   'lang': 'en',\n   'author_id': '778151873803067392',\n   'text': 'DataCamp’s bite-sized lessons let you learn on your schedule, on any device. Subscribe to DataCamp to learn Python, R, SQL, spreadsheets, statistics, and more. https://t.co/IujaJWbRlo via @DataCamp'},\n  {'public_metrics': {'retweet_count': 6,\n    'reply_count': 0,\n    'like_count': 0,\n    'quote_count': 0},\n   'id': '1488612245286260736',\n   'lang': 'en',\n   'author_id': '1337430590241562626',\n   'text': 'RT @rasangarocks: Learn Python 3 the Hard Way\\n\\nLink - https://t.co/6OV7PSCvgL\\n\\n#Python #100DaysOfCode #CodeNewbies #WomenWhoCode #DevOps #c…'},\n  {'public_metrics': {'retweet_count': 6,\n    'reply_count': 0,\n    'like_count': 0,\n    'quote_count': 0},\n   'id': '1488612242178326528',\n   'lang': 'en',\n   'author_id': '1364497572509880322',\n   'text': 'RT @rasangarocks: Learn Python 3 the Hard Way\\n\\nLink - https://t.co/6OV7PSCvgL\\n\\n#Python #100DaysOfCode #CodeNewbies #WomenWhoCode #DevOps #c…'},\n  {'public_metrics': {'retweet_count': 6,\n    'reply_count': 0,\n    'like_count': 0,\n    'quote_count': 0},\n   'id': '1488612239330672640',\n   'lang': 'en',\n   'author_id': '1354047563280707586',\n   'text': 'RT @rasangarocks: Learn Python 3 the Hard Way\\n\\nLink - https://t.co/6OV7PSCvgL\\n\\n#Python #100DaysOfCode #CodeNewbies #WomenWhoCode #DevOps #c…'},\n  {'public_metrics': {'retweet_count': 6,\n    'reply_count': 0,\n    'like_count': 0,\n    'quote_count': 0},\n   'id': '1488612222268022795',\n   'lang': 'en',\n   'author_id': '1386109685741260803',\n   'text': 'RT @rasangarocks: Learn Python 3 the Hard Way\\n\\nLink - https://t.co/6OV7PSCvgL\\n\\n#Python #100DaysOfCode #CodeNewbies #WomenWhoCode #DevOps #c…'},\n  {'public_metrics': {'retweet_count': 6,\n    'reply_count': 0,\n    'like_count': 0,\n    'quote_count': 0},\n   'id': '1488612219881279490',\n   'lang': 'en',\n   'author_id': '411419084',\n   'text': 'RT @rasangarocks: Learn Python 3 the Hard Way\\n\\nLink - https://t.co/6OV7PSCvgL\\n\\n#Python #100DaysOfCode #CodeNewbies #WomenWhoCode #DevOps #c…'},\n  {'public_metrics': {'retweet_count': 6,\n    'reply_count': 0,\n    'like_count': 0,\n    'quote_count': 0},\n   'id': '1488612217478127617',\n   'lang': 'en',\n   'author_id': '1084175030953611264',\n   'text': 'RT @rasangarocks: Learn Python 3 the Hard Way\\n\\nLink - https://t.co/6OV7PSCvgL\\n\\n#Python #100DaysOfCode #CodeNewbies #WomenWhoCode #DevOps #c…'},\n  {'public_metrics': {'retweet_count': 6,\n    'reply_count': 0,\n    'like_count': 2,\n    'quote_count': 0},\n   'id': '1488612195319808001',\n   'lang': 'en',\n   'author_id': '3068484222',\n   'text': 'Learn Python 3 the Hard Way\\n\\nLink - https://t.co/6OV7PSCvgL\\n\\n#Python #100DaysOfCode #CodeNewbies #WomenWhoCode #DevOps #code #Coding #LearnToCode #Python3 #DataAnalytics #DataScience #AI #SoftwareEngineering #programming'}],\n 'meta': {'newest_id': '1488622337821921290',\n  'oldest_id': '1488612195319808001',\n  'result_count': 15,\n  'next_token': 'b26v89c19zqg8o3fpe48hjo4wu1l0mjdrqxtky9rt7uyl'}}"
     },
     "execution_count": 23,
     "metadata": {},
     "output_type": "execute_result"
    }
   ],
   "source": [
    "# Example of a more complex query:\n",
    "query_text = {\"query\": '\"learn python\" lang:en',\n",
    "              \"tweet.fields\": \"id,author_id,geo,lang,public_metrics\",\n",
    "              \"max_results\": 15}\n",
    "tweets = search_tweets(query=query_text, auth=app_auth)\n",
    "tweets"
   ],
   "metadata": {
    "collapsed": false,
    "pycharm": {
     "name": "#%%\n"
    }
   }
  },
  {
   "cell_type": "markdown",
   "source": [
    "Publicar un Tweet:"
   ],
   "metadata": {
    "collapsed": false,
    "pycharm": {
     "name": "#%% md\n"
    }
   }
  },
  {
   "cell_type": "code",
   "execution_count": 24,
   "outputs": [
    {
     "data": {
      "text/plain": "{'data': {'id': '1488624509963939841', 'text': 'hello world!'}}"
     },
     "execution_count": 24,
     "metadata": {},
     "output_type": "execute_result"
    }
   ],
   "source": [
    "tweet_post = {\"text\": \"hello world!\"}\n",
    "\n",
    "# create tweet:\n",
    "publish_response = tweet(\n",
    "    action=TweetAction.POST,\n",
    "    data=tweet_post,\n",
    "    auth=user_auth,\n",
    ")\n",
    "\n",
    "publish_response"
   ],
   "metadata": {
    "collapsed": false,
    "pycharm": {
     "name": "#%%\n"
    }
   }
  },
  {
   "cell_type": "markdown",
   "source": [
    "O borrarlo:"
   ],
   "metadata": {
    "collapsed": false,
    "pycharm": {
     "name": "#%% md\n"
    }
   }
  },
  {
   "cell_type": "code",
   "execution_count": 26,
   "outputs": [
    {
     "data": {
      "text/plain": "{'data': {'deleted': True}}"
     },
     "execution_count": 26,
     "metadata": {},
     "output_type": "execute_result"
    }
   ],
   "source": [
    "tweet_id = publish_response[\"data\"][\"id\"]\n",
    "delete_response = tweet(\n",
    "    action=TweetAction.DELETE,\n",
    "    id=tweet_id,\n",
    "    auth=user_auth,\n",
    ")\n",
    "delete_response\n"
   ],
   "metadata": {
    "collapsed": false,
    "pycharm": {
     "name": "#%%\n"
    }
   }
  }
 ],
 "metadata": {
  "kernelspec": {
   "display_name": "Python 3 (ipykernel)",
   "language": "python",
   "name": "python3"
  },
  "language_info": {
   "codemirror_mode": {
    "name": "ipython",
    "version": 3
   },
   "file_extension": ".py",
   "mimetype": "text/x-python",
   "name": "python",
   "nbconvert_exporter": "python",
   "pygments_lexer": "ipython3",
   "version": "3.8.12"
  }
 },
 "nbformat": 4,
 "nbformat_minor": 5
}