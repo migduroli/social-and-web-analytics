{
 "cells": [
  {
   "cell_type": "markdown",
   "id": "2ead9f54",
   "metadata": {},
   "source": [
    "### Usando Tweepy\n",
    "\n",
    "Para la ejecución de este código necesitarás haber instalado la librería\n",
    "`tweepy` ([docu](https://docs.tweepy.org/en/stable/client.html)). La ventaja\n",
    "de usar `tweepy` es el ahorro en el esfuerzo de construir clases para representar\n",
    "la estructura de datos de Twitter, además de beneficiarnos de los wrappers de\n",
    "los métodos de adquisición de datos expuestos por Twitter (algunos de los cuales\n",
    "ya hemos visto en el [tutorial anterior](twitter-api-v2-raw.ipynb)).\n",
    "\n",
    "Al igual que antes, requeriremos el tener los credenciales en un fichero\n",
    "`JSON`, de donde los leeremos para la creación de los objetos OAuth:"
   ]
  },
  {
   "cell_type": "code",
   "execution_count": 6,
   "id": "9a80c41c",
   "metadata": {},
   "outputs": [],
   "source": [
    "import tweepy\n",
    "import json\n",
    "\n",
    "def get_credentials(file: dict):\n",
    "    \"\"\"Reads credential from json file\n",
    "    :param file: JSON file with CONSUMER and ACCESS TOKE and SECRET values\n",
    "    :return: dict\n",
    "    \"\"\"\n",
    "    with open(file, \"r\") as file:\n",
    "        result = json.load(file)\n",
    "        return result\n",
    "\n",
    "creds = get_credentials(file=\"../../auth/twitter_credentials.json\")\n",
    "\n",
    "api_v2 = tweepy.Client(\n",
    "    bearer_token=creds[\"BEARER_TOKEN\"],\n",
    "    consumer_key=creds[\"CONSUMER_KEY\"],\n",
    "    consumer_secret=creds[\"CONSUMER_SECRET\"],\n",
    "    access_token=creds[\"ACCESS_TOKEN\"],\n",
    "    access_token_secret=creds[\"ACCESS_SECRET\"],\n",
    "    wait_on_rate_limit=True,\n",
    ")"
   ]
  },
  {
   "cell_type": "markdown",
   "source": [
    "Lo primero que podemos hacer es una búsqueda, para así comprobar la sencillez\n",
    "que ofrece:"
   ],
   "metadata": {
    "collapsed": false,
    "pycharm": {
     "name": "#%% md\n"
    }
   }
  },
  {
   "cell_type": "code",
   "execution_count": 7,
   "outputs": [
    {
     "data": {
      "text/plain": "[<Tweet id=1488573858198130690 text=Do you use Twarc from @documentnow for getting data from #TwitterAPI for your research? Join us this Friday to learn from Twitter Developer Insider @IgorBrigadir who is a contributor (and super user) of Twarc to learn how you can get the most out of it 📊 https://t.co/TupdnLCXCB>,\n <Tweet id=1488559232324562945 text=@Cataranea @noamross BTW academic researchers can get data from the full-archive of public Tweets (i.e. older than 7 days) for free Check out 👉https://t.co/xRPnqYBUkV>,\n <Tweet id=1487958483060199433 text=Happy (belated) 1st Birthday to the academic research product track of the #TwitterAPI v2 🎂🎉🥳\n \n Over the last year, researchers have used it to study the conversation around covid, misinformation, polarization and more\n \n How are you using it for your research? https://t.co/uZLQtE3zM1>,\n <Tweet id=1487537194671558657 text=10K downloads for the academictwitteR package 🔥🔥 Well done @justin_ct_ho @cbarrie @chainsawriot 👏👏 https://t.co/O1a1GXXTMb>,\n <Tweet id=1487123405253922819 text=We are live now! Join us on https://t.co/os7lbwfN7k 📺 https://t.co/NI5dal8SLv>,\n <Tweet id=1486762915457810435 text=Students &amp; Researchers 🚨 Hope to see y'all tomorrow. @thatmchen will be joining us to share how her lab curates and maintains their public Twitter data repositories on GitHub! https://t.co/Y9oF5T0b6o>]"
     },
     "execution_count": 7,
     "metadata": {},
     "output_type": "execute_result"
    }
   ],
   "source": [
    "query = 'from:suhemparack -is:retweet'\n",
    "tweet_fields = [\n",
    "    'author_id',\n",
    "    'id',\n",
    "    'context_annotations',\n",
    "    'created_at',\n",
    "]\n",
    "max_results = 10\n",
    "tweets = api_v2.search_recent_tweets(\n",
    "    query=query,\n",
    "    tweet_fields=tweet_fields,\n",
    "    max_results=max_results,\n",
    ")\n",
    "tweets.data"
   ],
   "metadata": {
    "collapsed": false,
    "pycharm": {
     "name": "#%%\n"
    }
   }
  },
  {
   "cell_type": "markdown",
   "source": [
    "Así podemos seguir con la búsqueda de followers:"
   ],
   "metadata": {
    "collapsed": false,
    "pycharm": {
     "name": "#%% md\n"
    }
   }
  },
  {
   "cell_type": "code",
   "execution_count": 8,
   "outputs": [
    {
     "name": "stderr",
     "output_type": "stream",
     "text": [
      "Rate limit exceeded. Sleeping for 365 seconds.\n"
     ]
    },
    {
     "data": {
      "text/plain": "[<User id=1488641872302067720 name=n0s3 j4j4 username=lulitauwuxdd>,\n <User id=1488642278763769857 name=cuentasreynaldoarturo@gmail.com username=exdiuwu>,\n <User id=1488639859363299334 name=Facundo username=Facundo72605527>,\n <User id=156496195 name=freddy tempos username=freddy_t1974>,\n <User id=1488641281563807744 name=Jesus Cardenas username=JesusCa65721388>,\n <User id=1252022284023447552 name=Mariana Ramírez username=Mariana70307709>,\n <User id=1488641554814275585 name=Mario Ruiz Alonso username=marioruizalonso>,\n <User id=1433864785825878018 name=ASHURA光 username=FelipeF96322147>,\n <User id=1487908674924421122 name=Vamy_jamón username=VamyJamon>,\n <User id=1446271986380988423 name=Julieta ‽ username=julisusaye>,\n <User id=1488641324119207947 name=Leonel Gonzalez username=Leo305xd>,\n <User id=1308585128512442368 name=nachoo username=naxoossj>,\n <User id=1488640819741564938 name=Alan Pineda username=AlanPienda01>,\n <User id=1488641630919958533 name=Pedro Antonio Bas Barrera username=PedroAn26818141>,\n <User id=1488639931379552261 name=Gcjmturjmur username=aguita0de0limon>,\n <User id=1418264194298880016 name=Moises Ortega username=27Moises09>,\n <User id=1483670853221027844 name=Isaac MJ username=IsaacMJ5842>,\n <User id=1488641243424993285 name=Sebastian Sanzhes username=SSanzhes>,\n <User id=1488641204329852930 name=Jadiel Pineda username=holauhh>,\n <User id=1476931398711795717 name=Bi4nc4._ username=BiancaBaltaza23>,\n <User id=1488640530951114757 name=Sunny username=iSunnysq>,\n <User id=1488641576788103172 name=exeky3 username=exeky3>,\n <User id=1488639911381057542 name=dayibeth posso martinez username=dayibeth_posso>,\n <User id=1488641271166025728 name=angyy username=angyy_cott>,\n <User id=1488640799248109570 name=Imane username=imanee_06>,\n <User id=1485716009290022915 name=SubTe Promoción y Difusión username=SubteY>,\n <User id=1488641396265340935 name=Janely Abad Marin username=AbadJanely>,\n <User id=1488641624712298496 name=Adam username=Adam59720653>,\n <User id=1488641103448444937 name=Alberto Velazquez username=Albertobv17>,\n <User id=1488640031329824775 name=Https-biaxca username=HBiaxca>,\n <User id=1487174208924884992 name=Anbhfyys username=anbhfyys2>,\n <User id=1484196827029127173 name=Joselyn username=Joselyn_N_C>,\n <User id=1226991219651284993 name=Jose perez username=Joseper99123773>,\n <User id=1488640747805065217 name=💞𝑀𝑎𝑟𝑎𝑛𝑑𝑖𝑛𝑖𝑡𝑎💫 username=marandinita09>,\n <User id=1488639600386088962 name=5 username=otrkzzz>,\n <User id=1488640871146872835 name=DieblackBL username=Diego_BL_xx>,\n <User id=1409386621737316353 name=spreenpro username=AracelyDaneska>,\n <User id=1488640995063439360 name=Salomon Iguaran username=salomoniguaran>,\n <User id=1488640900221784068 name=Sara De la paz nuñez username=isethstark83>,\n <User id=1488641192053166080 name=Vicente Pacheco username=Vicente43997814>,\n <User id=1488639935976460290 name=ABUL KALAM AZAD username=ABULKAL64503121>,\n <User id=1488640703831764994 name=Adolfo Corral username=AdolfoCorral9>,\n <User id=1488639669730525188 name=Danna Paulina username=Dannapaul273121>,\n <User id=1488640675776188422 name=Arvin username=ArvinSil71207>,\n <User id=1488638936230543365 name=Guillem lopez teruel username=lopezteruelg>,\n <User id=1488640348301709313 name=Mari_ctm username=c_p9_>,\n <User id=1464602252941967361 name=:)antoBANGTAN♡°🌌 username=AntonelaGamarr3>,\n <User id=1178057708374827008 name=t•p•w•k username=mjrdzacst>,\n <User id=896537551342886912 name=War 5538274 username=War5538274>,\n <User id=1488640647611531269 name=lalomengamer Meneses username=lalomengamer>,\n <User id=1488641031415418889 name=Mario Madrolos username=MMadrolos>,\n <User id=1488640192349188097 name=JoserraFN username=JoserraFn>,\n <User id=1488640067518308355 name=Criis Trujillo username=Criis_trujillo>,\n <User id=1488639583080394755 name=Sebas m username=chilicatsu24>,\n <User id=1488639629435846661 name=Miguel Manchia username=ManchiaMiguel>,\n <User id=1446158120934330370 name=AFK bros username=lUCASXD10406792>,\n <User id=1488640068067733516 name=Claudia username=Claudia34160653>,\n <User id=1488640705207717889 name=Aleidy Bermudez Delgado username=aleidy_bermudez>,\n <User id=1488638802482667522 name=Alexa username=_Alexa_189>,\n <User id=1488605538887819268 name=Yornellys🎀 username=Yornellys_19>,\n <User id=1488640210497847301 name=Darwin Zurita username=darwin_zuritav>,\n <User id=1488639924937056256 name=lilketa username=lilketaa>,\n <User id=1484704739208138760 name=Aria username=Aria02145935>,\n <User id=1488638745553379339 name=r3ze username=ReZeRoo0>,\n <User id=1134216677502214146 name=Juan Morales Pascual username=JuanMoralesPas1>,\n <User id=1475938098924204039 name=liam username=chifgh0st>,\n <User id=1488640631194988546 name=Caled Aguilar Caceres username=CaceresCaled>,\n <User id=1488639628991246341 name=Jeshua username=NewEsse88>,\n <User id=1436013604533272577 name=Jsjsksk username=gonzaloglzb>,\n <User id=1488640028096012292 name=Raptor Gutiérrez Vilaseca username=RaptorVilaseca>,\n <User id=1488639744162467846 name=Juan username=juanlujan8974>,\n <User id=1488639253378744320 name=Cristian Portillo username=Elnecta7>,\n <User id=1488639358525652997 name=Huevito :) username=Huevito255>,\n <User id=1488640365150224393 name=Jinx Nede username=JinxNede>,\n <User id=1366962858521690114 name=LeopoldoBv username=Leopoldo31416>,\n <User id=1488639086344691716 name=Brandon Alarcón username=Takeshi01923>,\n <User id=1488639896105459714 name=Dayesky Cárdenas username=c_dayesky>,\n <User id=1488634872990212108 name=Juan username=jeravagli>,\n <User id=1488638963061600260 name=Said Cárdenas username=Saidcrlo>,\n <User id=1488640031703146499 name=Nicolas Loquendo14 username=NLoquendo14>,\n <User id=1488640396699873280 name=Obed username=Obed69111293>,\n <User id=1388008633095573505 name=ali🇵🇪 username=i81HSLTi>,\n <User id=1488639615787585537 name=Alejandro Arias Aspiazu username=ariasaspiazu2>,\n <User id=1488640113043288071 name=Gabii Gonzalez username=GabiiGo51988629>,\n <User id=1488640098136727555 name=Kevin Esquivel username=KevinEs00903045>,\n <User id=1488636432046567428 name=Luis guevara username=luis_guevara21>,\n <User id=1488639846130225153 name=Arnold Ohara username=OharaArnold>,\n <User id=323006380 name=58 username=gatolopez98>,\n <User id=1488638720190337024 name=Lalaa♡ username=SoyyLalaa>,\n <User id=1488376231670157314 name=Jesús Mss username=jesus_mss>,\n <User id=1472261065044021254 name=pow3rツ username=faborke>,\n <User id=1488340250380292100 name=al username=almaantonelli>,\n <User id=1488639690928439298 name=ppalcam username=PaulPal57386883>,\n <User id=1488639800789852167 name=LedElPibePatata username=ElPibePotato>,\n <User id=988940898661752833 name=Caramelito de kepchup username=Caramlitokepchu>,\n <User id=1488639115075764230 name=Wuicho_tik_tok username=wuicho_tik_tok>,\n <User id=1488639830028390400 name=@sneider_gerena username=GerenaSneider>,\n <User id=1488635474281476100 name=Guzmán Villar Sofía username=SoftGV05>,\n <User id=1488638127530987520 name=Tini_UwU username=Tini_UwU4>,\n <User id=1479406701308784643 name=Evie username=i_whiiteee>]"
     },
     "execution_count": 8,
     "metadata": {},
     "output_type": "execute_result"
    }
   ],
   "source": [
    "user_id = \"398306220\"\n",
    "max_results = 10\n",
    "followers = api_v2.get_users_followers(\n",
    "    id=user_id,\n",
    ")\n",
    "followers.data"
   ],
   "metadata": {
    "collapsed": false,
    "pycharm": {
     "name": "#%%\n"
    }
   }
  },
  {
   "cell_type": "markdown",
   "source": [
    "El número máximo por página de resultados (ver [paginación](https://developer.twitter.com/en/docs/twitter-api/pagination))\n",
    "es 100. Esto significa que si queremos acceder a más de 100 followers, tendremos que de alguna\n",
    "forma acceder a la siguiente página. Para ello, la API de Tweeter nos devuelve en sus resultados\n",
    "una parte de `metadata`, donde nos da un token que debemos pasar en la próxima petición.\n",
    "Trabajando con tweepy, esto se hace de la siguiente forma:"
   ],
   "metadata": {
    "collapsed": false,
    "pycharm": {
     "name": "#%% md\n"
    }
   }
  },
  {
   "cell_type": "code",
   "execution_count": null,
   "outputs": [],
   "source": [
    "max_items = 10\n",
    "max_results = 5\n",
    "tweets = []\n",
    "for tweet in tweepy.Paginator(\n",
    "        api_v2.get_users_followers,\n",
    "        id=user_id,\n",
    "        max_results=max_results).flatten(limit=max_items):\n",
    "    tweets += [tweet]\n",
    "\n",
    "len(tweets)"
   ],
   "metadata": {
    "collapsed": false,
    "pycharm": {
     "name": "#%%\n"
    }
   }
  },
  {
   "cell_type": "markdown",
   "source": [
    "También podemos buscar tweets recientes, como ya hicimos con la API directamente:\n"
   ],
   "metadata": {
    "collapsed": false,
    "pycharm": {
     "name": "#%% md\n"
    }
   }
  },
  {
   "cell_type": "code",
   "execution_count": 8,
   "outputs": [],
   "source": [
    "query: str = \"djokovic -is:retweet lang:en\"\n",
    "tweet_fields = [\n",
    "    'context_annotations',\n",
    "    'created_at',\n",
    "    'author_id',\n",
    "]\n",
    "max_results = 10\n",
    "max_items = 50\n",
    "\n",
    "tweets = [\n",
    "    tweet\n",
    "    for tweet in tweepy.Paginator(\n",
    "        api_v2.search_recent_tweets,\n",
    "        query=query,\n",
    "        tweet_fields=tweet_fields,\n",
    "        max_results=max_results).flatten(limit=max_items)\n",
    "]\n",
    "tweets"
   ],
   "metadata": {
    "collapsed": false,
    "pycharm": {
     "name": "#%%\n"
    }
   }
  },
  {
   "cell_type": "code",
   "execution_count": null,
   "outputs": [],
   "source": [
    "# Replace with your own search query\n",
    "import pandas as pd\n",
    "import plotly.express as px\n",
    "\n",
    "data = [{\"date\": d.created_at, \"text\": d.text} for d in tweets]\n",
    "words = [d[\"text\"].split() for d in data]\n",
    "words = sum(words, [])\n",
    "\n",
    "df = pd.DataFrame({\"words\": words})\n",
    "fig = px.histogram(df, x=\"words\").update_xaxes(categoryorder=\"total descending\")\n",
    "fig.show()"
   ],
   "metadata": {
    "collapsed": false,
    "pycharm": {
     "name": "#%%\n"
    }
   }
  },
  {
   "cell_type": "markdown",
   "source": [
    "Otro concepto bastante útil para analítica son los *timelines*, que básicamente\n",
    "nos permiten acceder a los tweets de un usuario en un intervalo de tiempo:"
   ],
   "metadata": {
    "collapsed": false,
    "pycharm": {
     "name": "#%% md\n"
    }
   }
  },
  {
   "cell_type": "code",
   "execution_count": null,
   "outputs": [],
   "source": [
    "import datetime\n",
    "\n",
    "def get_timeline(\n",
    "        id: str,\n",
    "        tweet_fields: list,\n",
    "        max_results: int,\n",
    "        max_items: int,\n",
    "        start_time: datetime,\n",
    "):\n",
    "    tweets = [\n",
    "        tweet\n",
    "        for tweet in tweepy.Paginator(\n",
    "            api_v2.get_users_tweets,\n",
    "            id=id,\n",
    "            start_time=start_time.strftime(\"%Y-%m-%dT00:00:00+00:00\"),\n",
    "            tweet_fields=tweet_fields,\n",
    "            max_results=max_results).flatten(limit=max_items)\n",
    "    ]\n",
    "\n",
    "    return tweets\n",
    "\n",
    "timeline = get_timeline(\n",
    "    id=\"398306220\",\n",
    "    tweet_fields=[\n",
    "        \"id\",\n",
    "        \"created_at\",\n",
    "        \"public_metrics\",\n",
    "        \"context_annotations\",\n",
    "    ],\n",
    "    max_results=10,\n",
    "    max_items=20,\n",
    "    start_time=(datetime.datetime.now(datetime.timezone.utc)\n",
    "                - datetime.timedelta(days=7))\n",
    ")\n",
    "\n",
    "timeline"
   ],
   "metadata": {
    "collapsed": false,
    "pycharm": {
     "name": "#%%\n"
    }
   }
  }
 ],
 "metadata": {
  "kernelspec": {
   "display_name": "Python 3 (ipykernel)",
   "language": "python",
   "name": "python3"
  },
  "language_info": {
   "codemirror_mode": {
    "name": "ipython",
    "version": 3
   },
   "file_extension": ".py",
   "mimetype": "text/x-python",
   "name": "python",
   "nbconvert_exporter": "python",
   "pygments_lexer": "ipython3",
   "version": "3.8.12"
  }
 },
 "nbformat": 4,
 "nbformat_minor": 5
}