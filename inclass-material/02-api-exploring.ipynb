{
 "cells": [
  {
   "cell_type": "code",
   "execution_count": 1,
   "metadata": {},
   "outputs": [],
   "source": [
    "import json\n",
    "import googleapiclient.discovery\n",
    "\n",
    "# API information\n",
    "api_service_name = \"youtube\"\n",
    "api_version = \"v3\"\n",
    "\n",
    "# API key\n",
    "with open(\"../auth/youtube_credentials.json\") as file:\n",
    "    credentials = json.load(file)\n",
    "\n",
    "DEVELOPER_KEY = credentials[\"DEVELOPER_KEY\"]\n",
    "\n",
    "# API client\n",
    "youtube = googleapiclient.discovery.build(\n",
    "    serviceName=api_service_name,\n",
    "    version=api_version,\n",
    "    developerKey=DEVELOPER_KEY\n",
    ")"
   ]
  },
  {
   "cell_type": "code",
   "execution_count": 2,
   "metadata": {},
   "outputs": [],
   "source": [
    "channel_id = \"UCXazgXDIYyWH-yXLAkcrFxw\""
   ]
  },
  {
   "cell_type": "code",
   "execution_count": 3,
   "metadata": {},
   "outputs": [
    {
     "name": "stdout",
     "output_type": "stream",
     "text": [
      "2021-09-01T00:00:00Z\n"
     ]
    }
   ],
   "source": [
    "import datetime\n",
    "start_date = datetime.datetime(2021,9,1,0,0,0)\n",
    "start_date_str = start_date.strftime('%Y-%m-%dT%H:%M:%SZ')\n",
    "\n",
    "print(start_date_str)\n",
    "response = youtube.search().list(\n",
    "    part=\"id,snippet\", \n",
    "    channelId='UCXazgXDIYyWH-yXLAkcrFxw',\n",
    "    order=\"date\",\n",
    "    publishedAfter=start_date_str\n",
    ").execute()"
   ]
  },
  {
   "cell_type": "code",
   "execution_count": 4,
   "metadata": {},
   "outputs": [],
   "source": [
    "import datetime\n",
    "\n",
    "video_list = []\n",
    "for video in response[\"items\"]:\n",
    "    video_id = video[\"id\"][\"videoId\"]\n",
    "    video = youtube.videos().list(\n",
    "        id=video_id,\n",
    "        part=\"id,snippet,statistics\",\n",
    "    ).execute()\n",
    "    \n",
    "    published_at_str = video[\"items\"][0]['snippet']['publishedAt'][:-1]\n",
    "    published_at = datetime.datetime.fromisoformat(published_at_str).date()\n",
    "    \n",
    "    if (published_at <= start_date.date()):\n",
    "        print(f\"date: {published_at_str} is older than start date\")\n",
    "        break\n",
    "    video_list += [video]"
   ]
  },
  {
   "cell_type": "code",
   "execution_count": 8,
   "metadata": {},
   "outputs": [],
   "source": [
    "# video_list"
   ]
  },
  {
   "cell_type": "code",
   "execution_count": 6,
   "metadata": {},
   "outputs": [],
   "source": [
    "import tweepy\n",
    "import json"
   ]
  },
  {
   "cell_type": "code",
   "execution_count": 2,
   "metadata": {},
   "outputs": [],
   "source": [
    "import tweepy\n",
    "import json\n",
    "\n",
    "def get_credentials(file: dict):\n",
    "    \"\"\"Reads credential from json file\n",
    "    :param file: JSON file with CONSUMER and ACCESS TOKE and SECRET values\n",
    "    :return: dict\n",
    "    \"\"\"\n",
    "    with open(file, \"r\") as file:\n",
    "        result = json.load(file)\n",
    "        return result\n",
    "\n",
    "creds = get_credentials(file=\"auth/twitter_credentials.json\")\n",
    "\n",
    "api_v2 = tweepy.Client(\n",
    "    bearer_token=creds[\"BEARER_TOKEN\"],\n",
    "    consumer_key=creds[\"CONSUMER_KEY\"],\n",
    "    consumer_secret=creds[\"CONSUMER_SECRET\"],\n",
    "    access_token=creds[\"ACCESS_TOKEN\"],\n",
    "    access_token_secret=creds[\"ACCESS_SECRET\"],\n",
    "    wait_on_rate_limit=True,\n",
    ")"
   ]
  },
  {
   "cell_type": "code",
   "execution_count": 7,
   "metadata": {},
   "outputs": [],
   "source": [
    "AUTH = tweepy.OAuthHandler(\n",
    "    creds[\"CONSUMER_KEY\"],\n",
    "    creds[\"CONSUMER_SECRET\"]\n",
    ")\n",
    "AUTH.set_access_token(\n",
    "    creds[\"ACCESS_TOKEN\"],\n",
    "    creds[\"ACCESS_SECRET\"],\n",
    ")\n",
    "\n",
    "API_V1 = tweepy.API(\n",
    "    auth=AUTH,\n",
    "    wait_on_rate_limit=True,\n",
    ")"
   ]
  },
  {
   "cell_type": "code",
   "execution_count": 7,
   "metadata": {},
   "outputs": [],
   "source": [
    "# API_V1.get_status(\"1212092628029698048\")"
   ]
  }
 ],
 "metadata": {
  "kernelspec": {
   "display_name": "Python 3",
   "language": "python",
   "name": "python3"
  },
  "language_info": {
   "codemirror_mode": {
    "name": "ipython",
    "version": 3
   },
   "file_extension": ".py",
   "mimetype": "text/x-python",
   "name": "python",
   "nbconvert_exporter": "python",
   "pygments_lexer": "ipython3",
   "version": "3.7.6"
  }
 },
 "nbformat": 4,
 "nbformat_minor": 4
}
